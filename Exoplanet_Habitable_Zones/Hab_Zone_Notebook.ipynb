{
 "cells": [
  {
   "attachments": {},
   "cell_type": "markdown",
   "metadata": {},
   "source": [
    "# Habitable Zone Project Notebook\n",
    "\n"
   ]
  },
  {
   "cell_type": "code",
   "execution_count": null,
   "metadata": {},
   "outputs": [],
   "source": [
    "# Imports\n",
    "import numpy as np # this does math\n",
    "import pandas as pd # this is pandas, which we're going to use to manage our spreadsheet of exoplanet systems\n",
    "import matplotlib.pyplot as plt # this lets us plot things\n"
   ]
  },
  {
   "attachments": {},
   "cell_type": "markdown",
   "metadata": {},
   "source": [
    "## Exoplanet Data -- Practice with Pandas\n",
    "\n",
    "The NASA exoplanet archive (https://exoplanetarchive.ipac.caltech.edu/) keep track of all of the known exoplanet systems. We'll start by reading in the data from the exoplanet archive into something called a data frame (basically just a spreadsheet that we can use to organize the planet systems and their properties). \n",
    "\n",
    "First, go to the exoplanet archive and click on the 'data' tab and then 'planetary systems'. You should see a large table. Each row is a planetary system, and the columns list some of the properties for each system. The file 'Exo_Archive.csv' is just a downloaded version of the exoplanets archive table. \n",
    "\n",
    "To work with the table of exoplanet data, we're going to be using a tool called 'pandas' (https://www.w3schools.com/python/pandas/pandas_intro.asp). The first part of this notebook will give a tutorial on how to use pandas. \n",
    "\n",
    "Skills: Using pandas to work with data tables, plotting with matplotlib "
   ]
  },
  {
   "cell_type": "code",
   "execution_count": null,
   "metadata": {},
   "outputs": [],
   "source": [
    "# First, let's read in the data and practice working with a data table\n",
    "data = pd.read_csv('Exo_Archive.csv', index_col='pl_name')\n",
    "data #This displays the table. You can just think of it as a regular spreadsheet, with row and column names. "
   ]
  },
  {
   "cell_type": "code",
   "execution_count": null,
   "metadata": {},
   "outputs": [],
   "source": [
    "# Practice retrieving data from the data frame\n",
    "# The data frame has an index (the planet names) and different columns. \n",
    "# The full list of column names and what they mean can be found here: https://exoplanetarchive.ipac.caltech.edu/docs/API_PS_columns.html, but we'll point out some of the most important columns in this tutorial\n",
    "\n",
    "# We can pull out a single row from the table by specifying an index label (planet name)\n",
    "# When doing a row index, we have to put \".loc\" to let pandas know we're giving it an index label\n",
    "print(data.loc['51 Peg b'])"
   ]
  },
  {
   "cell_type": "code",
   "execution_count": null,
   "metadata": {},
   "outputs": [],
   "source": [
    "# We can also get a column by specifying a column name (no .loc needed). For example, let's get the list of all masses:\n",
    "print(data['pl_bmasse']) # pl stands for 'planet' and bmasse refers to the 'best mass' estimate in Earth masses"
   ]
  },
  {
   "cell_type": "code",
   "execution_count": null,
   "metadata": {},
   "outputs": [],
   "source": [
    "# Finally, we can combine these to retrieve a value from the table by specifying an index and column label. \n",
    "# For example, to get the mass for the planet 51 Peg b we can write:\n",
    "print(data.loc['51 Peg b']['pl_bmasse']) "
   ]
  },
  {
   "cell_type": "code",
   "execution_count": null,
   "metadata": {},
   "outputs": [],
   "source": [
    "# We can also use pandas to quickly search through our data. For example, we can get the largest and smallest values in a column by using .min() and .max()\n",
    "print(data['pl_bmasse'].max()) #This is the largest planet mass (in Earth masses)\n",
    "print(data['pl_bmasse'].min()) #This is the smallest planet mass"
   ]
  },
  {
   "attachments": {},
   "cell_type": "markdown",
   "metadata": {},
   "source": [
    "As we keep working with the data table you'll become more familiar with pandas. For now, let's try plotting some of our planet properties. First, plot the orbital period of each planet ('pl_orbper') against it's radius ('pl_rade'). Remember to label your axes! Also, some of the planet properties will have a really large range of values. If a plot looks funky or all bunched up to one side, try making the axis log scale instead. If you feel comfortable, try out plotting for yourself! Or go to the next cell for the solution code. "
   ]
  },
  {
   "cell_type": "code",
   "execution_count": null,
   "metadata": {},
   "outputs": [],
   "source": [
    "# First, we'll plot the orbital period of each planet ('pl_orbper') against it's radius ('pl_rade')\n",
    "plt.scatter(data['pl_orbper'], data['pl_rade']) # plot the data\n",
    "# Label the axes\n",
    "plt.xlabel('Orbital Period (days)')\n",
    "plt.ylabel('Planet Mass (Earth masses)')\n",
    "# Change to log scales (because these numbers will cover a pretty large range)\n",
    "plt.xscale('log')\n",
    "plt.yscale('log')"
   ]
  },
  {
   "attachments": {},
   "cell_type": "markdown",
   "metadata": {},
   "source": [
    "This plot already tells us some interesting things. Fist, where does Earth fall on the plot? How do most exoplanet masses and periods compare to Earth?"
   ]
  },
  {
   "cell_type": "code",
   "execution_count": null,
   "metadata": {},
   "outputs": [],
   "source": [
    "# This time, try plotting mass against radius. You can check the list of column names here: https://exoplanetarchive.ipac.caltech.edu/docs/API_PS_columns.html. "
   ]
  },
  {
   "attachments": {},
   "cell_type": "markdown",
   "metadata": {},
   "source": [
    "## Defining a function -- Habitable Zone Equation\n",
    "Go back to the project guide and work through making an equation to calculate the temperature of a planet based on its distance from the host star. Once you have your two equations we're going to set up a function for each equation. \n",
    "\n",
    "Skill : Writing functions"
   ]
  },
  {
   "cell_type": "code",
   "execution_count": null,
   "metadata": {},
   "outputs": [],
   "source": [
    "# Functions Tutorial\n",
    "# Functions take in some parameters, use those parameters to do something, and then return the results. The structure for a function looks like this:\n",
    "#    def function(input):\n",
    "#        # do some stuff\n",
    "#        return output\n",
    "# For example, let's make a function to add numbers. We'll want to input two numbers, add them, and then return the sum\n",
    "def add(a, b):\n",
    "    sum = a+b\n",
    "    return sum\n",
    "\n",
    "# Now we can use this function whenever we want to add! \n",
    "a = 7\n",
    "b = 14\n",
    "total = add(a, b)\n",
    "print(total)"
   ]
  },
  {
   "cell_type": "code",
   "execution_count": null,
   "metadata": {},
   "outputs": [],
   "source": [
    "# As a practice, let's make a function to turn orbital periods into the radius of the planet away from the star. \n",
    "# a (semi major axis) = ( M * T^2 )^(1/3) ; where M is the mass of the host star in solar masses and T is the period in years\n",
    "# The data table already gives us periods in years and star masses in solar masses, so we just need to read in those values, do the math in the equation above, and return distance a\n",
    "# Have a shot at writing out the funtion\n",
    "\n",
    "def calculate_a(M, T):\n",
    "    return \n",
    "\n",
    "# Now test your function by applying it to the data table!\n",
    "data['pl_a'] = \n"
   ]
  },
  {
   "cell_type": "code",
   "execution_count": null,
   "metadata": {},
   "outputs": [],
   "source": [
    "# Let's make your equations into functions. For each, figure out what inputs you need, write out the equation for the temperature or distance to the planet, and then return the quantity \n",
    "# It is convenient to output distances from the star in AU, so check the units of your equation and make sure to add a conversion in your function if needed!\n",
    "# It's good practice to note down the units for the inputs for your functions, you can do that through comments\n",
    "\n",
    "def T_planet():\n",
    "    # enter your equation here\n",
    "    return\n",
    "\n",
    "def d_planet():\n",
    "\n",
    "    return "
   ]
  },
  {
   "cell_type": "code",
   "execution_count": null,
   "metadata": {},
   "outputs": [],
   "source": [
    "# Now let's test your functions! We'll use the Sun for this example. The temperature of the sun is 5800 K and the radius is 7*10^10 cm. \n",
    "# What temperature would an earth-like planet have? (Earth has a radius of 6400 km and is at 1 AU, remember to convert your units!)\n",
    "T_earth = \n",
    "# The actual temperature of the Earth is aroudn 300 K. How does your answer compare? What might cause any differences between your calculation and the real value? \n",
    "\n",
    "# Given the temperature constraints you came up with for the habitable zone, use your calculator to get the inner and outer radii of the habitable zone\n",
    "d_inner = \n",
    "d_outer = \n",
    "# How do these distances compare with the solar system planets? "
   ]
  },
  {
   "attachments": {},
   "cell_type": "markdown",
   "metadata": {},
   "source": [
    "## Apply your calculator to the Exoplanet Database! \n",
    "Let's go back to the data table we were looking at before! We're going to apply your calculator to every entry in the table. To make sure this will work, double check the column names you'll need to use and the units that each of those columns uses. You'll want the units to match those you wrote down in your calculator.  https://exoplanetarchive.ipac.caltech.edu/docs/API_PS_columns.html Ask a TA if you need any help! \n",
    "\n",
    "Skill: Applying functions to columns in a data table"
   ]
  },
  {
   "cell_type": "code",
   "execution_count": null,
   "metadata": {},
   "outputs": [],
   "source": [
    "# First, let's make two new columns in the data table, one with the inner distance of the habitable zone and one with the outer. Fotr now we'll set both columns to 0\n",
    "data['HZ_inner'] = 0\n",
    "data['HZ_outer'] = 0\n",
    "\n",
    "# While we're at it, let's make one more column that we'll use to mark down any planets within the habitable zone\n",
    "data['planet_in_HZ'] = 0"
   ]
  },
  {
   "cell_type": "code",
   "execution_count": null,
   "metadata": {},
   "outputs": [],
   "source": [
    "# Now we're going to use our function to fill in our two new columns! \n",
    "# We need to tell python that we want the column 'HZ_inner' to be equal to the output of your d_planet function, using the appropriate columns as input. Which temperature for the planet do we want to input? \n",
    "# Have a stab at writing this down as code, and ask for help if you get stuck! \n",
    "\n",
    "\n",
    "# Then do the same thing for the 'HZ_outer' column. Which temperature do we want to use in this case? \n",
    "\n",
    "\n"
   ]
  },
  {
   "attachments": {},
   "cell_type": "markdown",
   "metadata": {},
   "source": [
    "## Check for habitable zone planets using a For loop \n",
    "Now we want to go through our table and for each row, check whether the measured distance between the planet and star (semi-major axis) is within our inner and outer habitable zone bounds\n",
    "\n",
    "There are fancy ways to do this, but for now we're just going to look at each row in turn using a for loop\n",
    "\n",
    "The structure of a for loop looks like this: \n",
    "\n",
    "    for i in [a list]: \n",
    "        # do some things\n",
    "    \n",
    "\n",
    "So for each value of i, we will do some stuff, move to the next value of i and do more stuff, and so on until our list of i values runs out\n",
    "\n",
    "Skill : working with for loops "
   ]
  },
  {
   "cell_type": "code",
   "execution_count": null,
   "metadata": {},
   "outputs": [],
   "source": [
    "# In this cell, we want to write down code that will go through each line of the data table and check if the semi-major axis of the planet in that line is greater the our inner HZ bound and smaller than the outer bound\n",
    "# If it is, set the column 'planet_in_HZ' to 1 for that row\n",
    "# The structure of the code is outlined below, try to fill in the rest!\n",
    "\n",
    "for pl in data.index: #this will loop through every planet in the index column of our data table\n",
    "    if (   ):\n",
    "        data.loc[pl,'planet_in_HZ'] = 1\n",
    "    else:\n",
    "        data.loc[pl,'planet_in_HZ'] = 0"
   ]
  },
  {
   "cell_type": "code",
   "execution_count": null,
   "metadata": {},
   "outputs": [],
   "source": [
    "# Let's take a look at the planets you found! \n",
    "# First, we'll just collect the planets that were in the calculated habitable zones by selecting all the rows of the data table where 'planet_in_HZ' was set to 1:\n",
    "data_HZ = data.loc[data['planet_in_HZ']==1]\n",
    "\n",
    "# Now you can plot the planet properties in the data_HZ table! Take a look at the masses, radii, and periods like we did at the beginning of this notebook. \n"
   ]
  },
  {
   "attachments": {},
   "cell_type": "markdown",
   "metadata": {},
   "source": [
    "## Where should we look for habitable zone planets?\n",
    "As you've seen, the habitable zone depends on the properties of the host star. We classify stars into different types based on properties like temperature and color (https://www.britannica.com/science/stellar-classification). Using your data table, plot the range of the habitable zone against different stellar properties. To show the inner and outer limits of each star's zone, you can use the function plt.axvline(x, ymin, ymax), where ymin and ymax are the inner and outer radii of the zone and x is the value of the stellar property. Try a few different properties (temperature, radius, mass, luminosity) -- you can find a full list at this link, in the stellar properties table https://exoplanetarchive.ipac.caltech.edu/docs/API_PS_columns.html. How do the habitable zones change with stellar properties? "
   ]
  },
  {
   "attachments": {},
   "cell_type": "markdown",
   "metadata": {},
   "source": [
    "Let's think about which habitable zones are the easiest to observe. You can either read about different exoplanet detection methods here, or talk to the exoplanet transit group. Which planets are easiest to detect? Based on this, what types of stars should we be targeting for habitable zone planet searches? "
   ]
  }
 ],
 "metadata": {
  "kernelspec": {
   "display_name": "Python 3 (ipykernel)",
   "language": "python",
   "name": "python3"
  },
  "language_info": {
   "codemirror_mode": {
    "name": "ipython",
    "version": 3
   },
   "file_extension": ".py",
   "mimetype": "text/x-python",
   "name": "python",
   "nbconvert_exporter": "python",
   "pygments_lexer": "ipython3",
   "version": "3.9.12"
  }
 },
 "nbformat": 4,
 "nbformat_minor": 4
}
