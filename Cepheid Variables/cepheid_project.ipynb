{
 "cells": [
  {
   "attachments": {},
   "cell_type": "markdown",
   "metadata": {},
   "source": [
    "# Cepheid Variables & Leavitt's Law: Deriving Distances Across Space"
   ]
  },
  {
   "cell_type": "markdown",
   "metadata": {},
   "source": [
    "## Background\n",
    "Measuring distances is difficult. Unlike on earth where we can just take out a measuring tape, Astronomers have to figure out standards of distance; these standards make up what is known as the Distance Ladder and allow us to measure distances across space with great accuracy.\n",
    "\n",
    "![image](distance_ladder.jpg)\n",
    "\n",
    "One way we can think about measuring distance is with starlight. As you get further from an object, say a light bulb, it appears dimmer; as you move close to an object, it appears brighter. The brightness we measure drops off as an *inverse square law* where we have:\n",
    "$ F = \\frac{L}{4\\pi{r^2}}$.\n",
    "Here, $F$ is the apparent brightness of a star, $L$ is its intrinsic luminosity, and $r$ is our distance from it.  \n",
    "#### Therefore, if know the intrinisc brightness of a star, you can measure its distance based on what you measure as its apparent brightness on Earth. \n",
    "\n",
    "Astronomers, however, often think of brightness in a (confusing) magnitude scale, where larger magnitudes are dimmer and smalller (or more negative) magnitudes represent brighter sources. Astronomers have created the *distance modulus* to represent the *inverse square law* behavoir of starlight in the magnitude scale:\n",
    "### $m - M = 5\\log_{10}(\\frac{d}{10 \\textrm{pc}})$\n",
    "where $m$ is its apparent magnitude (what we see), $M$ is its intrinsic magnitude, and $d$ is its distance in parsecs.\n",
    "\n",
    "In your project, you will be working with Cepheid variables, an important rung of the distance ladder for calibrating distances at *extragalactic scales*. A Cepheid variable is a type of regularly pulsating star with pulsation periods on the order of days to months. In the 1800s while studying a collection of Cepheid variables in a Milky Way satelite galaxy, Henrietta Swan Leavitt discovered that the *logarithm of the pulsation period of Cepheids is lineary related to its intrinsic luminosity*. Therefore, if we observe a Cepheid, we can figure out its intrinsic lumunoisty from its pulsation period, and thus know its distance from the *inverse square law* relationship. Edwin Hubble used Leavitt's Cepheid period relation to find the distance to our nearest galaxy, Andromeda (M31) and proving that M31 is in fact a seperate galaxy from the Milky Way, not a dusty nebular cloud.\n",
    "\n",
    "![image](440px-HSLeavittHSCr13Fig2_1912.jpg)\n",
    "\n",
    "### By the end of this project, you will be able to explain:\n",
    "- How astronomers measure distances across space\n",
    "- Variable stars\n",
    "- Leavitt's law the Period-Luminosity relation"
   ]
  },
  {
   "cell_type": "markdown",
   "metadata": {},
   "source": [
    "## Learning Questions\n",
    "Please watch the following videos and answer these questions below.\n",
    "- Cepheid Variables: https://www.youtube.com/watch?v=BWs-ONRDDG4\n",
    "- The Distance Ladder: https://www.youtube.com/watch?v=rV-Z6jk9Fkw"
   ]
  },
  {
   "cell_type": "markdown",
   "metadata": {},
   "source": [
    "### Q1. What is a Cepheid Variable and why can we measure distances with them?"
   ]
  },
  {
   "cell_type": "markdown",
   "metadata": {},
   "source": []
  },
  {
   "cell_type": "markdown",
   "metadata": {},
   "source": [
    "### Q2. What is the distance ladder?"
   ]
  },
  {
   "cell_type": "markdown",
   "metadata": {},
   "source": []
  },
  {
   "cell_type": "markdown",
   "metadata": {},
   "source": [
    "### Q3. Why are Cepheids a good standard candle?"
   ]
  },
  {
   "cell_type": "markdown",
   "metadata": {},
   "source": []
  },
  {
   "cell_type": "markdown",
   "metadata": {},
   "source": [
    "### Q4. How did Edwin Hubble measure distances to other galaxies?"
   ]
  },
  {
   "cell_type": "markdown",
   "metadata": {},
   "source": []
  },
  {
   "cell_type": "markdown",
   "metadata": {},
   "source": [
    "### Q5. From Earth, the Sun is very bright and has an apparent magnitude of around $m \\sim -27$ mags. Say the Sun is placed 10 parsecs away from us, what is its *absolute magnitude* ($M$)?"
   ]
  },
  {
   "cell_type": "markdown",
   "metadata": {},
   "source": []
  },
  {
   "cell_type": "markdown",
   "metadata": {},
   "source": [
    "## Project: Deriving Leavitt's Law\n",
    "In this project, you will derive your own version of Leavitt's law and estimate the distance to Andromeda (M31), the nearest large galaxy to the Milky Way. "
   ]
  },
  {
   "attachments": {},
   "cell_type": "markdown",
   "metadata": {},
   "source": [
    "## Imports"
   ]
  },
  {
   "cell_type": "code",
   "execution_count": 2,
   "metadata": {},
   "outputs": [],
   "source": [
    "import pandas as pd #for reading in data files\n",
    "import matplotlib.pyplot as plt #for plotting our data\n",
    "import numpy as np #for certain math operations\n",
    "from scipy import polyfit"
   ]
  },
  {
   "cell_type": "markdown",
   "metadata": {},
   "source": [
    "## 1. Learning how to manipulate data: load Cepheid period and V-band magnitude\n",
    "\n",
    "We have a catalog of various Cepheids with their periods ($P$) in years, Absolute Magnitude ($MV$), and Apparent Magnitude ($m$).\n",
    "\n",
    "Galactic cepheid data is from the following catalog: Fernie, J.D., Beattie, B., Evans, N.R., and Seager, S. 1995, IBVS No. 4148"
   ]
  },
  {
   "cell_type": "code",
   "execution_count": 5,
   "metadata": {},
   "outputs": [],
   "source": [
    "# read in cepheid database file (called 'cepheid_db.txt') and call this table c_data\n",
    "c_data = pd.read_table('cepheids_db.txt', sep='\\s+')"
   ]
  },
  {
   "cell_type": "markdown",
   "metadata": {},
   "source": [
    "To see this data, you can simply type the variable c_data:"
   ]
  },
  {
   "cell_type": "code",
   "execution_count": 6,
   "metadata": {},
   "outputs": [
    {
     "data": {
      "text/html": [
       "<div>\n",
       "<style scoped>\n",
       "    .dataframe tbody tr th:only-of-type {\n",
       "        vertical-align: middle;\n",
       "    }\n",
       "\n",
       "    .dataframe tbody tr th {\n",
       "        vertical-align: top;\n",
       "    }\n",
       "\n",
       "    .dataframe thead th {\n",
       "        text-align: right;\n",
       "    }\n",
       "</style>\n",
       "<table border=\"1\" class=\"dataframe\">\n",
       "  <thead>\n",
       "    <tr style=\"text-align: right;\">\n",
       "      <th></th>\n",
       "      <th>ID</th>\n",
       "      <th>STAR</th>\n",
       "      <th>period</th>\n",
       "      <th>m</th>\n",
       "      <th>BV_INTMEAN</th>\n",
       "      <th>EBV</th>\n",
       "      <th>V_AMPL</th>\n",
       "      <th>MV</th>\n",
       "      <th>d</th>\n",
       "      <th>Z</th>\n",
       "      <th>RV_MEAN</th>\n",
       "      <th>RADIUS</th>\n",
       "      <th>BIN</th>\n",
       "      <th>1H?</th>\n",
       "    </tr>\n",
       "  </thead>\n",
       "  <tbody>\n",
       "    <tr>\n",
       "      <th>0</th>\n",
       "      <td>2.0</td>\n",
       "      <td>SZAql</td>\n",
       "      <td>17.140849</td>\n",
       "      <td>8.599</td>\n",
       "      <td>1.389</td>\n",
       "      <td>0.641</td>\n",
       "      <td>1.163</td>\n",
       "      <td>-4.78</td>\n",
       "      <td>1898</td>\n",
       "      <td>-77</td>\n",
       "      <td>10.5</td>\n",
       "      <td>113.8</td>\n",
       "      <td>NaN</td>\n",
       "      <td>NaN</td>\n",
       "    </tr>\n",
       "    <tr>\n",
       "      <th>1</th>\n",
       "      <td>3.0</td>\n",
       "      <td>TTAql</td>\n",
       "      <td>13.754707</td>\n",
       "      <td>7.141</td>\n",
       "      <td>1.292</td>\n",
       "      <td>0.495</td>\n",
       "      <td>1.082</td>\n",
       "      <td>-4.51</td>\n",
       "      <td>1055</td>\n",
       "      <td>-58</td>\n",
       "      <td>1.9</td>\n",
       "      <td>95.8</td>\n",
       "      <td>NaN</td>\n",
       "      <td>NaN</td>\n",
       "    </tr>\n",
       "    <tr>\n",
       "      <th>2</th>\n",
       "      <td>4.0</td>\n",
       "      <td>FFAql</td>\n",
       "      <td>4.470916</td>\n",
       "      <td>5.372</td>\n",
       "      <td>0.756</td>\n",
       "      <td>0.224</td>\n",
       "      <td>0.321</td>\n",
       "      <td>-3.55</td>\n",
       "      <td>441</td>\n",
       "      <td>49</td>\n",
       "      <td>-19.4</td>\n",
       "      <td>NaN</td>\n",
       "      <td>NaN</td>\n",
       "      <td>NaN</td>\n",
       "    </tr>\n",
       "    <tr>\n",
       "      <th>3</th>\n",
       "      <td>5.0</td>\n",
       "      <td>FMAql</td>\n",
       "      <td>6.114230</td>\n",
       "      <td>8.270</td>\n",
       "      <td>1.277</td>\n",
       "      <td>0.646</td>\n",
       "      <td>0.724</td>\n",
       "      <td>-3.48</td>\n",
       "      <td>890</td>\n",
       "      <td>14</td>\n",
       "      <td>-7.0</td>\n",
       "      <td>53.8</td>\n",
       "      <td>NaN</td>\n",
       "      <td>NaN</td>\n",
       "    </tr>\n",
       "    <tr>\n",
       "      <th>4</th>\n",
       "      <td>6.0</td>\n",
       "      <td>FNAql</td>\n",
       "      <td>9.481603</td>\n",
       "      <td>8.382</td>\n",
       "      <td>1.214</td>\n",
       "      <td>0.510</td>\n",
       "      <td>0.564</td>\n",
       "      <td>-4.04</td>\n",
       "      <td>1473</td>\n",
       "      <td>-80</td>\n",
       "      <td>13.1</td>\n",
       "      <td>NaN</td>\n",
       "      <td>NaN</td>\n",
       "      <td>NaN</td>\n",
       "    </tr>\n",
       "    <tr>\n",
       "      <th>...</th>\n",
       "      <td>...</td>\n",
       "      <td>...</td>\n",
       "      <td>...</td>\n",
       "      <td>...</td>\n",
       "      <td>...</td>\n",
       "      <td>...</td>\n",
       "      <td>...</td>\n",
       "      <td>...</td>\n",
       "      <td>...</td>\n",
       "      <td>...</td>\n",
       "      <td>...</td>\n",
       "      <td>...</td>\n",
       "      <td>...</td>\n",
       "      <td>...</td>\n",
       "    </tr>\n",
       "    <tr>\n",
       "      <th>348</th>\n",
       "      <td>500.0</td>\n",
       "      <td>XVul</td>\n",
       "      <td>6.319543</td>\n",
       "      <td>8.849</td>\n",
       "      <td>1.389</td>\n",
       "      <td>0.848</td>\n",
       "      <td>0.769</td>\n",
       "      <td>-3.53</td>\n",
       "      <td>891</td>\n",
       "      <td>-20</td>\n",
       "      <td>-16.1</td>\n",
       "      <td>46.2</td>\n",
       "      <td>NaN</td>\n",
       "      <td>NaN</td>\n",
       "    </tr>\n",
       "    <tr>\n",
       "      <th>349</th>\n",
       "      <td>502.0</td>\n",
       "      <td>ASVul</td>\n",
       "      <td>12.224726</td>\n",
       "      <td>12.251</td>\n",
       "      <td>1.923</td>\n",
       "      <td>1.245</td>\n",
       "      <td>0.919</td>\n",
       "      <td>-4.36</td>\n",
       "      <td>3551</td>\n",
       "      <td>78</td>\n",
       "      <td>NaN</td>\n",
       "      <td>NaN</td>\n",
       "      <td>NaN</td>\n",
       "      <td>NaN</td>\n",
       "    </tr>\n",
       "    <tr>\n",
       "      <th>350</th>\n",
       "      <td>503.0</td>\n",
       "      <td>BRVul</td>\n",
       "      <td>5.197170</td>\n",
       "      <td>10.687</td>\n",
       "      <td>1.474</td>\n",
       "      <td>0.911</td>\n",
       "      <td>0.813</td>\n",
       "      <td>-3.28</td>\n",
       "      <td>1693</td>\n",
       "      <td>-31</td>\n",
       "      <td>NaN</td>\n",
       "      <td>NaN</td>\n",
       "      <td>NaN</td>\n",
       "      <td>NaN</td>\n",
       "    </tr>\n",
       "    <tr>\n",
       "      <th>351</th>\n",
       "      <td>504.0</td>\n",
       "      <td>DGVul</td>\n",
       "      <td>13.608310</td>\n",
       "      <td>11.371</td>\n",
       "      <td>1.983</td>\n",
       "      <td>1.263</td>\n",
       "      <td>1.127</td>\n",
       "      <td>-4.49</td>\n",
       "      <td>2450</td>\n",
       "      <td>-39</td>\n",
       "      <td>2.6</td>\n",
       "      <td>NaN</td>\n",
       "      <td>NaN</td>\n",
       "      <td>NaN</td>\n",
       "    </tr>\n",
       "    <tr>\n",
       "      <th>352</th>\n",
       "      <td>505.0</td>\n",
       "      <td>GQVul</td>\n",
       "      <td>12.643870</td>\n",
       "      <td>13.650</td>\n",
       "      <td>2.236</td>\n",
       "      <td>1.642</td>\n",
       "      <td>1.057</td>\n",
       "      <td>-4.40</td>\n",
       "      <td>3879</td>\n",
       "      <td>18</td>\n",
       "      <td>NaN</td>\n",
       "      <td>NaN</td>\n",
       "      <td>NaN</td>\n",
       "      <td>NaN</td>\n",
       "    </tr>\n",
       "  </tbody>\n",
       "</table>\n",
       "<p>353 rows × 14 columns</p>\n",
       "</div>"
      ],
      "text/plain": [
       "        ID   STAR     period       m  BV_INTMEAN    EBV  V_AMPL    MV     d  \\\n",
       "0      2.0  SZAql  17.140849   8.599       1.389  0.641   1.163 -4.78  1898   \n",
       "1      3.0  TTAql  13.754707   7.141       1.292  0.495   1.082 -4.51  1055   \n",
       "2      4.0  FFAql   4.470916   5.372       0.756  0.224   0.321 -3.55   441   \n",
       "3      5.0  FMAql   6.114230   8.270       1.277  0.646   0.724 -3.48   890   \n",
       "4      6.0  FNAql   9.481603   8.382       1.214  0.510   0.564 -4.04  1473   \n",
       "..     ...    ...        ...     ...         ...    ...     ...   ...   ...   \n",
       "348  500.0   XVul   6.319543   8.849       1.389  0.848   0.769 -3.53   891   \n",
       "349  502.0  ASVul  12.224726  12.251       1.923  1.245   0.919 -4.36  3551   \n",
       "350  503.0  BRVul   5.197170  10.687       1.474  0.911   0.813 -3.28  1693   \n",
       "351  504.0  DGVul  13.608310  11.371       1.983  1.263   1.127 -4.49  2450   \n",
       "352  505.0  GQVul  12.643870  13.650       2.236  1.642   1.057 -4.40  3879   \n",
       "\n",
       "      Z RV_MEAN  RADIUS  BIN  1H?  \n",
       "0   -77    10.5   113.8  NaN  NaN  \n",
       "1   -58     1.9    95.8  NaN  NaN  \n",
       "2    49   -19.4     NaN  NaN  NaN  \n",
       "3    14    -7.0    53.8  NaN  NaN  \n",
       "4   -80    13.1     NaN  NaN  NaN  \n",
       "..   ..     ...     ...  ...  ...  \n",
       "348 -20   -16.1    46.2  NaN  NaN  \n",
       "349  78     NaN     NaN  NaN  NaN  \n",
       "350 -31     NaN     NaN  NaN  NaN  \n",
       "351 -39     2.6     NaN  NaN  NaN  \n",
       "352  18     NaN     NaN  NaN  NaN  \n",
       "\n",
       "[353 rows x 14 columns]"
      ]
     },
     "execution_count": 6,
     "metadata": {},
     "output_type": "execute_result"
    }
   ],
   "source": [
    "c_data"
   ]
  },
  {
   "cell_type": "markdown",
   "metadata": {},
   "source": [
    "What are the names of the columns of this table? Please list them below."
   ]
  },
  {
   "cell_type": "markdown",
   "metadata": {},
   "source": []
  },
  {
   "cell_type": "markdown",
   "metadata": {},
   "source": [
    "The columns we are interested in are:\n",
    "- $m$, the apparent magnitude\n",
    "- $MV$, the absolute magnitude in the V filter\n",
    "- the period (measured in days)\n",
    "\n",
    "To access columns in this table we can make specific calls. Say I want to get all the data in the period column; I can make a call like the following:"
   ]
  },
  {
   "cell_type": "code",
   "execution_count": 7,
   "metadata": {},
   "outputs": [
    {
     "data": {
      "text/plain": [
       "0      17.140849\n",
       "1      13.754707\n",
       "2       4.470916\n",
       "3       6.114230\n",
       "4       9.481603\n",
       "         ...    \n",
       "348     6.319543\n",
       "349    12.224726\n",
       "350     5.197170\n",
       "351    13.608310\n",
       "352    12.643870\n",
       "Name: period, Length: 353, dtype: float64"
      ]
     },
     "execution_count": 7,
     "metadata": {},
     "output_type": "execute_result"
    }
   ],
   "source": [
    "c_data['period']"
   ]
  },
  {
   "cell_type": "markdown",
   "metadata": {},
   "source": [
    "Making this call displays all the period data for our Cepheid sources. Try to access the absolute magnitude ($MV$) column with a similar call below:"
   ]
  },
  {
   "cell_type": "code",
   "execution_count": null,
   "metadata": {},
   "outputs": [],
   "source": []
  },
  {
   "attachments": {},
   "cell_type": "markdown",
   "metadata": {},
   "source": [
    "## 2. Playing with the distance modulus\n",
    "In this section, we will find the distance to each of our sources as practice. As we mentioned above, the *distance modulus* is the following equation:\n",
    "### $m - M = 5\\log_{10}(\\frac{d}{10 \\textrm{pc}})$\n",
    "\n",
    "where:\n",
    "\n",
    "- $m$ = apparent magnitude\n",
    "- $M$ = absolute magnitude \n",
    "- $d$ = distance in parsec (pc)"
   ]
  },
  {
   "attachments": {},
   "cell_type": "markdown",
   "metadata": {},
   "source": [
    "### Solve the distance modulus for $d$, the distance to the source in parsecs\n"
   ]
  },
  {
   "cell_type": "markdown",
   "metadata": {},
   "source": []
  },
  {
   "cell_type": "markdown",
   "metadata": {},
   "source": [
    "Say, we have the equation $y = log(x)$, and we know x is a list of values defined as $x = [1,2,3,4,5]$. We could perform this operation by hand, although it's a bit annoying.\n",
    "(Note: the np.log10 call is the equivalent to taking the $\\log_{10}$ of a number)"
   ]
  },
  {
   "cell_type": "code",
   "execution_count": 25,
   "metadata": {},
   "outputs": [
    {
     "name": "stdout",
     "output_type": "stream",
     "text": [
      "0.0\n",
      "0.3010299956639812\n",
      "0.47712125471966244\n",
      "0.6020599913279624\n",
      "0.6989700043360189\n"
     ]
    }
   ],
   "source": [
    "x = [1,2,3,4,5]\n",
    "print(np.log10(1))\n",
    "print(np.log10(2))\n",
    "print(np.log10(3))\n",
    "print(np.log10(4))\n",
    "print(np.log10(5))"
   ]
  },
  {
   "cell_type": "markdown",
   "metadata": {},
   "source": [
    "We can use Tables to perform easy computions and save writing. To perform the following operation within a table we could write something like this:"
   ]
  },
  {
   "cell_type": "code",
   "execution_count": 24,
   "metadata": {},
   "outputs": [],
   "source": [
    "x = [1,2,3,4,5]\n",
    "table_example = pd.DataFrame({'x':x}) # defining our data as a table\n",
    "y = np.log10(table_example['x'])"
   ]
  },
  {
   "cell_type": "markdown",
   "metadata": {},
   "source": [
    "Look at the variable y. How does this compare to what was calculated above?"
   ]
  },
  {
   "cell_type": "code",
   "execution_count": null,
   "metadata": {},
   "outputs": [],
   "source": []
  },
  {
   "cell_type": "markdown",
   "metadata": {},
   "source": [
    "Knowing now how to manipute and perform operations with tables, use the expression for $d$ you found above and calculate the distance to each Cepheid."
   ]
  },
  {
   "cell_type": "code",
   "execution_count": 35,
   "metadata": {},
   "outputs": [],
   "source": [
    "distance # your operation to calculate distance"
   ]
  },
  {
   "cell_type": "markdown",
   "metadata": {},
   "source": [
    "Now, we'll plot a histogram to see the distribution of distances. On average, how far away are these Cepheids. Are most of these within the Milky Way? (Keep in mind the Milky Way Halo has a radius on the order of 100 kiloparsecs = 100,000 parsecs)"
   ]
  },
  {
   "cell_type": "code",
   "execution_count": 39,
   "metadata": {},
   "outputs": [
    {
     "data": {
      "image/png": "[encoded data removed]",
      "text/plain": [
       "<Figure size 640x480 with 1 Axes>"
      ]
     },
     "metadata": {},
     "output_type": "display_data"
    }
   ],
   "source": [
    "plt.hist(distance)\n",
    "plt.xlabel('YOUR X-AXIS NAME')\n",
    "plt.ylabel('YOUR Y-AXIS NAME')\n",
    "plt.title('YOUR TITLE HERE')\n",
    "plt.show()"
   ]
  },
  {
   "cell_type": "markdown",
   "metadata": {},
   "source": [
    "## 3. Plot the Period-Luminosity Relationship from Cepheid Data\n",
    "We will now derive the Period-Luminosity relationship from our database of Cepheids. Below, plot the following:\n",
    "- x-axis: logarithm of the pulsation period\n",
    "- y-axis: absolute magnitude ($MV$) of each Cepheid\n"
   ]
  },
  {
   "cell_type": "code",
   "execution_count": 88,
   "metadata": {},
   "outputs": [
    {
     "data": {
      "image/png": "[encoded data removed]",
      "text/plain": [
       "<Figure size 640x480 with 1 Axes>"
      ]
     },
     "metadata": {},
     "output_type": "display_data"
    }
   ],
   "source": [
    "plt.scatter(x=-1,y=-1) # put in the Cepheid data\n",
    "plt.xlim(0,100)\n",
    "plt.title('YOUR PLOT TITLE')\n",
    "plt.xlabel('YOUR X LABEL')\n",
    "plt.xlabel('YOUR Y LABEL')\n",
    "plt.gca().invert_yaxis()\n",
    "plt.show()"
   ]
  },
  {
   "cell_type": "markdown",
   "metadata": {},
   "source": [
    "What do you notice about this relationship? What kind of equation can describe the best fit line? Do longer period Cepheids tend to be brighter or dimmer?"
   ]
  },
  {
   "cell_type": "markdown",
   "metadata": {},
   "source": []
  },
  {
   "cell_type": "markdown",
   "metadata": {},
   "source": [
    "## 4. Estimate the Period-Luminosity relationship\n",
    "Try to fit a line manually to this data using the relationship: $y = mx + b$. In other words, you will need to find a $m$ and $b$ that best fits the data.\n"
   ]
  },
  {
   "cell_type": "markdown",
   "metadata": {},
   "source": []
  },
  {
   "cell_type": "markdown",
   "metadata": {},
   "source": [
    "Overplot your best fit line on the data. How well does it appear to fit?"
   ]
  },
  {
   "cell_type": "code",
   "execution_count": 100,
   "metadata": {},
   "outputs": [
    {
     "data": {
      "image/png": "[encoded data removed]",
      "text/plain": [
       "<Figure size 640x480 with 1 Axes>"
      ]
     },
     "metadata": {},
     "output_type": "display_data"
    }
   ],
   "source": [
    "x = np.arange(0,100+1)\n",
    "m = -1 # your m value\n",
    "b = -1 # your b value\n",
    "\n",
    "plt.scatter(x=1,y=1) # put in the Cepheid data \n",
    "plt.plot(x, m*x+b) # your best fit \n",
    "\n",
    "plt.xlim(0,100)\n",
    "plt.title('YOUR BEST FIT: Y = (POLYFIT M) X + (POLYFIT B)')\n",
    "plt.xlabel('YOUR X LABEL')\n",
    "plt.ylabel('YOUR Y LABEL')\n",
    "plt.gca().invert_yaxis()\n",
    "plt.show()"
   ]
  },
  {
   "cell_type": "markdown",
   "metadata": {},
   "source": [
    "Now, we will use a python package that makes fitting lines easy: np.polyfit(), which takes the x and y data, along with the polynomial degree (1 for a linear function). How does the polyfit's estimate compare to yours?"
   ]
  },
  {
   "cell_type": "code",
   "execution_count": 96,
   "metadata": {},
   "outputs": [],
   "source": [
    "fit = np.polyfit(x = np.log10(c_data['period']), y = c_data['MV'], deg=1) # running best fit\n",
    "x = np.arange(0,2+1)\n",
    "m = fit[0] # m value from fit\n",
    "b = fit[1] # b value from fit"
   ]
  },
  {
   "cell_type": "markdown",
   "metadata": {},
   "source": [
    "Next, overplot the best fit polyfit on the Cepheid data"
   ]
  },
  {
   "cell_type": "code",
   "execution_count": 99,
   "metadata": {},
   "outputs": [
    {
     "data": {
      "image/png": "[encoded data removed]",
      "text/plain": [
       "<Figure size 640x480 with 1 Axes>"
      ]
     },
     "metadata": {},
     "output_type": "display_data"
    }
   ],
   "source": [
    "plt.plot(-1, -1) # plot the best fit from np.polyfit\n",
    "plt.scatter(x=-1, y=-1) # plot your Cepheid Data\n",
    "plt.gca().invert_yaxis()\n",
    "plt.xlabel('YOUR X LABEL')\n",
    "plt.ylabel('YOUR Y LABEL')\n",
    "plt.title('YOUR BEST FIT: Y = (POLYFIT M) X + (POLYFIT B)')\n",
    "plt.show()"
   ]
  },
  {
   "cell_type": "markdown",
   "metadata": {},
   "source": [
    "## 5. Hubble's Cepheid (M31 V1)\n",
    "INSERT PHOTOGRAPHIC PLATE"
   ]
  },
  {
   "cell_type": "markdown",
   "metadata": {},
   "source": [
    "### Estimate the period of M31 V1\n",
    "In this directory there is a file called 'aavsodata_64a49d2422f48.txt.' This file has photometric data of Hubble's Cepheid, M31 V1 from 1999 to now. Hubble used the period of this Cepheid to estimate the distance to Andromeda, M31. This file has two columns we are interested in: the 'Magnitude' and 'JD' columns. Here JD means Julian Date, which is a measure of time in units of days.\n",
    "\n",
    "Below, look at the data file of M31 V1. Do you see the Magnitude and JD columns?"
   ]
  },
  {
   "cell_type": "code",
   "execution_count": 3,
   "metadata": {},
   "outputs": [],
   "source": [
    "M31_V1 = pd.read_csv('/Users/zohaggard/Desktop/aavsodata_64a49d2422f48.txt')"
   ]
  },
  {
   "cell_type": "markdown",
   "metadata": {},
   "source": [
    "Next, plot the following:\n",
    "- 'JD' on the x-axis\n",
    "- 'Magnitude' on the y-axis\n",
    "\n",
    "Do you notice any periodicity? Change your x-limits if you don't already see the periodicity. As a hint, you can grab the minimum value of a list in a table by writing:\n",
    "- YOURTABLE['YOURCOLUMN'].min()"
   ]
  },
  {
   "cell_type": "code",
   "execution_count": 18,
   "metadata": {},
   "outputs": [
    {
     "data": {
      "image/png": "[encoded data removed]",
      "text/plain": [
       "<Figure size 640x480 with 1 Axes>"
      ]
     },
     "metadata": {},
     "output_type": "display_data"
    }
   ],
   "source": [
    "plt.scatter(M31_V1['JD'], M31_V1['Magnitude']) # insert M31 V1's data here\n",
    "plt.gca().invert_yaxis()\n",
    "plt.xlabel('YOUR X LABEL')\n",
    "plt.ylabel('YOUR Y LABEL')\n",
    "plt.title('YOUR TITLE')\n",
    "plt.xlim() # insert your limits here\n",
    "plt.show()"
   ]
  },
  {
   "cell_type": "markdown",
   "metadata": {},
   "source": [
    "Estimate the period of M31 V1. Remember, a period is defined as the time it takes for a sin wave to oscillate from high values to low values and back to high values."
   ]
  },
  {
   "cell_type": "markdown",
   "metadata": {},
   "source": []
  },
  {
   "cell_type": "markdown",
   "metadata": {},
   "source": [
    "We will now plot M31 V1's data and and your period estimate. Does your period estimate look ok?"
   ]
  },
  {
   "cell_type": "code",
   "execution_count": 35,
   "metadata": {},
   "outputs": [
    {
     "name": "stderr",
     "output_type": "stream",
     "text": [
      "/Users/zohaggard/opt/anaconda3/envs/astroconda37/lib/python3.7/site-packages/ipykernel_launcher.py:4: RuntimeWarning: divide by zero encountered in true_divide\n",
      "  after removing the cwd from sys.path.\n",
      "/Users/zohaggard/opt/anaconda3/envs/astroconda37/lib/python3.7/site-packages/ipykernel_launcher.py:4: RuntimeWarning: invalid value encountered in sin\n",
      "  after removing the cwd from sys.path.\n"
     ]
    },
    {
     "data": {
      "image/png": "[encoded data removed]",
      "text/plain": [
       "<Figure size 640x480 with 1 Axes>"
      ]
     },
     "metadata": {},
     "output_type": "display_data"
    }
   ],
   "source": [
    "x = np.arange(M31_V1['JD'].min(), M31_V1['JD'].max())\n",
    "period = 0 # your period\n",
    "plt.scatter() # plot M31 V1 data\n",
    "plt.plot(x, 1*np.sin(((2*np.pi*x/period)))+19) # plotting a sin wave, an estimate of the oscillation shape\n",
    "plt.xlim() # put in your limits from above\n",
    "plt.gca().invert_yaxis()\n",
    "plt.show()"
   ]
  },
  {
   "cell_type": "markdown",
   "metadata": {},
   "source": [
    "### Using M31 V1's period and your Period-Luminoisty fit, what is the distance to Andromeda? "
   ]
  },
  {
   "cell_type": "markdown",
   "metadata": {},
   "source": []
  }
 ],
 "metadata": {
  "interpreter": {
   "hash": "40b05493ddcf8e9507683538249caa61aa01626b793e566d994882f595f5286b"
  },
  "kernelspec": {
   "display_name": "Python 3.7.11 ('astroconda37')",
   "language": "python",
   "name": "python3"
  },
  "language_info": {
   "codemirror_mode": {
    "name": "ipython",
    "version": 3
   },
   "file_extension": ".py",
   "mimetype": "text/x-python",
   "name": "python",
   "nbconvert_exporter": "python",
   "pygments_lexer": "ipython3",
   "version": "3.7.11"
  },
  "orig_nbformat": 4
 },
 "nbformat": 4,
 "nbformat_minor": 2
}
