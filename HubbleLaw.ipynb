{
 "cells": [
  {
   "cell_type": "markdown",
   "id": "4a941e57-ac22-4743-85e1-1bc37a9c877b",
   "metadata": {
    "tags": []
   },
   "source": [
    "# Hubble's Law\n",
    "\n",
    "For this project, we'll explore one of the most famous (and fundamental) relations in astronomy, Hubble's law. Remarkably, this was discovered almost exactly a century ago (in 1922) by Edwin Hubble. Hubble's law describes the relationship between a galaxy's distance and its recession velocity (the velocity with which it appears to be moving away from us). \n",
    "\n",
    "In order to understand Hubble's observation, we first need a distance and a velocity associated with a sample of galaxies. To do this, we'll use data from the [Sloan Digital Sky Survey (SDSS)](https://en.wikipedia.org/wiki/Sloan_Digital_Sky_Survey), an observing program that has been conducted from the Apache Point Observatory in New Mexico since the year 2000. *Read a little bit about SDSS to see where this data is coming from! Some things to think about might be: how big is the telescope? how does it compare to the telescopes you used on the roof (or the telescopes at Lick Observatory)? how many objects have been observed? why was this survey conducted?*"
   ]
  },
  {
   "cell_type": "markdown",
   "id": "3ee35ee4-eaf5-4f35-9c14-e6c4dd584db5",
   "metadata": {},
   "source": [
    "## Part I: Distances\n",
    "First, let's figure out how to measure the distance to a galaxy. Measuring the *absolute* distance to galaxies usually requires some knowledge of the intrinsic brightness (which we call the luminosity, $L$) of a star or some other detectable source in the galaxy. With that in hand, we can calculate the distance by measuring the brightness we see at our detector (which is related to the object's flux, $F$) and solving for $d$ in the equation\n",
    "$$F = \\frac{L}{4\\pi d^2}$$\n",
    "However, doing this is challenging in general, but luckily we can get away with measuring the *relative* distance for calculating Hubble's law. That is, with some assumptions, we can measure the distance of an object relative to some better-understood standard, such as our nearest neighbor, the Andromeda galaxy. If we assume that, on average, all galaxies have roughly the same intrinsic brightness and size, then the only source of differences in their observed properties will be due to their being closer or further away! This is the same principle as what we see on Earth -- *what do we expect to happen as we move something closer and further away from us?* \n",
    "\n",
    "In classic astronomy fashion, the system used to quantify the observed brightness of an object is unintuitive and archaic, but tradition dictates that we keep it around. In fact, the system runs exactly opposite to what you'd expect -- the smaller the magnitude, the brighter the object, so the very brightest objects have negative magnitudes. For example, the brightest object in our sky, the Sun, has a magnitude of $m_{\\rm Sun} \\sim -26$. *What is the next brightest star in the sky? What magnitude is it?* The faintest objects we can see with our naked eyes have magnitude $m\\lesssim 6$. This is part of why we use telescopes -- by collecting light for a long period of time and summing that up, we can see fainter objects than we'd be able to with our eyes alone. With this, the faintest objects that can be detected as part of SDSS have magnitudes $m\\lesssim 23$. \n",
    "\n",
    "The data we'll be working with from SDSS gives us the *apparent magnitude* of the observed galaxies. This is related to the flux received at the detector by the following relation\n",
    "$$F_{\\rm gal}/F_{\\rm stan} = 10^{-0.4(m_{\\rm gal}-m_{\\rm stan})}$$\n",
    "where the subscripts 'gal' and 'stan' refer to the galaxy of interest and our standard source, respectively. *Let's familiarize ourselves with the magnitude system. With this equation, how much fainter (how many times) is the faintest source detectable in SDSS compared to that which we can see with the naked eye?* For our standard source, let's use the Andromeda galaxy, which is at a distance of $760\\ {\\rm kiloparsec}$ (*what is that unit?*) and has an apparent magnitude of $m_{\\rm andromeda}\\sim 3.4$. *Recall we're assuming that every galaxy has roughly the same intrinsic luminosity $L$. Use this equation to relate the distance to the apparent magnitudes. (Hint: you'll want to use the first equation written above).*\n",
    "\n",
    "Okay, enough background, let's start working with some real data!"
   ]
  },
  {
   "cell_type": "code",
   "execution_count": null,
   "id": "fd303262-fddf-4abd-8b50-0fa0caf8f3ac",
   "metadata": {
    "tags": []
   },
   "outputs": [],
   "source": [
    "# first, import useful packages\n",
    "import numpy as np\n",
    "import matplotlib.pyplot as plt\n",
    "\n",
    "# to import the SDSS data, we'll need some astronomy packages\n",
    "from astroquery.sdss import SDSS\n",
    "import astropy.units as u\n",
    "from astropy.constants import c"
   ]
  },
  {
   "cell_type": "markdown",
   "id": "67122b16-d05d-4200-ab24-580076fb5f59",
   "metadata": {},
   "source": [
    "Based on your reading about SDSS, you'll know that the data were captured using plates. Therefore, we'll have to pick an observing plate from which we can analyze the data. Visit [this webpage](https://skyserver.sdss.org/dr12/en/tools/getimg/plate.aspx) and choose a plate from the BOSS survey list dropdown. Once you click `get plate`, you'll see the list of galaxies that were observed on that plate. Note down the two numbers listed in the dropdown menu -- these will be the plate number and the date on which these galaxies were observed and you'll need them for the next step."
   ]
  },
  {
   "cell_type": "code",
   "execution_count": null,
   "id": "0a5693ca-4a31-4a2a-ac7c-888f4d441ae7",
   "metadata": {
    "tags": []
   },
   "outputs": [],
   "source": [
    "# read in data from a file\n",
    "\n",
    "# link to plate browser: https://skyserver.sdss.org/dr12/en/tools/getimg/plate.aspx\n",
    "# choose a plate andpaste your particular plate and the associated data (MJD) here\n",
    "plate = # plate number goes here\n",
    "mjd = # date of observation goes here\n",
    "print('plate =', plate, \"\\nMJD =\", mjd)\n",
    "\n",
    "# build the query for accessing the data from the database\n",
    "query = \"SELECT TOP 1000 objid, ra, dec, modelMag_i AS app_mag , z from SpecPhoto WHERE (class = 'GALAXY' AND plate = '%d')\" %(plate)\n",
    "\n",
    "# Run the query and store the results\n",
    "result = SDSS.query_sql(query, data_release=16)"
   ]
  },
  {
   "cell_type": "code",
   "execution_count": null,
   "id": "93e6e01f-a852-4d2f-ab58-f727551a0363",
   "metadata": {
    "tags": []
   },
   "outputs": [],
   "source": [
    "# define some variables for our 'standard' source -- the distances can then be calculated relative to this\n",
    "m_andromeda = 3.4\n",
    "d_andromeda = 760 # in units of kpc\n",
    "\n",
    "# fill this in with the equation relating distance and magnitude above\n",
    "m_gal = \n",
    "d_gal = "
   ]
  },
  {
   "cell_type": "markdown",
   "id": "3f864fb3-d29f-4675-a035-90d845ee537c",
   "metadata": {},
   "source": [
    "Having calculated the distances associated with each galaxy using the apparent magnitude, let's do a sanity check to make sure that the trend matches our intuition! *think about what you expect this plot to look like before you make it*"
   ]
  },
  {
   "cell_type": "code",
   "execution_count": null,
   "id": "fd8ec5fa-49ba-482a-83c9-a5cde2876147",
   "metadata": {
    "tags": []
   },
   "outputs": [],
   "source": [
    "# plot the distance vs the apparent magnitude -- I've filled this one in for you, but I'll let you do the other plots\n",
    "plt.scatter(d_gal, m_gal, s = 5)\n",
    "plt.xlabel('(change this)')\n",
    "plt.ylabel('(change this)')\n",
    "plt.show()"
   ]
  },
  {
   "cell_type": "markdown",
   "id": "9af306d3-680e-486d-aac6-50da7bde3c49",
   "metadata": {},
   "source": [
    "If you're satisfied that the above plot makes sense, then we're in good shape -- we've now found the physical distances to hundreds of galaxies!"
   ]
  },
  {
   "cell_type": "markdown",
   "id": "2101f412-872d-4be4-a938-7ac0552827b4",
   "metadata": {},
   "source": [
    "## Part II: Velocities\n",
    "The next step to finding Hubble's law is finding the velocity associated with each of these galaxies. The way we find velocities to distant objects in astronomy is using their [spectra](https://openstax.org/books/astronomy/pages/5-3-spectroscopy-in-astronomy), leveraging a principle similar to the idea behind the Doppler shift. *Read the link in the previous sentence to get familiar with the idea of observing/'taking' a spectrum.* The spectrum of an object is one of the most valuable things we can observe as it gives us direct insight into the composition of the object, among other things. Different elements that are present in a star or galaxy will leave a unique imprint on the observed spectrum, in the form of [*absorption and emission lines*](https://openstax.org/books/astronomy/pages/5-5-formation-of-spectral-lines), that appear at well-defined places (wavelengths) in the spectrum. However, if the object is moving relative to us, these lines will be shifted by a well-defined amount, just like a [*Doppler shift*](https://openstax.org/books/astronomy/pages/5-6-the-doppler-effect). That is, the amount that they are shifted is given by the equation\n",
    "$$\\frac{\\lambda_{\\rm obs}-\\lambda_{\\rm em}}{\\lambda_{\\rm em}} = \\frac{v}{c}$$\n",
    "where the 'obs' and 'em' subscripts correspond to the observed and emitted values of the wavelength $\\lambda$, respectively, $v$ is the velocity of the object's motion, and $c = 3\\times 10^{8}\\ {\\rm m/s}$ is the speed of light. To better understand what this is saying, let's put some numbers to it: if we observe a galaxy and expect to see an emission line associated with oxygen, such as that at ~4363 angstroms, but instead find that line at 5363 angstroms when we observe the spectrum, then this means that \n",
    "$$\\frac{\\lambda_{\\rm obs}-\\lambda_{\\rm em}}{\\lambda_{\\rm em}} = \\frac{5363 - 4363}{4363} = \\frac{1000}{4363} \\approx 0.23\\implies v \\approx 0.23 c = 69,000\\ {\\rm km/s}$$\n",
    "so this tells us that the galaxy is moving away from us at 23% the speed of light, or roughly 69,000 km/s -- that's pretty fast!\n",
    "\n",
    "Doing this for a large number of galaxies is not straightforward because it requires identification of different lines and comparison to the expected wavelengths of the lines, but people have developed codes that can do this automatically given some spectrum. Conventionally, the result of these calculations is reported as a *redshift*, $z$ for the galaxy, which is defined as \n",
    "$$z = \\frac{\\lambda_{\\rm obs}-\\lambda_{\\rm em}}{\\lambda_{\\rm em}} \\approx \\frac{v}{c}$$\n",
    "This means that for the above example, we'd say the galaxy is \"at redshift 0.23\". We call it a redshift because the emission line has been moved to longer (redder) wavelengths as a result of the galaxy's motion away from us. Conversely, if the galaxy were to be moving towards us, then $\\lambda_{\\rm obs}$ would be smaller than $\\lambda_{\\rm em}$, so $z$ would be negative, and we'd would say that the line is *blueshifted*. \n",
    "\n",
    "*Play around with this on the plate browser you used before. Click on a few galaxies and open their spectra. Compare the location of the emission lines to the number listed in their name (i.e., \\[OIII\\]4363 refers to an oxygen line, hence the O, emitted at a wavelength of 4363 angstroms) and calculate the redshift. Compare this to what's listed on the galaxy profile. You should find that these numbers match!*"
   ]
  },
  {
   "cell_type": "code",
   "execution_count": null,
   "id": "b77ab837-d0ce-409c-be5d-2a8cd48e2d8f",
   "metadata": {
    "tags": []
   },
   "outputs": [],
   "source": [
    "# you can use these cells to do your calculations!\n"
   ]
  },
  {
   "cell_type": "markdown",
   "id": "ce4b43e2-70b2-456c-a04f-3b17fd82086b",
   "metadata": {},
   "source": [
    "Now that you're familiar with how we get the redshift, convert the redshifts reported in the data to velocities for our diagram."
   ]
  },
  {
   "cell_type": "code",
   "execution_count": null,
   "id": "d177e074-f6fa-44c6-a938-5d5216c8c552",
   "metadata": {
    "tags": []
   },
   "outputs": [],
   "source": [
    "# calculate the velocity below\n"
   ]
  },
  {
   "cell_type": "markdown",
   "id": "00484da7-9a05-480b-a196-e1713d7a0591",
   "metadata": {},
   "source": [
    "Make a histogram of the velocities that we're using for our sample."
   ]
  },
  {
   "cell_type": "code",
   "execution_count": null,
   "id": "9adf1ceb-84f7-4e1a-bb06-d0969cddedc7",
   "metadata": {
    "tags": []
   },
   "outputs": [],
   "source": [
    "# code for plotting goes here\n"
   ]
  },
  {
   "cell_type": "markdown",
   "id": "087f6da1-cd81-48b7-ae34-dda336b3437a",
   "metadata": {},
   "source": [
    "## Part III: Putting it together\n",
    "With the distances and velocities calculated, you're ready to make a Hubble diagram. *Plot the two quantities against each other and think about what the results mean. Does there appear to be a trend between the distance and velocity? What sort of shape does that trend take (i.e., is it a line, a parabola, something else)? Interpret this -- what does that trend indicate?*"
   ]
  },
  {
   "cell_type": "code",
   "execution_count": null,
   "id": "6cbd541e-0238-4f57-a92d-98f53adb065d",
   "metadata": {
    "tags": []
   },
   "outputs": [],
   "source": [
    "# code for plotting distance vs velocity goes here\n"
   ]
  },
  {
   "cell_type": "markdown",
   "id": "b16b87a1-089e-4a81-ae41-6228200d1da2",
   "metadata": {},
   "source": [
    "Ok ignoring the few outliers, it looks like there is a pretty suggestive linear trend between the distance and velocity of these galaxies. On top of that, it looks like virtually all of these galaxies have positive velocities. *What does this mean?* This trend suggests that the velocity and distance are related by *a constant of proportionality*. In other words, we can write an equation relating the two as follows:\n",
    "$$v = H d$$\n",
    "Mathematically, such an equation indicates a linear relationship between the two quantities, with the constant of proportionality appearing as the slope. As I'm sure you've seen (at least in your math classes), such a relationship is pretty common in situations in our everyday lives. For example, if you're working a job and make $\\$10$ an hour, you could describe your total earnings over some period of time with such a relationship. In our/Hubble's case, we know $v$ and $d$, so we want to find that constant of proportionality, which we've written as $H$ (for Hubble).\n",
    "\n",
    "Therefore, our goal is to fit a line to the data to read off the slope. Luckily, this is pretty straightforward to do in python using numpy, but *first, pick some representative points and estimate the slope of the line by hand*. This will help ensure that we're confident in the result that we ultimately get from the computer."
   ]
  },
  {
   "cell_type": "code",
   "execution_count": null,
   "id": "76780f9f-03f3-4e56-8e74-5362b34ede1a",
   "metadata": {
    "tags": []
   },
   "outputs": [],
   "source": [
    "# code to fit the line goes here (the numpy polyfit method might come in handy)\n"
   ]
  },
  {
   "cell_type": "code",
   "execution_count": null,
   "id": "7eb013d2-8d93-4694-a4d3-836ccdb9c70e",
   "metadata": {
    "tags": []
   },
   "outputs": [],
   "source": [
    "# print out the coefficients you measure -- what do these correspond to in Hubble's law?\n"
   ]
  },
  {
   "cell_type": "markdown",
   "id": "e991a0d7-35c2-481d-9da0-8d31f4e456c8",
   "metadata": {},
   "source": [
    "Now make your Hubble diagram again but overlay the line that you calculated above to see how well it fits."
   ]
  },
  {
   "cell_type": "code",
   "execution_count": null,
   "id": "18cb1367-9412-40c8-9ae1-81f02c166185",
   "metadata": {
    "tags": []
   },
   "outputs": [],
   "source": [
    "# code for making hubble diagram with best fit line\n"
   ]
  },
  {
   "cell_type": "markdown",
   "id": "3f977440-bbea-432f-bd97-10639ba04a97",
   "metadata": {},
   "source": [
    "## Part IV: Cleaning the data"
   ]
  },
  {
   "cell_type": "markdown",
   "id": "b792b69f-9742-4583-be05-9c8f81274f14",
   "metadata": {},
   "source": [
    "Since it looks like our line visually doesn't seem to fit that well, let's try and improve the calculation. One easy thing that we can do is removing the outliers. This means we remove data points that look like they might not fit the general trend and are thus biasing our calculation. *Can you identify any points that you might want to remove?* \n",
    "\n",
    "Doing this by hand may be the most intuitive/straightforward thought, but it is also the most time consuming. Instead, let's think about how we can do this automatically, using some basic statistics. Previously we plotted the distribution of velocities; let's now do the same with the distance:"
   ]
  },
  {
   "cell_type": "code",
   "execution_count": null,
   "id": "3c087f00-985f-4ad2-a0ab-12d8b1e22d63",
   "metadata": {
    "tags": []
   },
   "outputs": [],
   "source": [
    "# code to plot a histogram of distances goes here\n"
   ]
  },
  {
   "cell_type": "markdown",
   "id": "60b0f258-6eb9-4ad8-bf7d-aac3c8395cf4",
   "metadata": {},
   "source": [
    "From this, it seems pretty clear that there are some points at fairly large distances that don't really sit with the rest of the distribution. To quantify just how far these points are from the rest of the distribution, let's calculate the *mean* and the *standard deviation*. These are statistics (numbers) that can be used to represent some information about a distribution of values. More concretely, you're probably fairly familiar with the mean, as it refers to the average value of the distribution and is in some sense a \"representative\" ballpark value of what we might expect if we picked a number randomly from the distribution. The standard deviation basically quantifies how much the distribution is spread away from the average. This means if the standard deviation is larger, we are more likely to get values far away from the mean when we randomly draw from the distribution and vice versa if it's smaller. These aren't too difficult to calculate in practice, but `numpy` has some built in packages to make our lives easier (`numpy.std` and `numpy.mean`). "
   ]
  },
  {
   "cell_type": "code",
   "execution_count": null,
   "id": "60559e72-be71-46aa-a990-470541d1492c",
   "metadata": {
    "tags": []
   },
   "outputs": [],
   "source": [
    "mean_dist = # fill this in\n",
    "stdev_dist = # fill this in\n",
    "print(mean_dist + 3*stdev_dist)"
   ]
  },
  {
   "cell_type": "markdown",
   "id": "03dd9b8b-5c38-47c9-9bb2-06091a63e584",
   "metadata": {},
   "source": [
    "Now let's remove the data points that are really far away from the mean (i.e. more than 3 standard deviations away)."
   ]
  },
  {
   "cell_type": "code",
   "execution_count": null,
   "id": "af1e71fa-fa08-4358-8ffe-882227a6fa84",
   "metadata": {
    "tags": []
   },
   "outputs": [],
   "source": [
    "new_dist = # fill this in\n",
    "new_vel = # fill this in"
   ]
  },
  {
   "cell_type": "code",
   "execution_count": null,
   "id": "d28bda77-7f0f-4a91-93e8-0b2999877bb3",
   "metadata": {
    "tags": []
   },
   "outputs": [],
   "source": [
    "# code to fit the line goes here (the numpy polyfit method might come in handy)\n"
   ]
  },
  {
   "cell_type": "code",
   "execution_count": null,
   "id": "46f7917a-cc36-459c-9ce5-83f9f6824844",
   "metadata": {
    "tags": []
   },
   "outputs": [],
   "source": [
    "# plot the data and your new line\n"
   ]
  },
  {
   "cell_type": "markdown",
   "id": "4b35ae9c-8e51-47da-a688-3461f1dc4ca9",
   "metadata": {},
   "source": [
    "This looks like it fits our nearby points a bit better! Believe it or not, we've now done better than Hubble did when he made his groundbreaking discovery. Here are a few questions to answer based on these results:\n",
    "***\n",
    "1. What are the units of H in our equation relating velocity and distance? What about the reciprocal of H? To answer this, you should consolidate the units (i.e., cancel out like units) as much as possible. When you consolidate the units, what is the numerical value you measure for H?\n",
    "***\n",
    "2. In general, distance and velocity are related by the following: $v = d/t$. How does this relate to the equation for Hubble's law? I.e., what role does H play in this equation?\n",
    "***\n",
    "3. Use your answer to (1) to calculate the reciprocal of H and express your answer in years. This is known as the \"Hubble time\". Combine this with your answer to (2) to interpret what this quantity represents for our universe. Compare what you get with what you'd get if you used the measured value for H = 70 km/s/Mpc."
   ]
  },
  {
   "cell_type": "code",
   "execution_count": null,
   "id": "6c300379-34a6-4eda-9342-298fcb014a27",
   "metadata": {},
   "outputs": [],
   "source": []
  }
 ],
 "metadata": {
  "kernelspec": {
   "display_name": "Python 3 (ipykernel)",
   "language": "python",
   "name": "python3"
  },
  "language_info": {
   "codemirror_mode": {
    "name": "ipython",
    "version": 3
   },
   "file_extension": ".py",
   "mimetype": "text/x-python",
   "name": "python",
   "nbconvert_exporter": "python",
   "pygments_lexer": "ipython3",
   "version": "3.11.2"
  }
 },
 "nbformat": 4,
 "nbformat_minor": 5
}
