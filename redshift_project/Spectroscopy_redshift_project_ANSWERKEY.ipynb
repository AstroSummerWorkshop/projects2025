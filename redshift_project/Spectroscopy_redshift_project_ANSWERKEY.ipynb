{
 "cells": [
  {
   "attachments": {},
   "cell_type": "markdown",
   "metadata": {
    "id": "epSVWQl299Bk"
   },
   "source": [
    "# Using Spectroscopy to Study Galaxies\n",
    "\n",
    "## What is a Spectrum?\n",
    "Light, similar to sound, is energy that travels as a wave (a wave of electric and magnetic fields in the case of light). The *wavelength* of light just describes the distance between peaks in a traveling light wave. The figure below shows a wave with its wavelength labeled.\n",
    "\n",
    "![figure1](images/wavelength_6.png)\n",
    "\n",
    "It is rare for anything to emit light at just *one* wavelength, however. Almost everything that we see is made up of light at many different wavelengths. Let's imagine that we wanted to know how much light of each wavelength is being emitted by a light source, say the Sun. To accomplish this, we can take a *spectrum*, meaning that we split the light into its component colors or wavelengths. This is what a prism does when it makes a rainbow out of sunlight: it splits up light from the Sun into all of the visible colors from red to violet, as shown below. \n",
    "\n",
    "![figure2](images/prismcolors.png)\n",
    "\n",
    "Similar to sunlight, when we collect the light from a star or a galaxy and spread it out, we can study how bright something is at each wavelength: a.k.a., its spectrum. Analyzing the spectrum of an object tells us a lot of information: its temperature, what it's made of, how fast it's moving, and more.\n",
    "\n",
    "## How Do we Get so Much Information from a Spectrum?\n",
    "When we split up the light coming from a light bulb (for example) and look at its spectrum, it looks like a smooth rainbow, like the top panel of the figure below, where the x-axis is wavelength in nanometers. But, if you take hydrogen gas, super heat it/shock into a glowing plasma, and take a spectrum of the glowing hydrogen, it will look like the bottom panel of the figure below, with light only showing up at very specific wavelengths.\n",
    "\n",
    "![figure3](images/spectrum.png)\n",
    "\n",
    "These features at specific wavelengths are called *emission lines*. Each chemical element gives off light at particular wavelengths when its atoms get excited (like in a hot plasma), so these lines act like a fingerprint that tells us which elements are present. You can see examples below of emission lines coming from other elements, acting as unique \"fingerprints\" for each element.\n",
    "\n",
    "![figure4](images/element_spectra.png)\n",
    "\n",
    "## What Produces Emission Lines in a Galaxy?\n",
    "Hot plasma may not be common here on Earth, but it is quite common in galaxies! Emission lines in galaxies are mostly produced by clouds of gas and plasma that are being energized by nearby sources of energy, usually ultraviolet light, x-rays, or collisions. These gas clouds are part of the interstellar medium (ISM), which fills the space between stars. We will elaborate on this in the next section.\n",
    "\n",
    "Young, hot stars can heat the surrounding hydrogen gas and cause it to glow, producing strong hydrogen emission lines.\n",
    "\n",
    "Exploding stars (supernovae), stellar winds, and supermassive black holes (AGN) can also energize the gas and influence the shape of the spectrum.\n",
    "\n",
    "## What is the Interstellar Medium (ISM)?\n",
    "You may have heard that space is a vacuum, but this isn't completely true. The reason that people say this is because, compared to Earth's atmosphere, the matter in space is *extremely* diffuse. To give you an idea of how diffuse this gas is, Earth's atmosphere has roughly $10^{19}$ particles per cubic centimeter. In many regions of the ISM, you will typically find $10^2 - 10^4$ particles per cubic centimeter. In other words, the Earth's atmosphere can be up to **one hundred thousand trillion** times denser than the ISM! And yet, even though it is widely spread out, there is so much material in the ISM that it emits enormous amounts of light when it is energized.\n",
    "\n",
    "The interstellar medium is made of gas (mostly hydrogen and helium) and dust that fills the space between stars in a galaxy, and it plays a very important role in galaxy evolution. New stars form out of this gas, and the deaths of stars return energy and elements back into the medium. When the gas in the ISM is heated or ionized, it produces *emission lines*, just like the ones shown in the images above.\n",
    "\n",
    "## Redshift ($z$) and the Expanding Universe?\n",
    "We have known since the 1920s that the universe is expanding, which means that distant galaxies appear to be moving away from us. When light from a distant galaxy is emitted, it travels towards the Earth through the expanding Universe, and this causes the light waves to become stretched out, like a slinky. This effect causes the entire spectrum to \"shift\" toward redder colors and is known as **redshift**. The more distant a galaxy is, the more that its light is \"redshifted\". You can see this effect in the image below. By measuring how much the light is redshifted, astronomers can determine how far away a galaxy is and learn about the history and expansion of the universe.\n",
    "\n",
    "![figure5](images/Measuring_Distance_With_Redshift.jpg)\n",
    "\n",
    "## Observed Wavelength and Redshift\n",
    "\n",
    "When we observe a distant, \"redshifted\" galaxy's spectrum, we see that the wavelengths of its emission lines are at redder (larger) wavelengths compared to where they would appear in a laboratory. This **redshift** ($z$) is calculated by relating the **observed wavelength** $\\lambda_{\\text{obs}}$ to the **rest-frame (original/laboratory) wavelength** $\\lambda_{\\text{rest}}$ using the equation:\n",
    "\n",
    "$$\n",
    "\\lambda_{\\text{obs}} = \\lambda_{\\text{rest}} (1 + z)\n",
    "$$\n",
    "\n",
    "Below, we see an image showing how a galaxy's spectrum changes depending on its redshift, or how far away it is. See any emission lines that look familiar in the top panel? (*Hint: Look at the Hydrogen emission line spectrum in one of the images above.*)\n",
    "\n",
    "![figure6](images/galaxy_redshift_illustration.png)"
   ]
  },
  {
   "cell_type": "markdown",
   "metadata": {
    "id": "9tuV4CU6eE4V"
   },
   "source": [
    "# The goal of this project:\n",
    "\n",
    "Now that you know what redshift is and how it affects spectra, you're ready to apply that knowledge to real data.  \n",
    "\n",
    "In this project, you'll measure the observed wavelength of an emission line in several galaxy spectra and match each one to its known redshift. Then, you'll perform a linear fit to determine the line's rest-frame wavelength and figure out which element it comes from!\n",
    "\n",
    "---"
   ]
  },
  {
   "cell_type": "markdown",
   "metadata": {
    "id": "eMyWSVSb-fPF"
   },
   "source": [
    "# Important emission lines in galaxy spectra\n",
    "\n",
    "> Coding learning goal: \n",
    ">*   Locate files and directories, and identify the corresponding paths\n",
    ">*   Read and understand what a function does and how to use it\n",
    ">*   Plot a spectrum\n",
    "\n",
    "## Examine the spectrum of a galaxy!\n",
    "\n",
    "Run the cell below to begin the project. This cell imports useful modules to help us analyze data in Python."
   ]
  },
  {
   "cell_type": "code",
   "execution_count": 6,
   "metadata": {
    "id": "7dp7RhILgAoK"
   },
   "outputs": [],
   "source": [
    "# Here, we import some helpful modules\n",
    "import numpy as np\n",
    "import matplotlib.pyplot as plt\n",
    "from scipy.optimize import curve_fit\n",
    "from astropy.table import Table\n",
    "from astropy.io import fits\n",
    "import pandas as pd\n",
    "import os\n",
    "import sys\n",
    "from glob import glob\n",
    "sys.path.append('./scripts/')\n",
    "from helper_functions import *\n",
    "plt.rcParams.update(pretty_plot_params)"
   ]
  },
  {
   "cell_type": "markdown",
   "metadata": {},
   "source": [
    "## Locate the directory (folder) where the spectra are\n",
    "\n",
    "Our first step in plotting and examining the spectrum of a galaxy is to tell Python *where* to find the files that contain the spectra. In other words, we have to define the **directory** where the files are stored. Edit the cell below to specify the *path* to the data directory. We will also define the path to a \"figures\" directory where we will save images."
   ]
  },
  {
   "cell_type": "code",
   "execution_count": 13,
   "metadata": {
    "id": "QDdPhE0RhBsw"
   },
   "outputs": [],
   "source": [
    "# Define the data directory\n",
    "\n",
    "# example: raw_data_dir = 'data/raw_spectra/'\n",
    "raw_data_dir = 'data/'  # Where the spectra are stored\n",
    "figure_dir = 'figures/'    # Where you want to save figures (images, plots, etc.)"
   ]
  },
  {
   "cell_type": "markdown",
   "metadata": {},
   "source": [
    "<div class=\"alert alert-block alert-warning\">\n",
    "If you see <b>\"FIXME\"</b>, it means that you should edit or write that part of the code before running the cell.\n",
    "</div>"
   ]
  },
  {
   "cell_type": "markdown",
   "metadata": {},
   "source": [
    "## Open the files to access the spectra\n",
    "\n",
    "Remember our discussion of FITS (Flexible Image Transport System) files, and how they are the standard in astronomy? FITS files can contain more than just images. They can contain informational *tables* too. The data that we will work with are contained within FITS files as tables, like the one shown below:\n",
    "\n",
    "| wavelength | flux |\n",
    "| --- | --- |\n",
    "| 0.50 | 0.03 |\n",
    "| 0.55 | 1.27 |\n",
    "| 0.60 | 8.32 |\n",
    "| 0.65 | 2.54 |\n",
    "| ... | ...|\n",
    "\n",
    "where **`wavelength`** is the wavelength of the spectrum, and **`flux`** is the brightness at each wavelength.\n",
    "\n",
    "Let's try opening a FITS table to see how it looks for ourselves.\n",
    "\n",
    "First, find the example galaxy spectrum in our data/spectra directory with the ID = `110` and enter the file name in the cell below."
   ]
  },
  {
   "cell_type": "code",
   "execution_count": 14,
   "metadata": {},
   "outputs": [],
   "source": [
    "# Type in the file name of the example galaxy spectrum with ID = 110\n",
    "example_spectrum_filename = 'example_galaxy_spectrum.fits'"
   ]
  },
  {
   "cell_type": "markdown",
   "metadata": {},
   "source": [
    "Next, look through the two functions that we define below. What do you think that they do? Write your answers below (For now, don't worry about the unfinished portions. We will come back to these and fix them):\n",
    "\n",
    "1) `read_spectrum()`:\n",
    "2) `plot_spectrum()`:\n",
    "\n",
    "When you have finished, discuss together, and call over one of the volunteers to check your answers. Then, run the cell below containing the `read_spectrum()` function. Do not run the `plot_spectrum()` cell yet. Because it is not yet finished, it will return an error if you run the cell."
   ]
  },
  {
   "cell_type": "code",
   "execution_count": 9,
   "metadata": {},
   "outputs": [],
   "source": [
    "def read_spectrum(filename):\n",
    "    \"\"\"\n",
    "    Reads a FITS file and returns the spectrum data as an Astropy Table.\n",
    "    \n",
    "    Parameters:\n",
    "    filename (str): The path to the FITS file.\n",
    "    \n",
    "    Returns:\n",
    "    astropy.table.Table: The spectrum data.\n",
    "    \"\"\"\n",
    "    \n",
    "    table = Table.read(filename)\n",
    "\n",
    "    return table"
   ]
  },
  {
   "cell_type": "code",
   "execution_count": 10,
   "metadata": {
    "id": "zMlagYU9-lw3"
   },
   "outputs": [],
   "source": [
    "# Pre-made function to plot a spectrum\n",
    "def plot_spectrum(filename, wave_range=None, fig=None, ax=None):\n",
    "    \"\"\"\n",
    "    Plots the spectrum from the given filename.\n",
    "\n",
    "    Parameters:\n",
    "        filename (str): Path to the spectrum file.\n",
    "        wave_range (tuple, optional): (wave_min, wave_max) for x-axis limits.\n",
    "        fig (matplotlib.figure.Figure, optional): Existing figure to use.\n",
    "        ax (matplotlib.axes.Axes, optional): Existing axes to use.\n",
    "\n",
    "    Returns:\n",
    "        fig, ax: The figure and axis containing the plot.\n",
    "    \"\"\"\n",
    "    table = read_spectrum(filename)\n",
    "\n",
    "    ############################# Edit Here ##############################\n",
    "    \n",
    "    wave = table['wavelength']\n",
    "    flux = table['flux']\n",
    "\n",
    "    x_axis_label = r'Observed Wavelength ($\\AA$)' # What are the units?\n",
    "    y_axis_label = 'Flux'\n",
    "    \n",
    "    ######################################################################\n",
    "\n",
    "    # Apply wavelength range if specified\n",
    "    if wave_range is not None:\n",
    "        wave_min, wave_max = wave_range\n",
    "\n",
    "        # Create a mask to isolate the wavelength region\n",
    "        mask = (wave >= wave_min) & (wave <= wave_max)\n",
    "\n",
    "        # Apply the mask to the wavelength and flux arrays\n",
    "        wave = wave[mask]\n",
    "        flux = flux[mask]\n",
    "\n",
    "    # Create figure and axis if not provided\n",
    "    if ax is None or fig is None:\n",
    "        fig, ax = plt.subplots(figsize=(8, 4))\n",
    "\n",
    "    # Plot the spectrum\n",
    "    ax.step(wave, flux, where='mid', color='black', lw=1)\n",
    "    ax.set_xlabel(r'Wavelength [$\\AA$]')\n",
    "    ax.set_ylabel('Flux')\n",
    "\n",
    "    if wave_range is not None:\n",
    "        ax.set_xlim(wave_min, wave_max)\n",
    "\n",
    "    return fig, ax\n"
   ]
  },
  {
   "cell_type": "markdown",
   "metadata": {},
   "source": [
    "## View the table\n",
    "\n",
    "Now that we know what is happening in the pre-defined functions, let's take a look at what's in the FITS table. Run the cell below to see the contents of our example spectrum file. What are the different column names?"
   ]
  },
  {
   "cell_type": "code",
   "execution_count": null,
   "metadata": {},
   "outputs": [
    {
     "data": {
      "text/html": [
       "<div><i>Table length=2552</i>\n",
       "<table id=\"table5958666832\" class=\"table-striped table-bordered table-condensed\">\n",
       "<thead><tr><th>wavelength</th><th>flux</th><th>flux_err</th></tr></thead>\n",
       "<thead><tr><th>Angstrom</th><th>erg / (Angstrom s cm2)</th><th>erg / (Angstrom s cm2)</th></tr></thead>\n",
       "<thead><tr><th>float64</th><th>float64</th><th>float64</th></tr></thead>\n",
       "<tr><td>2679.04788160715</td><td>8.556492124827827e-20</td><td>9.77190360657192e-20</td></tr>\n",
       "<tr><td>2680.6384443687184</td><td>3.2376892308313696e-19</td><td>9.878359161215989e-20</td></tr>\n",
       "<tr><td>2682.2290071302864</td><td>2.3836173050873986e-20</td><td>1.12975934342452e-19</td></tr>\n",
       "<tr><td>2683.819569891854</td><td>1.080289437396795e-19</td><td>1.143031330047974e-19</td></tr>\n",
       "<tr><td>2685.4101326534224</td><td>3.2532118250898526e-19</td><td>9.915801098967775e-20</td></tr>\n",
       "<tr><td>2687.0006954149903</td><td>1.1322923915627413e-19</td><td>9.131162402552186e-20</td></tr>\n",
       "<tr><td>2688.5912581765583</td><td>1.6882411400457897e-19</td><td>9.836597618736284e-20</td></tr>\n",
       "<tr><td>2690.1818209381263</td><td>1.3055009737820381e-19</td><td>8.451199387561599e-20</td></tr>\n",
       "<tr><td>2691.7723836996943</td><td>-2.2952078613531566e-19</td><td>1.0379160632075098e-19</td></tr>\n",
       "<tr><td>...</td><td>...</td><td>...</td></tr>\n",
       "<tr><td>8232.587795476822</td><td>--</td><td>--</td></tr>\n",
       "<tr><td>8235.273745800603</td><td>--</td><td>--</td></tr>\n",
       "<tr><td>8237.959696124384</td><td>--</td><td>--</td></tr>\n",
       "<tr><td>8240.645646448162</td><td>--</td><td>--</td></tr>\n",
       "<tr><td>8243.331596771943</td><td>--</td><td>--</td></tr>\n",
       "<tr><td>8246.017547095724</td><td>--</td><td>--</td></tr>\n",
       "<tr><td>8248.703497419505</td><td>--</td><td>--</td></tr>\n",
       "<tr><td>8251.389447743284</td><td>--</td><td>--</td></tr>\n",
       "<tr><td>8254.075398067063</td><td>--</td><td>--</td></tr>\n",
       "</table></div>"
      ],
      "text/plain": [
       "<Table length=2552>\n",
       "    wavelength               flux                 flux_err       \n",
       "     Angstrom       erg / (Angstrom s cm2) erg / (Angstrom s cm2)\n",
       "     float64               float64                float64        \n",
       "------------------ ----------------------- ----------------------\n",
       "  2679.04788160715   8.556492124827827e-20   9.77190360657192e-20\n",
       "2680.6384443687184  3.2376892308313696e-19  9.878359161215989e-20\n",
       "2682.2290071302864  2.3836173050873986e-20   1.12975934342452e-19\n",
       " 2683.819569891854   1.080289437396795e-19  1.143031330047974e-19\n",
       "2685.4101326534224  3.2532118250898526e-19  9.915801098967775e-20\n",
       "2687.0006954149903  1.1322923915627413e-19  9.131162402552186e-20\n",
       "2688.5912581765583  1.6882411400457897e-19  9.836597618736284e-20\n",
       "2690.1818209381263  1.3055009737820381e-19  8.451199387561599e-20\n",
       "2691.7723836996943 -2.2952078613531566e-19 1.0379160632075098e-19\n",
       "               ...                     ...                    ...\n",
       " 8232.587795476822                      --                     --\n",
       " 8235.273745800603                      --                     --\n",
       " 8237.959696124384                      --                     --\n",
       " 8240.645646448162                      --                     --\n",
       " 8243.331596771943                      --                     --\n",
       " 8246.017547095724                      --                     --\n",
       " 8248.703497419505                      --                     --\n",
       " 8251.389447743284                      --                     --\n",
       " 8254.075398067063                      --                     --"
      ]
     },
     "execution_count": 12,
     "metadata": {},
     "output_type": "execute_result"
    }
   ],
   "source": [
    "table = read_spectrum(raw_data_dir + example_spectrum_filename)\n",
    "table"
   ]
  },
  {
   "cell_type": "markdown",
   "metadata": {},
   "source": [
    "## Edit `plot_spectrum()` above\n",
    "\n",
    "We will now finish writing the `plot_spectrum()` function. Go ahead and edit the portions labeled \"Edit Here\" in order to make it work properly!\n",
    "\n",
    "*Think: Which column in the table should go on which axis?*\n",
    "\n",
    "Don't forget to run the `plot_spectrum()` cell before continuing!"
   ]
  },
  {
   "cell_type": "markdown",
   "metadata": {},
   "source": [
    "## Plot a spectrum\n",
    "\n",
    "Now that our function is working properly, run the cell below to plot the example spectrum."
   ]
  },
  {
   "cell_type": "code",
   "execution_count": 15,
   "metadata": {
    "id": "pqpgj3AF-yWi"
   },
   "outputs": [
    {
     "data": {
      "image/png": "[encoded data removed]",
      "text/plain": [
       "<Figure size 800x400 with 1 Axes>"
      ]
     },
     "metadata": {},
     "output_type": "display_data"
    }
   ],
   "source": [
    "# Read in a spectrum and plot it!\n",
    "\n",
    "# Plot the spectrum!\n",
    "# First, let's define a figure and axis\n",
    "fig, ax = plt.subplots(1,1, figsize=(8,4))\n",
    "\n",
    "# Now, let's use the plot_spectrum() function we saw above\n",
    "fig, ax = plot_spectrum(raw_data_dir+example_spectrum_filename, fig=fig, ax=ax)"
   ]
  },
  {
   "cell_type": "markdown",
   "metadata": {
    "id": "QRn0RlYX-_Kk"
   },
   "source": [
    "Congratulations! You just opened a FITS table, loaded the spectrum of a galaxy, and plotted it onto a figure!\n",
    "\n",
    "What kind of features can you see in the spectrum? Continuum emission? Emission lines? Absorption lines? \n"
   ]
  },
  {
   "cell_type": "markdown",
   "metadata": {},
   "source": [
    "## Zoom in on some emission lines\n",
    "\n",
    "Emission lines act like fingerprints for chemicals and elements in galaxies --- once you find a pattern, you start spotting them in most other spectra. \n",
    "\n",
    "Let's zoom into an easily recognizable group of three bright emission lines around 500 nm (5000 Å). Run the cell below to plot just a portion of the spectrum. If the spectrum is not zoomed in enough or centered, try changing `min_wave` and `max_wave` to capture the three emission lines better."
   ]
  },
  {
   "cell_type": "code",
   "execution_count": 21,
   "metadata": {
    "id": "GeN3cWs1-yUL"
   },
   "outputs": [
    {
     "data": {
      "image/png": "[encoded data removed]",
      "text/plain": [
       "<Figure size 800x400 with 1 Axes>"
      ]
     },
     "metadata": {},
     "output_type": "display_data"
    }
   ],
   "source": [
    "# Define the range of wavelengths to zoom in on\n",
    "min_wave = 4400 #Angstroms  You should edit this \n",
    "max_wave = 5200 #Angstroms  You should edit this too\n",
    "\n",
    "# Input the additional argument \"wave_range\" to plot_spectrum() \n",
    "# to zoom in on a specific wavelength range\n",
    "fig, ax = plot_spectrum(raw_data_dir+example_spectrum_filename, ax=ax, wave_range=[min_wave, max_wave])"
   ]
  },
  {
   "cell_type": "markdown",
   "metadata": {},
   "source": [
    "## Find the same group of emission lines in a different spectrum\n",
    "\n",
    "Now, let's plot another spectrum. Find the second example spectrum in the data directory and read it in using the code in the cell below.\n",
    "\n",
    "Can you find the same group of three emission lines in a new spectrum? Try zooming into the group of lines. Are they still at around 500nm?"
   ]
  },
  {
   "cell_type": "code",
   "execution_count": 19,
   "metadata": {
    "id": "rFTeIo69-yO9"
   },
   "outputs": [
    {
     "data": {
      "image/png": "[encoded data removed]",
      "text/plain": [
       "<Figure size 600x400 with 1 Axes>"
      ]
     },
     "metadata": {},
     "output_type": "display_data"
    }
   ],
   "source": [
    "# Specify another file name \n",
    "example_spectrum_filename_2 = 'example_galaxy_spectrum2.fits'\n",
    "\n",
    "# Define a new wavelength range\n",
    "min_wave = 15000 #Angstroms\n",
    "max_wave = 50000 #Angstroms\n",
    "\n",
    "fig, ax = plt.subplots(1,1, figsize=(6,4))\n",
    "fig, ax = plot_spectrum(raw_data_dir+example_spectrum_filename_2, fig=fig, ax=ax, wave_range=[min_wave, max_wave])"
   ]
  },
  {
   "cell_type": "markdown",
   "metadata": {
    "id": "RPOV8V8JAPbn"
   },
   "source": [
    "What is the approximate wavelength of the rightmost emission line in our recognizeable group of three? Note that this is not the wavelength you would see in a laboratory!\n",
    "\n",
    "The emission lines of far-away galaxies are often redshifted away from what they would look like in a laboratory. Since the wavelength of an emission line of a redshifted galaxy isn't its true wavelength, we call it the ***\"observed wavelength\"***.\n",
    "\n",
    "Take note of this rightmost emission line. We will be focusing on this line for the rest of the project!\n",
    "\n",
    "***"
   ]
  },
  {
   "cell_type": "markdown",
   "metadata": {
    "id": "5o6Vf8JNAc0K"
   },
   "source": [
    "# Using Python to find the wavelength of an emission line\n",
    "\n",
    "> Coding learning goal: \n",
    ">*  Fit an emission line with a Gaussian profile\n",
    ">*  Overlay a Gaussian curve on an emission line in a plot\n",
    "\n",
    "While we can try to figure out the observed wavelength of emission lines by eye and hope for the best, that's not very scientific... Is the emission line exactly at one single wavelength?\n",
    "\n",
    "### The Gaussian function\n",
    "\n",
    "What we can do instead, is write some code to find the \"center\" of an emission line. The standard approach is to \"fit\" the emission line with a Gaussian function (sometimes called a Gaussian profile). A Gaussian profile is shown below:\n",
    "\n",
    "![figure7](images/gaussian.png)\n",
    "\n",
    "For our purposes, you can imagine that wavelength is on the x-axis and flux is on the y-axis in the image above. What exactly is this function? The equation that describes a Gaussian profile is:\n",
    "\n",
    "$$G(x) = A \\times {\\rm exp} \\left[ -\\frac{(x-\\mu)^2}{2\\sigma^2} \\right]$$\n",
    "\n",
    "*Note: ${\\rm exp}(x)$ is the same as $e^x$*\n",
    "\n",
    "- $\\mu$: The center of the Gaussian profile\n",
    "- $\\sigma$: The width of the Gaussian profile\n",
    "- $A$: The amplitude (maximum height) of the Gaussian profile\n",
    "- $x$: The wavelength of the spectrum (the x-axis).\n",
    "\n",
    "\n",
    "The process of \"fitting\" involves changing the shape of this Gaussian function (the location of its center ($\\mu$), its width ($\\sigma$), and its height ($A$)) so that it matches or \"fits\" the emission line of interest. The image above shows a Gaussian centered at zero ($\\mu = 0$), but we can modify the center to be any value.\n",
    "\n",
    "\n",
    "The function `fit_gaussian()` helps us create the model Gaussian that we will use to fit the emission lines. After it figures out the best model, it tells us exactly where the emission line \"center\" ($\\mu$) is.\n",
    "\n",
    "Let's run the `fit_gaussian()` function on our first spectrum and see what it outputs. You can also find this function in the `helper_functions.py` script in the scripts directory. Edit the cell below as necessary and plot the first example spectrum. Make sure to zoom in on the rightmost emission line in that group of three! *Ensure no other lines are visible.*"
   ]
  },
  {
   "cell_type": "code",
   "execution_count": null,
   "metadata": {
    "id": "Rqk2TqMPA-xC"
   },
   "outputs": [],
   "source": [
    "# Run fit_gaussian() on the first example spectrum\n",
    "\n",
    "# Define a new wavelength range (good practice to re-set it here)\n",
    "min_wave = FIXME #Angstrom\n",
    "max_wave = FIXME #Angstrom\n",
    "\n",
    "fig, ax = plt.subplots(1,1, figsize=(6,4))\n",
    "fig, ax = plot_spectrum(raw_data_dir+example_spectrum_filename, fig=fig, ax=ax, wave_range=[min_wave, max_wave])"
   ]
  },
  {
   "cell_type": "markdown",
   "metadata": {},
   "source": [
    "### Once you have zoomed in on the emission line of interest, and no other lines are visible in the spectrum, run the following cell to begin the fitting routine."
   ]
  },
  {
   "cell_type": "code",
   "execution_count": null,
   "metadata": {
    "id": "Rqk2TqMPA-xC"
   },
   "outputs": [],
   "source": [
    "fit, fit_err = fit_gaussian(raw_data_dir+example_spectrum_filename, wave_range=[min_wave, max_wave])"
   ]
  },
  {
   "cell_type": "markdown",
   "metadata": {},
   "source": [
    "## Fit complete\n",
    "\n",
    "The fit has now completed! And we have saved the fit results (our best-fitting Gaussian profile) into the variables `fit` and `fit_err`. We will take a look at the contents of `fit` before we plot it on top of our spectrum. Run the cell below, examine the output, and then run the following cell to plot the Gaussian."
   ]
  },
  {
   "cell_type": "code",
   "execution_count": null,
   "metadata": {
    "id": "y7acBX4ZBaqL"
   },
   "outputs": [],
   "source": [
    "# Print out the best-fit parameters\n",
    "print(f\"Best-fit parameters for spectrum in {example_spectrum_filename}\")\n",
    "print(f\"Amplitude: {fit[0]:.3e}\") # :.3f and :.3e means print three decimal places\n",
    "print(f\"Center: {fit[1]:.3f}\")\n",
    "print(f\"Width: {fit[2]:.3f}\")\n",
    "print(f\"Offset: {fit[3]:.3e}\")\n"
   ]
  },
  {
   "cell_type": "code",
   "execution_count": null,
   "metadata": {},
   "outputs": [],
   "source": [
    "# Let's plot the spectrum and the best-fit Gaussian together\n",
    "\n",
    "fig, ax = plt.subplots(1,1, figsize=(6,4))\n",
    "fig, ax = plot_spectrum(raw_data_dir+example_spectrum_filename, fig=fig, ax=ax, wave_range=[min_wave, max_wave])\n",
    "\n",
    "# Apply the gaussian function to the wavelength array\n",
    "gaussian_wl = np.arange(4000, 6000, 0.01)\n",
    "flux_fit = gaussian(gaussian_wl, *fit)  \n",
    "\n",
    "# Note: *fit unpacks the fit array into individual parameters\n",
    "# This is the same as gaussian(wave, fit[0], fit[1], fit[2], fit[3])\n",
    "\n",
    "# Plot the best-fit Gaussian\n",
    "ax.plot(gaussian_wl, flux_fit, color='red', lw=2, label='Best-fit Gaussian')\n",
    "ax.set_title(f'Spectrum with Best-fit Gaussian for {example_spectrum_filename}')\n",
    "ax.legend()\n",
    "plt.show()"
   ]
  },
  {
   "cell_type": "markdown",
   "metadata": {},
   "source": [
    "We will need to repeat this process of plotting Gaussian profile fits many times later. Turning this into a function will save us time later..."
   ]
  },
  {
   "cell_type": "code",
   "execution_count": null,
   "metadata": {},
   "outputs": [],
   "source": [
    "def plot_gaussian_fit(filename, wave_range=None, fig=None, ax=None):\n",
    "    \"\"\"\n",
    "    Plots the spectrum and the best-fit Gaussian for a given filename.\n",
    "\n",
    "    Parameters:\n",
    "        filename (str): Path to the spectrum file.\n",
    "        wave_range (tuple, optional): (wave_min, wave_max) for x-axis limits.\n",
    "        fig (matplotlib.figure.Figure, optional): Existing figure to use.\n",
    "        ax (matplotlib.axes.Axes, optional): Existing axes to use.\n",
    "\n",
    "    Returns:\n",
    "        fig, ax: The figure and axis containing the plot.\n",
    "    \"\"\"\n",
    "    # Fit the Gaussian to the spectrum\n",
    "    fit, fit_err = fit_gaussian(filename, wave_range)\n",
    "    \n",
    "    # Read the spectrum data and create the fit curve\n",
    "    table = read_spectrum(filename)\n",
    "    gaussian_wl = np.arange(np.amin(table['wavelength']), np.amax(table['wavelength']), 0.01)\n",
    "  \n",
    "    flux_fit = gaussian(gaussian_wl, *fit)\n",
    "\n",
    "    if ax is None or fig is None:\n",
    "        fig, ax = plt.subplots(figsize=(6, 4))\n",
    "\n",
    "    fig, ax = plot_spectrum(filename, wave_range=wave_range, fig=fig, ax=ax)\n",
    "    ax.plot(gaussian_wl, flux_fit, color='red', lw=2, label='Best-fit Gaussian')\n",
    "    ax.set_title(f'Spectrum with Best-fit Gaussian for {os.path.basename(filename)}')\n",
    "    ax.legend()\n",
    "\n",
    "    return fig, ax"
   ]
  },
  {
   "cell_type": "markdown",
   "metadata": {
    "id": "JZbQo2N4C2CI"
   },
   "source": [
    "What is the observed wavelength of the emission line?  "
   ]
  },
  {
   "cell_type": "markdown",
   "metadata": {},
   "source": [
    "## Do the same process for the second spectrum\n",
    "\n",
    "In our second example spectrum, find the exact same emission line (note, it may not be at the same wavelength!) and fit the line with a Gaussian profile."
   ]
  },
  {
   "cell_type": "code",
   "execution_count": null,
   "metadata": {},
   "outputs": [],
   "source": [
    "# Now, let's repeat the fitting for the second spectrum\n",
    "FIXME\n",
    "FIXME\n",
    "FIXME\n",
    "\n"
   ]
  },
  {
   "cell_type": "code",
   "execution_count": null,
   "metadata": {},
   "outputs": [],
   "source": [
    "FIXME\n",
    "FIXME\n",
    "FIXME\n",
    "FIXME\n"
   ]
  },
  {
   "cell_type": "code",
   "execution_count": null,
   "metadata": {},
   "outputs": [],
   "source": [
    "FIXME\n",
    "FIXME\n",
    "FIXME\n",
    "FIXME\n"
   ]
  },
  {
   "cell_type": "markdown",
   "metadata": {},
   "source": [
    "How different are the observed wavelengths of this emission line in spectrum 1 and spectrum 2? \n",
    "\n",
    "***"
   ]
  },
  {
   "cell_type": "markdown",
   "metadata": {
    "id": "QOjU2dXJC3V9"
   },
   "source": [
    "# Fitting emission lines in many spectra\n",
    "\n",
    "Now that we've found the wavelength of an emission line in two spectra, let's do the same procedure for a whole bunch of spectra!"
   ]
  },
  {
   "cell_type": "markdown",
   "metadata": {
    "id": "YxEQs_ewC-N4"
   },
   "source": [
    "## Crop the spectra and save the wavelength ranges\n",
    "\n",
    "> Coding learning goal:\n",
    ">*  Read in filenames from a directory\n",
    ">*  Create a pandas DataFrame to save filenames and corresponding info\n",
    ">*  Save a list of information to a .csv file\n",
    "\n",
    "As you saw in the last Gaussian fitting exercise, you don't need to use the whole spectrum when you're fitting an emission line. You just need a small portion (wavelength range) that includes the line you are interested in. In this next exercise, you will need to manually inspect each spectrum and determine the wavelength range to crop.\n",
    "\n",
    "Our \"spectra\" directory contains 55 spectra, but let's just examine the first ten. Edit the cell below to accomplish this."
   ]
  },
  {
   "cell_type": "code",
   "execution_count": null,
   "metadata": {
    "id": "QcbyPLspDCd_"
   },
   "outputs": [],
   "source": [
    "# Load in 10 spectra\n",
    "number_of_spectra_to_load = 10 # Edit here\n",
    "\n",
    "raw_spectra_dir = 'data/spectra/'\n",
    "\n",
    "# Use os.listdir to get the filenames\n",
    "filenames_arr = os.listdir(raw_spectra_dir)\n",
    "# Filter the filenames to only include .fits files\n",
    "filenames_arr = [fn for fn in filenames_arr if fn.endswith('.fits')]\n",
    "# Limit to the first 10 filenames\n",
    "ten_filenames_arr = filenames_arr[:number_of_spectra_to_load]"
   ]
  },
  {
   "cell_type": "markdown",
   "metadata": {},
   "source": [
    "Now that we have a list of the 10 spectra, let's display them one at a time by changing `file_no`, running the cell, and saving a wavelength range for each spectrum in the `wave_range_arr` array. Remember to choose a wavelength range around the same emission line as before in every spectrum.\n",
    "\n",
    "`wave_range_arr` will print as you go to keep track of your progress.\n",
    "\n",
    "*Hint: A good starting point for `min_wave` and `max_wave` if nothnig shows up is 20,000 and 50,000*"
   ]
  },
  {
   "cell_type": "code",
   "execution_count": null,
   "metadata": {
    "id": "xUhHEYx-DexZ"
   },
   "outputs": [],
   "source": [
    "file_no = 0    # Change this number from 0 to 9\n",
    "\n",
    "# Show the full spectrum\n",
    "spectrum_filename = ten_filenames_arr[file_no]\n",
    "\n",
    "# Define a new wavelength range\n",
    "min_wave = FIXME #nm\n",
    "max_wave = FIXME #nm\n",
    "\n",
    "fig, ax = plt.subplots(1,1, figsize=(6,4))\n",
    "fig, ax = plot_spectrum(raw_spectra_dir+spectrum_filename, fig=fig, ax=ax, wave_range=[min_wave, max_wave])\n",
    "\n",
    "# Save the wavelength ranges to wave_range_arr\n",
    "try:\n",
    "    s = np.sum(wave_range_arr)\n",
    "except:\n",
    "    wave_range_arr = np.zeros((len(ten_filenames_arr), 2))\n",
    "    \n",
    "wave_range_arr[file_no] = [min_wave, max_wave]"
   ]
  },
  {
   "cell_type": "markdown",
   "metadata": {},
   "source": [
    "After filling `wave_range_arr`, we can save the `min_wave` and `max_wave` with the corresponding filename. "
   ]
  },
  {
   "cell_type": "code",
   "execution_count": null,
   "metadata": {},
   "outputs": [],
   "source": [
    "# Let's check what the wave_range_arr looks like\n",
    "print(\"Wave range array:\")\n",
    "print(wave_range_arr)"
   ]
  },
  {
   "cell_type": "code",
   "execution_count": null,
   "metadata": {
    "id": "620XmsfdDepD"
   },
   "outputs": [],
   "source": [
    "# Save filename and wave_range_arr into a .csv file\n",
    "\n",
    "# Create a pandas DataFrame to store the filenames and wave ranges\n",
    "df = pd.DataFrame({\n",
    "    'filename': ten_filenames_arr,\n",
    "    'min_wave': wave_range_arr[:, 0],\n",
    "    'max_wave': wave_range_arr[:, 1]\n",
    "})\n",
    "\n",
    "# Save the DataFrame to a CSV file\n",
    "output_filename = 'waverange.csv'\n",
    "df.to_csv(output_filename, index=False)\n",
    "# Print the DataFrame to check\n",
    "print(df)"
   ]
  },
  {
   "cell_type": "markdown",
   "metadata": {
    "id": "q090ctDvJccH"
   },
   "source": [
    "Just to save you some time, we helped you crop about 50 other spectra! Let's load them in and add them to the file you created above..."
   ]
  },
  {
   "cell_type": "code",
   "execution_count": null,
   "metadata": {},
   "outputs": [],
   "source": [
    "# Load in the premade waverange.csv file\n",
    "premade_waverange_filename = 'data/premade_waverange.csv'\n",
    "\n",
    "# Read the CSV file into a pandas DataFrame (df)\n",
    "premade_df = pd.read_csv(premade_waverange_filename)\n",
    "# Remove the rows that contain the same filename as the original df\n",
    "cropped_premade_df = premade_df[~premade_df['filename'].isin(ten_filenames_arr)]\n",
    "\n",
    "# Combine the two DataFrames\n",
    "combined_df = pd.concat([df, cropped_premade_df], ignore_index=True)\n",
    "# Save the combined DataFrame to a new CSV file\n",
    "combined_output_filename = 'combined_waverange.csv'\n",
    "combined_df.to_csv('data/'+combined_output_filename, index=False)"
   ]
  },
  {
   "cell_type": "markdown",
   "metadata": {},
   "source": [
    "***"
   ]
  },
  {
   "cell_type": "markdown",
   "metadata": {
    "id": "L3Q59uK_Jimn"
   },
   "source": [
    "## For Loop to apply the procedure on many spectra\n",
    "\n",
    "> Coding learning goal: \n",
    ">*  Write for loops to apply a procedure to many files\n",
    ">*  Append data to a list\n",
    "\n",
    "Now that we have 55 spectra, we wouldn't want to manually change `file_no` 55 times to perform our Gaussian fitting on each spectrum. Let us use a for loop to make the computer do the repetitious work for us!\n",
    "\n",
    "First, run the cell below to read in the DataFrame and display the contents so that we know what it looks like."
   ]
  },
  {
   "cell_type": "code",
   "execution_count": null,
   "metadata": {
    "id": "c7Kqb_VTHghJ"
   },
   "outputs": [],
   "source": [
    "# Before doing anything, we need to read in the big list of filenames and wavelength ranges\n",
    "combined_output_filename = 'data/combined_waverange.csv'\n",
    "combined_df = pd.read_csv(combined_output_filename)\n",
    "\n",
    "combined_df"
   ]
  },
  {
   "cell_type": "code",
   "execution_count": null,
   "metadata": {},
   "outputs": [],
   "source": [
    "# Load the filenames and wavelength ranges into arrays\n",
    "# Replace 'FIXME_column_name' with the actual column names from your DataFrame\n",
    "df_filename_arr = combined_df['filename']\n",
    "df_min_wave_arr = combined_df['min_wave']\n",
    "df_max_wave_arr = combined_df['max_wave']"
   ]
  },
  {
   "cell_type": "markdown",
   "metadata": {},
   "source": [
    "### Loop through the spectra\n",
    "\n",
    "We are now ready to run our loop on all of the spectra! Run the cell below and let the fitting code run its course. It will plot every ten spectra just so you can see. If you would like to modify this, edit the `plot_every_N_fits` variable."
   ]
  },
  {
   "cell_type": "code",
   "execution_count": null,
   "metadata": {},
   "outputs": [],
   "source": [
    "# First, initialize an empty list to store the fitted line centers\n",
    "filenames_arr = []\n",
    "fitted_centers = []\n",
    "fitted_centers_err = []\n",
    "\n",
    "plot_every_N_fits = 10\n",
    "\n",
    "# Now, create a For Loop to go through each row\n",
    "for row_idx in range(len(df_filename_arr)):\n",
    "\n",
    "    # Get the filename and waveranges for a specific galaxy\n",
    "    spectrum_filename = df_filename_arr[row_idx]\n",
    "    min_wave = df_min_wave_arr[row_idx]\n",
    "    max_wave = df_max_wave_arr[row_idx]\n",
    "    wave_range = [min_wave, max_wave]\n",
    "\n",
    "    print(spectrum_filename, min_wave, max_wave)\n",
    "\n",
    "    # Fit a Gaussian to the spectrum\n",
    "    try:\n",
    "        fit, fit_err = fit_gaussian(raw_spectra_dir+spectrum_filename, wave_range=wave_range)\n",
    "    except ValueError:\n",
    "        continue\n",
    "\n",
    "    # We want the line center, which is index 1\n",
    "    center = fit[1]\n",
    "    center_err = fit_err[1]\n",
    "\n",
    "    # Add this info into our empty lists\n",
    "    filenames_arr.append(spectrum_filename)\n",
    "    fitted_centers.append(center)\n",
    "    fitted_centers_err.append(center_err)\n",
    "\n",
    "    # Just to make sure the code is running correcting in general,\n",
    "    # we can display a few of the fitted Gaussians.\n",
    "    # Let's do this for every N spectra (default, N=10):\n",
    "    if row_idx%plot_every_N_fits == 0:\n",
    "        fig, ax = plt.subplots(figsize=(3,3))\n",
    "        fig, ax = plot_gaussian_fit(raw_spectra_dir+spectrum_filename, wave_range=wave_range, fig=fig, ax=ax)\n",
    "    \n",
    "    \n",
    "# Turn the lists into numpy arrays\n",
    "filenames_arr = np.array(filenames_arr)\n",
    "fitted_centers = np.array(fitted_centers)\n",
    "fitted_centers_err = np.array(fitted_centers_err)"
   ]
  },
  {
   "cell_type": "markdown",
   "metadata": {},
   "source": [
    "## Fitting complete\n",
    "\n",
    "Now that the Gaussian profile fitting has completed for all 55 spectra, we will save the results to a csv file. Specifically, we are saving the file name for each spectrum, the best-fitting center ($\\mu$) for our selected emission line, and the uncertainty on our estimate of $\\mu$."
   ]
  },
  {
   "cell_type": "code",
   "execution_count": null,
   "metadata": {
    "id": "MCAp7_PxC9tT"
   },
   "outputs": [],
   "source": [
    "# Save the arrays to the combined output .csv file\n",
    "\n",
    "# Make a new dataframe with the filename, fitted_centers, and fitted_centers_err\n",
    "fit_df = pd.DataFrame({\n",
    "    'filename': filenames_arr,\n",
    "    'fitted_centers': fitted_centers,\n",
    "    'fitted_centers_err': fitted_centers_err,\n",
    "})\n",
    "\n",
    "fit_filename = 'fitted_centers.csv'\n",
    "fit_df.to_csv(fit_filename, index=False)"
   ]
  },
  {
   "cell_type": "markdown",
   "metadata": {},
   "source": [
    "***"
   ]
  },
  {
   "cell_type": "markdown",
   "metadata": {
    "id": "92AmdxsAP6Kh"
   },
   "source": [
    "# Adding redshift information to our catalog\n",
    "\n",
    "> Coding learning goal:\n",
    ">*  Read in a .csv file as a pandas DataFrame, and merge with an existing DataFrame\n",
    "\n",
    "Astronomers have previously observed these galaxies and figured out their redshifts. These values are recorded in the file `redshift_catalog.csv`. Run the cell below to read in the redshifts and add them to your table with filenames and fitted line centers.\n",
    "\n",
    "Edit the cell below to merge the redshift catalog with our existing `fit_df` DataFrame."
   ]
  },
  {
   "cell_type": "code",
   "execution_count": null,
   "metadata": {
    "id": "wPgNW1muRH2l"
   },
   "outputs": [],
   "source": [
    "redshift_catalog_filename = 'data/redshift_catalog.csv'\n",
    "\n",
    "# Read the CSV file into a pandas DataFrame\n",
    "redshift_catalog_df = pd.read_csv(redshift_catalog_filename)\n",
    "\n",
    "# Merge the fitted centers with the redshift catalog\n",
    "######################### Edit Here ############################\n",
    "\n",
    "merged_df = pd.merge(fit_df, redshift_catalog_df, on='filename', how='outer')\n",
    "merged_output_filename = 'redshift_fitted_center_catalog.csv'\n",
    "\n",
    "################################################################\n",
    "\n",
    "# Save the merged DataFrame to a new CSV file\n",
    "merged_df.to_csv(merged_output_filename, index=False)"
   ]
  },
  {
   "cell_type": "markdown",
   "metadata": {},
   "source": [
    "***"
   ]
  },
  {
   "cell_type": "markdown",
   "metadata": {
    "id": "X-7wNgrzX3nX"
   },
   "source": [
    "# Plotting our results: emission line wavelength vs. redshift\n",
    "\n",
    "> Coding learning goal:\n",
    ">*  Plot data points\n",
    ">*  Fit a line to data points and plot the line\n",
    "\n",
    "Now that we have a list of observed emission line centers and corresponding redshifts, we can demonstrate how wavelengths vary with redshift. First, we need to create an *observed wavelength vs. redshift* plot."
   ]
  },
  {
   "cell_type": "markdown",
   "metadata": {
    "id": "dCoMckoTY6xy"
   },
   "source": [
    "## Observed wavelength vs. redshift\n",
    "\n",
    "What data should we have as the x-axis and y-axis? Examine the merged DataFrame, and edit the cell below to populate the arrays with the correct columns from the DataFrame. After making edits, run the cell, and a plot will be generated below."
   ]
  },
  {
   "cell_type": "code",
   "execution_count": null,
   "metadata": {
    "id": "JbyiBGOGQCUm"
   },
   "outputs": [],
   "source": [
    "merged_df = pd.read_csv(merged_output_filename)\n",
    "\n",
    "# Populate a redshift array (x)\n",
    "redshift_arr = merged_df['z'].values\n",
    "\n",
    "# Populate an observed wavelength array (y)\n",
    "observed_wave_arr = merged_df['fitted_center'].values\n",
    "\n",
    "# Populate an error array (y_err)\n",
    "observed_wave_err_arr = merged_df['fitted_center_err'].values\n",
    "\n",
    "redshift_arr = redshift_arr[~np.isnan(observed_wave_arr)]\n",
    "observed_wave_err_arr = observed_wave_err_arr[~np.isnan(observed_wave_arr)]\n",
    "observed_wave_arr = observed_wave_arr[~np.isnan(observed_wave_arr)]\n",
    "\n",
    "# Plot the data with error bars\n",
    "fig, ax = plt.subplots(figsize=(6, 5))\n",
    "\n",
    "ax.errorbar(redshift_arr, observed_wave_arr, yerr=observed_wave_err_arr, fmt='o', color='black', ecolor='lightgray', elinewidth=1, capsize=3)\n",
    "ax.set_xlabel('Redshift')\n",
    "ax.set_ylabel(r'Observed Wavelength ($\\AA$)')\n",
    "ax.set_title('Observed Wavelength vs. Redshift')\n"
   ]
  },
  {
   "cell_type": "markdown",
   "metadata": {
    "id": "UDxZpeDiZO0A"
   },
   "source": [
    "## Fit a model to the data\n",
    "\n",
    "Remember our discussion of fitting with Gaussian profiles? We will be performing another fit, this time with a straight line through our data points. Recall that the equation of a line is<br>\n",
    "$y = m \\times x + b$<br>\n",
    "where $m$ is the slope and $b$ is the y-intercept.<p>\n",
    "\n",
    "Let's make this equation a little clearer by labeling $y$ as the observed wavelength $\\lambda_{\\mathrm{obs}}$ and $x$ as the redshift $z$:<br>\n",
    "$\\lambda_{\\mathrm{obs}} = m \\times z + b $ \n",
    "\n",
    "In the cell below, we have an incomplete function for a straight line. Edit the function so that it returns the equation of a straight line."
   ]
  },
  {
   "cell_type": "code",
   "execution_count": null,
   "metadata": {
    "id": "ughGH1szZRsg"
   },
   "outputs": [],
   "source": [
    "# Define the equation\n",
    "\n",
    "def straight_line(z, m, b):\n",
    "    lambda_obs = m*z + b\n",
    "    return lambda_obs"
   ]
  },
  {
   "cell_type": "markdown",
   "metadata": {},
   "source": [
    "## Fit the linear model to the data\n",
    "\n",
    "Now that we have our linear model relating redshift ($z$) and observed wavelength ($\\lambda_{obs}$), we will perform a fit to the data and inspect the output slope and intercept. Run the cell below to inspect the output fit results.\n",
    "\n",
    "What do you notice about $m$ and $b$? Write your answer below:\n",
    "\n",
    "- "
   ]
  },
  {
   "cell_type": "code",
   "execution_count": null,
   "metadata": {
    "id": "oH7Ci8zuaQvS"
   },
   "outputs": [],
   "source": [
    "# Use scipy.optimize.curve_fit() to fit the data\n",
    "\n",
    "fit, cov = curve_fit(straight_line, redshift_arr, observed_wave_arr)\n",
    "\n",
    "# Extract the slope and intercept from the fit parameters\n",
    "slope = fit[0]\n",
    "intercept = fit[1]\n",
    "\n",
    "# Get the fit errors\n",
    "err = np.sqrt(np.diag(cov))\n",
    "slope_err = err[0]\n",
    "intercept_err = err[1]\n",
    "\n",
    "# Print the fit parameters and errors\n",
    "print(f\"Slope (m): {slope:.3f} ± {slope_err:.3f}\")\n",
    "print(f\"Intercept (b): {intercept:.3f} ± {intercept_err:.3f}\")"
   ]
  },
  {
   "cell_type": "markdown",
   "metadata": {
    "id": "pcoSGgb3aW8z"
   },
   "source": [
    "## Plot our best-fit line\n",
    "\n",
    "To see if these results look reasonable, let's plot the best-fitting line over the data. Does the line look like it matches the data well? Run the cell below to see."
   ]
  },
  {
   "cell_type": "code",
   "execution_count": null,
   "metadata": {
    "id": "rzxjoBd5aU6-"
   },
   "outputs": [],
   "source": [
    "# Get the fitted line values\n",
    "fitted_line = straight_line(redshift_arr, slope, intercept)\n",
    "\n",
    "# Plot data and overlay best-fit\n",
    "fig, ax = plt.subplots(figsize=(6, 5))\n",
    "\n",
    "ax.errorbar(redshift_arr, observed_wave_arr, yerr=observed_wave_err_arr, fmt='o', color='black', ecolor='lightgray', elinewidth=1, capsize=3)\n",
    "ax.plot(redshift_arr, fitted_line, color='red', lw=2, label='Best-fit Line')\n",
    "ax.text(0.05, 0.95, f'Slope: {slope:.3f} ± {slope_err:.3f}\\nIntercept: {intercept:.3f} ± {intercept_err:.3f}',\n",
    "        transform=ax.transAxes, fontsize=10, verticalalignment='top', bbox=dict(facecolor='white', alpha=0.8, edgecolor='black'))\n",
    "\n",
    "ax.set_xlabel('Redshift')\n",
    "ax.set_ylabel(r'Observed Wavelength ($\\AA$)')\n",
    "ax.set_title('Observed Wavelength vs. Redshift')\n",
    "ax.legend(loc='lower right')\n",
    "\n",
    "fig.savefig(figure_dir+'redshift_vs_observed_wavelength.png', dpi=300)"
   ]
  },
  {
   "cell_type": "markdown",
   "metadata": {
    "id": "JgAHhAgRaiQM"
   },
   "source": [
    "# What is the rest wavelength of this emission line?\n",
    "\n",
    "Call over one of the volunteers to verify that the linear fit looks reasonable.\n",
    "\n",
    "If the fit looks reasonable, then we have all that we need to estimate the *true* or \"rest\" wavelength of the emission line that we are interested in. The equation that relates the observed wavelength to the rest wavelength and the redshift is:<br>\n",
    "$$\\lambda_{\\mathrm{obs}} = \\lambda_{\\mathrm{rest}} \\times (1+z)$$\n",
    "\n",
    "From our linear fit, we also have the following equation for the observed wavelength:\n",
    "$$\\lambda_{\\mathrm{obs}} = m \\times z + b $$\n",
    "\n",
    "What do $m$ and $b$ correspond to? You may have noticed that they are roughly the same, so you can rewrite the equation above as\n",
    "$$\\lambda_{\\mathrm{obs}} \\approx m \\times z + m $$\n",
    "\n",
    "Combine the two equations so that you can express $\\lambda_{\\mathrm{rest}}$ in terms of $m$.\n",
    "\n",
    "What is the rest wavelength $\\lambda_{\\mathrm{rest}}$ of our emission line?\n",
    "\n",
    "Write your answer below:"
   ]
  },
  {
   "cell_type": "code",
   "execution_count": null,
   "metadata": {},
   "outputs": [],
   "source": [
    "# Bonus: Write code below that takes the average of m and b to get a better answer."
   ]
  },
  {
   "cell_type": "markdown",
   "metadata": {},
   "source": [
    "## Comparing with known emission line wavelenghts\n",
    "\n",
    "Now that you have measured the rest wavelength of our mystery emission line, compare your answer to the table below. What is the name of this emission line? Which element is this emission line coming from?\n",
    "\n",
    "| Emission line name | Element | $\\rm \\lambda_{rest}\\ [Å]$ |\n",
    "| --- | --- | --- |\n",
    "| $\\rm [S\\thinspace{II}]\\lambda 6733$ | sulfur | 6732.67 |\n",
    "| $\\rm [S\\thinspace{II}]\\lambda 6718$ | sulfur | 6718.29 |\n",
    "| H$\\alpha$ | hydrogen | 6564.61 |\n",
    "| He$\\thinspace$I | helium | 5877.25 |\n",
    "|$\\rm [O\\thinspace{III}]\\lambda 5008$ | oxygen | 5008.240 |\n",
    "|$\\rm [O\\thinspace{III}]\\lambda 4960$ | oxygen | 4960.295 |\n",
    "| H$\\beta$ | hydrogen | 4862.68 |\n",
    "| H$\\gamma$ | hydrogen | 4341.68 |\n",
    "| $\\rm [O\\thinspace{II}]\\lambda \\lambda 3727,3730$ | oxygen | 3728.4835 |"
   ]
  },
  {
   "cell_type": "markdown",
   "metadata": {
    "id": "94cBNFJDas2U"
   },
   "source": [
    "<div class=\"alert alert-block alert-success\">\n",
    "<b>Congratulations!</b><p>\n",
    "You just finished this redshift project. You should now have some experience with:\n",
    "<ul>\n",
    "    <li>Locating files/directories and accessing them via their paths</li>\n",
    "    <li>Reading function definitions and understanding how to use them</li>\n",
    "    <li>Plotting a spectrum and overlaying fitted curves</li>\n",
    "    <li>Loading data from .csv files and saving data to them</li>\n",
    "    <li>Using pandas DataFrame to manipulate large lists</li>\n",
    "    <li>Fitting models to data (Gaussians and straight lines)</li>\n",
    "    <li>Writing For Loops to perform the same analysis to a large set of data</li>\n",
    "    <li>Comparing results with physical equations</li>\n",
    "</div>"
   ]
  },
  {
   "cell_type": "markdown",
   "metadata": {},
   "source": [
    "# Things to include in your presentation\n",
    "\n",
    "Instrument and data:\n",
    "*   All the spectra you saw were taken by the James Webb Space Telescope (JWST), specifically the instrument called NIRSpec. What is so special about them? Is this telescope new? How far away is it from Earth?\n",
    "\n",
    "Background info about galaxies and redshifting:\n",
    "*   Why are the spectra of some galaxies redshifted? What determines how redshifted a galaxy is?\n",
    "*   What does a typical galaxy spectrum look like? What features are there?\n",
    "\n",
    "What you did in this project:\n",
    "*   What was the goal of this project? What were the main analysis steps you performed?\n",
    "*   Show some of the plots you made!\n",
    "*   What is the emission line you found here? \n",
    "*   What chemical element produces this line? Is it an important element?"
   ]
  }
 ],
 "metadata": {
  "colab": {
   "provenance": []
  },
  "kernelspec": {
   "display_name": "sci",
   "language": "python",
   "name": "python3"
  },
  "language_info": {
   "codemirror_mode": {
    "name": "ipython",
    "version": 3
   },
   "file_extension": ".py",
   "mimetype": "text/x-python",
   "name": "python",
   "nbconvert_exporter": "python",
   "pygments_lexer": "ipython3",
   "version": "3.13.0"
  }
 },
 "nbformat": 4,
 "nbformat_minor": 4
}
