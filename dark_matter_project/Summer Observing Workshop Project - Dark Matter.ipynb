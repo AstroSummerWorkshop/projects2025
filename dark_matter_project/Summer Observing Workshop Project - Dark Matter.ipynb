{
 "cells": [
  {
   "cell_type": "markdown",
   "id": "3be5ab48",
   "metadata": {},
   "source": [
    "# Measuring how much dark matter is in a galaxy:"
   ]
  },
  {
   "cell_type": "markdown",
   "id": "75e1cffa",
   "metadata": {},
   "source": [
    "## What does a galaxy look like?\n",
    "\n",
    "In the universe, there are a bunch of \"dark matter halos\" where galaxies live. These halos are blobs of dark matter in a spherical shape that extends much further than the galaxy does. The galaxies themselves have a \"disk\" component -- a thin, flat sheet where stars live -- and a \"bulge\" component, which is a small sphere of gas and stars near the center of the galaxy. \n",
    "\n",
    "The image below shows the \"outer\" and \"inner\" halo portion for a dark matter halo + galaxy combo. The thin disk is also pointed out. Notice that the dark matter halo extends much further than the galaxy does. This is important later.\n",
    "\n",
    "Note that this \"model\" of what a galaxy looks like is simplified. https://universe.nasa.gov/galaxies/types/ is a good resource that talks about all the different types of galaxies there are. We are looking at spiral galaxies for this project. Just like our own Milky Way!\n",
    "\n",
    "&nbsp;\n",
    "\n",
    "<div>\n",
    "<img src=\"attachment:image_11570e-Milky-Way-Halo.jpg\" width=\"500\"/>\n",
    "</div>"
   ]
  },
  {
   "cell_type": "markdown",
   "id": "333337f1-aaa0-49e5-a691-41fe4c4e43c0",
   "metadata": {},
   "source": [
    "## The question:\n",
    "\n",
    "The measured rotation curves of galaxies are one of the biggest proofs that dark matter exists. We must first ask ourselves, though, what is a rotation curve?\n",
    "\n",
    "## What is a rotation curve?\n",
    "In a galaxy, at each distance from the center, the gas and the stars all orbit around the galaxy. Our own solar system orbits around the center of the Milky Way at ~828,000 km/hr! With very good telescopes, we can measure how the gas and stars orbit around in other galaxies, and we can plot their speed vs. the distance of the gas and stars from the center of the galaxy. We call this plot a \"Rotation curve.\" For our own galaxy, the rotation curve looks like this:\n",
    "\n",
    "<img src='./milkywaycurve.jpeg' width=800>\n",
    "\n",
    "<!-- ![milkywayrcurve.jpeg](attachment:milkywayrcurve.jpeg) -->\n",
    "\n",
    "The y-axis here is the \"orbital speed,\" or how fast the things are orbiting at some distance. You can see the Sun in the plot.\n",
    "\n",
    "## What do rotation curves tell us?\n",
    "\n",
    "We can use the rotation curve to tell us about the **mass** of the galaxy and how it is **distributed** (For example, is the mass concentrated in the center, or is it more spread out?). \n",
    "\n",
    "The speed at which stars and gas orbit around the galaxy is determined by two main things: \n",
    "\n",
    "1. Gravity, which pulls objects inward.\n",
    "2. Centrifugal force which \"pushes\" objects outward.\n",
    "  \n",
    "The balance between these two forces is what causes things to orbit. The following equation describes how strong the force of gravity is on an object:\n",
    "\n",
    "$$F_{g} = \\frac{G M m}{r^{2}}$$\n",
    "\n",
    "where $G$ is the gravitational constant, $M$ is the mass of everything that is closer to the center of the galaxy than the object of interest, $m$ is the mass of the object itself, and $r$ is the distance from the center of the galaxy to the object. The equation that describes the strength of the centrifugal force is:\n",
    "\n",
    "$$F_{c} = \\frac{m v^{2}}{r}$$\n",
    "\n",
    "where $v$ the velocity of the object in the galaxy, and $m$ and $r$ are the same as in the gravitational force equation. The velocity $v$ is the same velocity that is used when making a rotation curve. If we want to say that these forces are \"balanced,\" we can say that the two equations are equal to each other: $F_g = F_c$ (assuming circular orbits). If we then do some algebra to solve for $v$, we get:\n",
    "\n",
    "$$v = \\sqrt{\\frac{G M}{r}}.$$\n",
    "\n",
    "Or similarly...\n",
    "\n",
    "$$M = \\frac{r v^{2}}{G}$$ \n",
    "\n",
    "(But make sure that your units all line up!) We will refer to this as *Method 1*"
   ]
  },
  {
   "cell_type": "markdown",
   "id": "244022d2-c8c3-4039-8a91-decb45500320",
   "metadata": {},
   "source": [
    "# Concept Check (Method 1)\n",
    "Consider a star that is orbiting 15 kiloparsecs ($4.63 \\times 10^{20}$ meters) from the center of a galaxy. Imagine that this star is the farthest star from the center of the galaxy. If the star is orbiting at 220 km/s ($2.2\\times 10^5$ m/s), and $G=6.67 \\times 10^{-11}$ $\\rm m^3/(kg\\times s^2)$, what is the mass of the galaxy?"
   ]
  },
  {
   "cell_type": "code",
   "execution_count": null,
   "id": "07e5796f-8284-43db-bb08-8035139cafa5",
   "metadata": {},
   "outputs": [],
   "source": [
    "# Write your calculations and your answer here\n",
    "r = \n",
    "v = \n",
    "G = \n",
    "M = # Use the equation given above"
   ]
  },
  {
   "cell_type": "markdown",
   "id": "3b894de9-fd38-4b9f-8551-61c84de0ecba",
   "metadata": {},
   "source": [
    "## Why does all of this matter?\n",
    "\n",
    "You have seen above that the orbital speed $v$ is related to the galaxy's mass $M$. In other words, using the rotation curve of a galaxy, we can calculate its mass! We have done this with real galaxies and have found galaxy masses much larger than we would expect based on what we can tell from the amount of starlight that we see. This process goes something like this:\n",
    "\n",
    "We measure the brightness of all of the starlight in a galaxy. ~90% of these stars fall under a category that we call the \"main sequence.\" The reason this definition is important is because we can relate the light from a star (its luminosity) to the mass of the star with the following equation:\n",
    "\n",
    "$$\\frac{L}{L_{\\odot}} = 1.4 \\times \\left( \\frac{M}{M_{\\odot}} \\right)^{3.5}$$\n",
    "\n",
    "where $L$ is the luminosity of the star in question, and $L_\\odot$ is the luminosity of the Sun. We refer to $L_\\odot$ as a \"solar luminosity,\" and the ratio $L / L_{\\odot}$ tells us how much brighter or fainter something is compared to the Sun. The same goes for $M$, which is the mass of the star, and $M_\\odot$ which is the mass of the Sun. $M / M_{\\odot}$ tells us how much more or less massive the star is compared to the Sun.\n",
    "\n",
    "We will refer to calculating the mass in this way as *Method 2*"
   ]
  },
  {
   "cell_type": "markdown",
   "id": "b5d2856e-73d7-4ff2-96fd-39db2c92bc4f",
   "metadata": {},
   "source": [
    "# Concept check (Method 2)\n",
    "If a main-sequence star is 5 times as luminous as the Sun, what is its mass compared to the Sun's mass?"
   ]
  },
  {
   "cell_type": "code",
   "execution_count": null,
   "id": "7aad9bf3-2f87-411c-97b3-3d3a3e41d955",
   "metadata": {},
   "outputs": [],
   "source": [
    "# Write your calculations and your answer here\n",
    "\n",
    "# L_over_LSun = \n",
    "# M_over_MSun = # Use the equation given above"
   ]
  },
  {
   "cell_type": "markdown",
   "id": "575945b5-65c2-4906-a25e-30ae0aafb126",
   "metadata": {},
   "source": [
    "If we assume that every star in a galaxy follows the above equation (this is the same as assuming that all of the stars are \"main sequence\" stars), then we can calculate the mass of the galaxy simply by measuring how much total starlight (luminosity) the galaxy is emitting. \n",
    "\n",
    "We then compare this mass (Method 2) to the derived mass from the other method (Method 1) to see if they match.\n",
    "\n",
    "Using Method 1 (rotation curve), we find the mass of the Milky Way is $\\sim 1.5 \\times 10^{12} M_{\\odot}$. But if we measure the mass with Method 2 (luminosity from stars), we find the mass of the Milky Way to be $\\sim 6 \\times 10^{10} M_{\\odot}$. There is also gas inside the galaxy, but not nearly enough to make up the difference between the two methods. \n",
    "\n",
    "What does this mean? It means that there must be another source of mass that does not emit light. This is what we now know of as dark matter.\n",
    "\n",
    "## The project:\n",
    "\n",
    "The purpose of the project is to calculate the mass of a random galaxy using the two methods above. We are given two pieces of information:\n",
    "\n",
    "1. The \"surface brightness profile\" of galaxies (which will be explained soon)\n",
    "2. The rotational velocity curves of the same galaxies\n",
    "\n",
    "The goal is to calculate the mass of a particular galaxy using each of the methods. If there is a substantial difference, that means there must be some other form of matter here! Dark matter!"
   ]
  },
  {
   "cell_type": "markdown",
   "id": "9df34860",
   "metadata": {},
   "source": [
    "### First, we have to import some modules for Python:"
   ]
  },
  {
   "cell_type": "code",
   "execution_count": null,
   "id": "9ac7a2a4",
   "metadata": {},
   "outputs": [],
   "source": [
    "# These \"import\" statements allow us to use common Python modules\n",
    "import numpy as np\n",
    "import pandas as pd\n",
    "import matplotlib.pyplot as plt\n",
    "\n",
    "# The \"os\" module allows us to navigate through folders on the computer within Python\n",
    "import os\n",
    "\n",
    "# The astropy module and its components are useful for astrophysicists (you!)\n",
    "from astropy.io import ascii \n",
    "from astropy.table import Table\n",
    "import astropy.units as u\n",
    "\n",
    "# This module is what we'll use to grab (query) data of galaxies from online\n",
    "import astroquery\n",
    "from astroquery.vizier import Vizier\n",
    "\n",
    "# Just some settings to customize how our plots look to make them pretty.\n",
    "pretty_plot_params = {'font.size': 18, \n",
    "                     'text.usetex': True, \n",
    "                     'font.family': 'STIXGeneral',\n",
    "                     'xtick.top': True,\n",
    "                     'ytick.right': True,\n",
    "                     'xtick.major.size': 10.,\n",
    "                     'xtick.minor.size': 5.,\n",
    "                     'xtick.major.width': 1.5,\n",
    "                     'xtick.minor.width': 1.,\n",
    "                     'ytick.major.size': 10.,\n",
    "                     'ytick.minor.size': 5.,\n",
    "                     'ytick.major.width': 1.5,\n",
    "                     'ytick.minor.width': 1.,\n",
    "                     'xtick.direction': 'in',\n",
    "                     'ytick.direction': 'in',\n",
    "                     'xtick.minor.visible': True,\n",
    "                     'ytick.minor.visible': True}\n",
    "plt.rcParams.update(pretty_plot_params)"
   ]
  },
  {
   "attachments": {
    "surfacebrightnessex.png": {
     "image/png": "[encoded data removed]"
    }
   },
   "cell_type": "markdown",
   "id": "e9689558",
   "metadata": {},
   "source": [
    "### First, to create the mass profile that we get from rotational velocity curves:\n",
    "\n",
    "We are going to start with what is called a surface brightness profile. It describes the brightness (also called the intensity) of a galaxy as a function of its radius. Surface brightness usually is written with the variable $\\mu$ and has units of magnitudes per square arcsecond OR luminosity per square parsec. We show the surface brightness profile ($\\mu$ vs. $R$) for a galaxy called NGC 1339 below:\n",
    "\n",
    "![surfacebrightnessex.png](attachment:surfacebrightnessex.png)\n",
    "\n",
    "You have learned about magnitudes and arcseconds prior to this, but magnitude is really just a way to measure how bright something is, and arcseconds are just angles across the sky. Magnitudes are strange because the higher the magnitude, the dimmer something is. They also are on what is called a \"log-scale,\" where going up in 1 magnitude ends up meaning the star is about 2.5 times dimmer than before! Our senses act on a log-scale, so it is understandable to have magnitudes act similarly too. Arcseconds/square angles are useful because some things in the sky are much further than others, so they appear smaller, even though these two things might be the same size. We use angles as a way to talk about how big something appears to be in the sky.\n",
    "\n",
    "The first thing we want to do is to take this surface brightness profile and convert it into a mass. Let's first get the surface brightness profile for a galaxy of your choosing. The data come from http://astroweb.cwru.edu/SPARC/ and should be found in the directory './sfb_LTG'"
   ]
  },
  {
   "cell_type": "code",
   "execution_count": null,
   "id": "6307819f",
   "metadata": {},
   "outputs": [],
   "source": [
    "# useful to get all the data\n",
    "Vizier.ROW_LIMIT = -1\n",
    "\n",
    "# the actual tables (converted into the type of table we want)\n",
    "general_data = Vizier.get_catalogs('J/AJ/152/157/table1')[0].to_pandas()\n",
    "velocity_curve_data = Vizier.get_catalogs('J/AJ/152/157/table2')[0].to_pandas()\n",
    "\n",
    "corrections = general_data[['Name', 'i']]\n",
    "distances = general_data[['Name', 'Dist']]"
   ]
  },
  {
   "cell_type": "markdown",
   "id": "4ce98a7e",
   "metadata": {},
   "source": [
    "Now choose data from one galaxy to import using **ascii.read([filename])**! I'd recommend explicitly grabbing the **radius_kpc** and the **mu** (surface brightness) columns.\n",
    "\n",
    "- The radius data are in kiloparsecs (kpc).\n",
    "- The surface brightness data (mu) are in mags/square arcsecond.\n",
    "\n",
    "Also, plot the surface brightness as a function of radius using plt.plot(x, y). Make sure to label your axes!"
   ]
  },
  {
   "cell_type": "markdown",
   "id": "5da25f4f-81e3-480b-ad85-cba941b6d9aa",
   "metadata": {},
   "source": [
    "### Available galaxy names:\n",
    "CamB, D512-2, D564-8, D631-7, DDO064, DDO154, DDO161, DDO168, DDO170, ESO444-G084, F561-1, F563-1, F563-V1, F563-V2, F565-V2, F567-2, F568-1, F568-3, F568-V1, F571-V1, F574-1, F574-2, F579-V1, F583-1, F583-4, KK98-251, NGC0024, NGC0289, NGC0300, NGC1003, NGC1090, NGC2366, NGC2403, NGC2903, NGC2915, NGC2955, NGC2976, NGC2998, NGC3109, NGC3726, NGC3741, NGC3769, NGC3893, NGC3949, NGC3953, NGC3992, NGC4051, NGC4068, NGC4088, NGC4138, NGC4214, NGC4389, NGC4559, NGC5005, NGC5033, NGC5055, NGC5371, NGC5585, NGC5985, NGC6015, NGC6195, NGC6674, NGC6789, NGC6946, NGC7793, PGC51017, UGC00128, UGC00191, UGC00634, UGC00731, UGC00891, UGC01230, UGC02023, UGC02259, UGC02455, UGC02487, UGC02885, UGC02916, UGC02953, UGC03205, UGC03546, UGC03580, UGC04305, UGC04325, UGC04483, UGC04499, UGC05005, UGC05253, UGC05414, UGC05716, UGC05721, UGC05750, UGC05764, UGC05829, UGC05918, UGC05999, UGC06446, UGC06614, UGC06628, UGC06786, UGC06787, UGC06917, UGC06923, UGC06930, UGC06973, UGC06983, UGC07232, UGC07261, UGC07323, UGC07399, UGC07524, UGC07559, UGC07577, UGC07608, UGC07690, UGC07866, UGC08490, UGC09037, UGC09133, UGC09992, UGC10310, UGC11557, UGC11820, UGC11914, UGC12632, UGC12732, UGCA281, UGCA442"
   ]
  },
  {
   "cell_type": "code",
   "execution_count": null,
   "id": "ecc51583",
   "metadata": {},
   "outputs": [],
   "source": [
    "def calculate_radius_kpc(t, obj_name):\n",
    "    dist, = distances[distances['Name'] == obj_name]['Dist'].values * u.Mpc\n",
    "    t['radius_kpc'] = (t['radius']/206265 * dist).to(u.kpc).value\n",
    "    return t\n",
    "\n",
    "# Choose the file belonging to the galaxy you want to analyze. Choose anything from the above list of galaxy names.\n",
    "galaxy_name = 'GALAXY_NAME]' # Enter galaxy name here\n",
    "file_path = f'sfb_LTG/{galaxy_name}.sfb'\n",
    "galaxy_data = ascii.read(file_path)\n",
    "galaxy_data = calculate_radius_kpc(galaxy_data, galaxy_name)"
   ]
  },
  {
   "cell_type": "code",
   "execution_count": null,
   "id": "41d977d6",
   "metadata": {},
   "outputs": [],
   "source": [
    "# Plot the surface brightness vs. the radius (distance from center of galaxy). Replace the \"?\" with the column name that you want.\n",
    "mu_0 = galaxy_data['?'] # Surface Brightness\n",
    "R = galaxy_data['?'] # Radius\n",
    "\n",
    "# Edit this code to make a plot\n",
    "plt.plot(x= , y= )\n",
    "plt.gca().invert_yaxis() # Think, why should the y-axis be backwards?\n",
    "plt.xlabel('Label the x-axis [units]');\n",
    "plt.ylabel('Label the y-axis [units]');\n",
    "plt.title(f'Surface Brightness vs. \\nRadius for {galaxy_name}');"
   ]
  },
  {
   "cell_type": "markdown",
   "id": "239823e7",
   "metadata": {},
   "source": [
    "### A quick correction:\n",
    "\n",
    "The surface brightness is missing one correction: the inclination angle. The inclination angle is how \"tilted\" the disk of the galaxy looks from the perspective of the Earth. This is why we grabbed the \"corrections\" info from the general data above. Let's correct our surface_brightness_profile with a formula:\n",
    "\n",
    "$$\\mu_{\\mathrm{corr}} = \\mu_{0} - 2.5\\log_{10}(\\cos{i})$$\n",
    "\n",
    "where $i$ is the inclination angle, and $\\mu_{0}$ is the surface brightness before applying our correction (Graham+2008). Note this is an approximation so not all brightness profiles will be perfect. Do this correction now:"
   ]
  },
  {
   "cell_type": "code",
   "execution_count": null,
   "id": "b87f7e21",
   "metadata": {},
   "outputs": [],
   "source": [
    "i_degrees, = corrections[corrections['Name'] == galaxy_name]['i'].values\n",
    "i_radians = i_degrees * np.pi / 180.0\n",
    "\n",
    "# Correct for the inclination here. Note that log() is \"np.log10()\" and sin() is \"np.sin()\" in Python.\n",
    "mu_corr = # Your code here\n",
    "\n",
    "# Edit this code to make a plot\n",
    "plt.plot(x= , y= , ls='--', label='$\\mu_0$ original');\n",
    "plt.plot(x= , y= , label='$\\mu$ corrected');\n",
    "plt.gca().invert_yaxis()\n",
    "plt.xlabel('Label x-axis [units]');\n",
    "plt.ylabel('Label y-axis [units]');\n",
    "plt.title(f'Surface Brightness vs. \\nRadius for {galaxy_name}')\n",
    "plt.legend();"
   ]
  },
  {
   "cell_type": "markdown",
   "id": "793a4c59",
   "metadata": {},
   "source": [
    "Note that there are other, more complex corrections that we are ignoring. Because of this, we will need to switch from this approximated surface brightness data to other calculated data soon."
   ]
  },
  {
   "cell_type": "markdown",
   "id": "5ce8357c",
   "metadata": {},
   "source": [
    "### Converting from surface brightness profile to surface luminosity:\n",
    "\n",
    "Remember, the goal is to calculate the galaxy's mass based on its brightness. One way to do this is to add up all of the surface brightness over the galaxy's area to get the total brightness. But there is a problem... surface brightness is on a **logarithmic** scale! It is hard to perform addition in a logarithmic scale.\n",
    "\n",
    "*Think, is it easier to do **$\\log_{10}(5+5)$** or $5+5$?*\n",
    "\n",
    "So, we will convert our surface brightness units from $\\mathrm{mags/arcsecond^2}$ to $L_{\\odot} / \\rm parsec^2$ (where $\\rm parsec^2$ is a measure of surface area). The equation that allows us to convert from $\\mathrm{mags/arcsecond^2}$ to $L_{\\odot} / \\rm pc^2$ is:\n",
    "\n",
    "$$\\frac{L}{L_\\odot \\rm /pc^2} = 10^{(-0.4(\\mu_{corr}-M_{\\odot,3.6_{\\mu m}}-21.572))}$$\n",
    "\n",
    "where $\\mu_{corr}$ is the surface brightness in units of $\\mathrm{mags/arcsecond^2}$ and $M_{\\odot,3.6\\mu m}$ is the Sun's brightness in magnitudes. Just set this equal to $3.24$ for this data set. The $L_{\\odot}/ \\rm pc^2$ in the denominator is just telling us that the units are in solar luminosities per square parsec. You do not have to add it into the conversion itself. $\\mu_{corr}$ is the corrected surface brightness that you calculated above, so plug your surface brightnesses into this equation to convert to the units that we want.\n",
    "\n",
    "Plot the surface brightness vs. radius to see what it looks like! Why does this look different from the $\\mu$ vs. $R$ plot that we showed in the beginning of this section?"
   ]
  },
  {
   "cell_type": "code",
   "execution_count": null,
   "id": "ac9ecc5b",
   "metadata": {},
   "outputs": [],
   "source": [
    "M_sun_36 = 3.4\n",
    "mu_corr_luminosity =  # Your code here\n",
    "\n",
    "# Edit this code to make a plot\n",
    "plt.plot(x=, y=)\n",
    "plt.xlabel('Label x-axis [units]');\n",
    "plt.ylabel('Label y-axis [units]');\n",
    "plt.title(f'Surface Brightness (Luminosity)\\n vs. Radius for {galaxy_name}');"
   ]
  },
  {
   "cell_type": "markdown",
   "id": "5327186e",
   "metadata": {},
   "source": [
    "### Switching to their calculated data.\n",
    "\n",
    "Let's compare our conversion above to another set of surface brightness measurements carried out by a data research team from the \"velocity_curve\" table defined above. We will grab the surface brightness for your specific galaxy (called **SBdisk**) and the new radius information (called **Rad**) and use it from here on out. To get the data for just your galaxy, you'll need to have code similar to:"
   ]
  },
  {
   "cell_type": "code",
   "execution_count": null,
   "id": "900657b6",
   "metadata": {},
   "outputs": [],
   "source": [
    "# velocity curve data for the galaxy NGC3198\n",
    "# Replace ? with the column names that you want.\n",
    "velocity_curve_data_mine = velocity_curve_data[velocity_curve_data.Name == galaxy_name]\n",
    "R_new = velocity_curve_data_mine['?']\n",
    "mu_corr_new = velocity_curve_data_mine['?']\n",
    "\n",
    "# note that rad is still in kpc and SBdisk is in Lsun/pc^2\n",
    "plt.plot(R, mu_corr_luminosity, label='Our calculations');\n",
    "plt.plot(R_new, mu_corr_new, label='Research team\\'s calculations');\n",
    "plt.xlabel('Label x-axis [units]');\n",
    "plt.ylabel('Label y-axis [units]');\n",
    "plt.legend();\n",
    "plt.title(f'Surface Brightness (Luminosity)\\n vs. Radius for {galaxy_name}');"
   ]
  },
  {
   "cell_type": "markdown",
   "id": "a2d6e6cb-afb5-4143-b638-8f3ef26ab5ea",
   "metadata": {},
   "source": [
    "### Converting from surface luminosity to total luminosity:\n",
    "\n",
    "We want to go from our calculated surface luminosity to a real, total luminosity. Formally speaking, this operation is an **integral** of the form:\n",
    "\n",
    "$$ \\int_0^{R_{max}} 2\\pi R \\times L(R) dR $$\n",
    "\n",
    "where $L(R)$ is the surface luminosity that we just calculated, and $R$ is the distance from the center of the galaxy (radius) in kpc.\n",
    "\n",
    "However, we just want an estimate. One way we can do this is with a right-hand *Reimman sum* (for a refresher, see *khanacademy.org/math/ap-calculus-ab/ab-integration-new/ab-6-2/a/left-and-right-riemann-sums*). \n",
    "\n",
    "Because we only have solar luminosities at a particular radii, we say that the solar luminosity is constant from one radius *inward* to the next radius. If the radii are values of \n",
    "\n",
    "- 2 kpc\n",
    "- 4 kpc\n",
    "- 6 kpc\n",
    "\n",
    "Then the ranges of radii we are saying the luminosity is constant in are (0 kpc - 2 kpc), (2 kpc - 4 kpc), and (4 kpc - 6kpc). Below is another way to visualize this. First, we break up our surface luminosity into rough bins:"
   ]
  },
  {
   "cell_type": "code",
   "execution_count": null,
   "id": "5225fc0d-022f-49bc-960b-09c6d3e622f9",
   "metadata": {},
   "outputs": [],
   "source": [
    "# Helper function\n",
    "def make_Riemann_sum_plot(x, y, n_bins=10, title='Title here'):\n",
    "    n_bins +=1\n",
    "    r = np.array(x)\n",
    "    mu_corr_lum = np.array(y)\n",
    "    r_bin = np.linspace(0,np.amax(r),n_bins)\n",
    "    mu_bin = np.interp(r_bin, r, mu_corr_lum)\n",
    "    plt.plot(x, y, label='Our calculations');\n",
    "    plt.bar(r_bin[:-1], mu_bin[1:], width=np.amax(r_bin)/(n_bins-1), align='edge', edgecolor='k', alpha=0.2);\n",
    "    plt.xlabel('Label x-axis [units]');\n",
    "    plt.ylabel('Label y-axis [units]');\n",
    "    plt.title(title);\n",
    "\n",
    "make_Riemann_sum_plot(x=R, y=mu_corr_luminosity, n_bins=10, title='Riemann sum representation of\\n $L(R)$')"
   ]
  },
  {
   "cell_type": "markdown",
   "id": "0ac5242d-ce99-4215-84a1-f7ff1c4a2e84",
   "metadata": {},
   "source": [
    "But, this isn't the integral we want to do. We want to do a riemann sum over the expression:\n",
    "\n",
    "$$ L(R) \\times 2\\pi R$$\n",
    "\n",
    "where we have multiplied by $2\\pi R$ since the galaxy is circular. Let's visualize this function."
   ]
  },
  {
   "cell_type": "code",
   "execution_count": null,
   "id": "f0d808b9-7dff-40dd-aa79-d4c0315d8c8d",
   "metadata": {},
   "outputs": [],
   "source": [
    "make_Riemann_sum_plot(x=R, y=mu_corr_luminosity*2*np.pi*R, n_bins=10, title='Riemann sum representation of\\n $L(R) \\\\times 2\\pi R$')"
   ]
  },
  {
   "cell_type": "markdown",
   "id": "cd6a654d-821f-4cf8-aef1-555491c8ce45",
   "metadata": {},
   "source": [
    "That means if we find the *sum* of all of these Riemann rectangles, we can find the *total* luminosity. You can find some helpful code below."
   ]
  },
  {
   "cell_type": "markdown",
   "id": "932951ef",
   "metadata": {},
   "source": [
    "Now do this below. Think about what units these rings are in if the radii measurements are in kpc. Are your luminosity measurements also in kpc, or something else? Will we need to change for this?\n",
    "\n",
    "# Check that this all works"
   ]
  },
  {
   "cell_type": "code",
   "execution_count": null,
   "id": "dc0e46d0",
   "metadata": {},
   "outputs": [],
   "source": [
    "# Helper function\n",
    "def get_Riemann_rectangle_measurements(n_bins=10):\n",
    "    n_bins += 1\n",
    "    r = np.array(R)\n",
    "    mu_corr_lum = np.array(mu_corr_luminosity*2*np.pi*R)\n",
    "    r_bin = np.linspace(0,np.amax(R),n_bins)\n",
    "    mu_bin = np.interp(r_bin, r, mu_corr_lum)\n",
    "    return np.amax(R)/(n_bins-1), mu_bin[1:]\n",
    "\n",
    "# Adjust the number of bins if needed\n",
    "Riemann_rectangle_width, Riemann_rectangle_heights = get_Riemann_rectangle_measurements(n_bins=10)\n",
    "\n",
    "# Your Code Here: Perform the Riemann sum below\n",
    "total_luminosity = "
   ]
  },
  {
   "cell_type": "markdown",
   "id": "d4a6fb3f",
   "metadata": {},
   "source": [
    "Now multiply the luminosities we have by the areas of the rings. \n",
    "\n",
    "Make sure you convert from parsecs squared to kiloparsecs squared with the conversion (1 kiloparsec = 1000 parsecs)."
   ]
  },
  {
   "cell_type": "markdown",
   "id": "fb5cefaf-ec6f-4515-83e7-b3ce8bec4a18",
   "metadata": {},
   "source": [
    "### Converting from luminosity to mass:\n",
    "\n",
    "Now we use the relation defined above to convert from luminosity to mass ($L / L_{\\odot} = 1.4 * (M / M_{\\odot})^{3.5}$).\n",
    "\n",
    "Assume all of the stars are like the Sun. What is the relationship between $L / L_{\\odot}$ and $M / M_{\\odot}$ in this case?\n",
    "\n",
    "If we assume that the galaxy in this problem is entirely made up of Sun-like stars, what is its mass? Calculate it below."
   ]
  },
  {
   "cell_type": "code",
   "execution_count": null,
   "id": "591a8eab-390b-4f2a-b588-8082f357202c",
   "metadata": {},
   "outputs": [],
   "source": [
    "print('%.3e' %(total_luminosity/1.4))"
   ]
  },
  {
   "cell_type": "markdown",
   "id": "9198c7fe-b50d-46ec-9251-eab7b5e9b1b6",
   "metadata": {},
   "source": [
    "We also want to check to make sure the velocity curve as measured by the light/luminosity is looking alright. So, we want to convert from mass to velocity. Remember that the M in the equation defined near the top is the mass *enclosed*, so you will need to calculate the total mass within the radius to find the velocity. An example of one way to find the masses within a radius is in example code below. \n",
    "\n",
    "You should get something that looks like the \"disk\" curve below:\n",
    "\n",
    "<img src='./ngc6503_curve.jpeg' width=700>\n",
    "\n",
    "The example code for finding the mass within each radii is:"
   ]
  },
  {
   "cell_type": "code",
   "execution_count": null,
   "id": "e8946a2a",
   "metadata": {},
   "outputs": [],
   "source": [
    "# Assuming the \"average\" mass of each star is ~1 solar mass, to convert from luminosity to mass,\n",
    "# we will use the same equation as above, except we will just calculate the amout of mass in each\n",
    "# of our Riemann bins.\n",
    "mass_in_each_bin = # (bin_width * bin_heights) / 1.4\n",
    "\n",
    "# a running count of the mass, which I add to at each radii and append to a list \n",
    "# where each value in the list is the mass enclosed within each radii\n",
    "\n",
    "mass_enclosed_at_each_bin = []\n",
    "mass_count = 0\n",
    "for i in mass_in_each_bin:\n",
    "    mass_count += i\n",
    "    \n",
    "    mass_enclosed_at_each_bin.append(mass_count)"
   ]
  },
  {
   "cell_type": "markdown",
   "id": "7dc88bea",
   "metadata": {},
   "source": [
    "Now your own work (remember to label your axes!):"
   ]
  },
  {
   "cell_type": "code",
   "execution_count": null,
   "id": "0e556a6a",
   "metadata": {},
   "outputs": [],
   "source": []
  },
  {
   "cell_type": "code",
   "execution_count": null,
   "id": "f1ab7e17",
   "metadata": {},
   "outputs": [],
   "source": []
  },
  {
   "cell_type": "markdown",
   "id": "eb80f8ed",
   "metadata": {},
   "source": [
    "### Comparing this data to the data from observed velocity curves:\n",
    "\n",
    "- Code below is from same online data we grabbed before. This time we are grabbing specifically the Vobs data (and reusing the radius data) to create a plot.\n",
    "- Plot the rotation curve for a galaxy of your choice (Rad is radius, in kpc) and (Vobs is the observed rotation curve, in km/s). \n",
    "- Explore the rotation curves of some other galaxies. Some of them look different. Can you think of a reason why some increase with radius, some are flat, and some decrease with radius? What property of a galaxy does the velocity curve most depend on?"
   ]
  },
  {
   "cell_type": "code",
   "execution_count": null,
   "id": "a729019d-1572-45ce-89e3-3a2ca25e9540",
   "metadata": {},
   "outputs": [],
   "source": []
  },
  {
   "cell_type": "markdown",
   "id": "d02bca80",
   "metadata": {},
   "source": [
    "Do your own plots below:\n",
    "\n",
    "- You can even create a plot of all the velocity components shown (Vobs = observed, Vgas = velocity contribution from gas, Vdisk = velocity contribution from disk)"
   ]
  },
  {
   "cell_type": "code",
   "execution_count": null,
   "id": "c3ee37f5",
   "metadata": {},
   "outputs": [],
   "source": []
  },
  {
   "cell_type": "code",
   "execution_count": null,
   "id": "f38db813",
   "metadata": {},
   "outputs": [],
   "source": []
  },
  {
   "cell_type": "markdown",
   "id": "82d09490",
   "metadata": {},
   "source": [
    "### Estimating the percentage of mass in the galaxy that is the disk and the gas and how much our velocity profile measurements give us to find the percentage of matter that is dark matter:\n",
    "\n",
    "- We are going to grab our velocity profiles from the \"velocity_curve\" table, and then change the velocity profiles into mass profiles.\n",
    "- Then we use the equation to change between velocity and mass (introduced above)."
   ]
  },
  {
   "cell_type": "code",
   "execution_count": null,
   "id": "6c021dd3",
   "metadata": {},
   "outputs": [],
   "source": []
  },
  {
   "cell_type": "markdown",
   "id": "bd82548c",
   "metadata": {},
   "source": [
    "Now sum these up and compare them to get an *approximate* value for the percentage of dark matter in a galaxy:\n",
    "\n",
    "- The average/global ratio of non-dark matter (baryons) to dark matter is $\\sim 5/27 \\approx 0.18$. Did you get this?\n",
    "- This means that there is a WHOLE lot of dark matter in a galaxy!!\n",
    "- Note that this is very rough, but you should get a value that is pretty close to $0.18$ in your estimate. What assumptions did we make along the way that may cause us to get a different result? We did make a good amount!"
   ]
  },
  {
   "cell_type": "code",
   "execution_count": null,
   "id": "cc2536cf",
   "metadata": {},
   "outputs": [],
   "source": []
  },
  {
   "cell_type": "markdown",
   "id": "55ca946d",
   "metadata": {},
   "source": [
    "There are some interesting physics at play here too. The ratio of dark matter to \"normal\" matter is likely lower in the galaxy than it is globally, because normal matter has pressure. Just like the air in a balloon is pushed outwards, the stuff inside the galaxy is also pushed outwards (or away) from the galaxy, and less of it (on average) falls onto the galaxy. However, dark matter does not experience pressure, so it can fall onto the galaxy at a higher rate, which is pretty cool.\n",
    "\n",
    "It is estimated that ~95% of the Milky Way is made up of dark matter. This is much higher than the global ratio, where ~82% of the matter is dark matter."
   ]
  },
  {
   "cell_type": "code",
   "execution_count": null,
   "id": "8146efb3",
   "metadata": {},
   "outputs": [],
   "source": []
  }
 ],
 "metadata": {
  "kernelspec": {
   "display_name": "Python 3 (ipykernel)",
   "language": "python",
   "name": "python3"
  },
  "language_info": {
   "codemirror_mode": {
    "name": "ipython",
    "version": 3
   },
   "file_extension": ".py",
   "mimetype": "text/x-python",
   "name": "python",
   "nbconvert_exporter": "python",
   "pygments_lexer": "ipython3",
   "version": "3.9.18"
  }
 },
 "nbformat": 4,
 "nbformat_minor": 5
}
