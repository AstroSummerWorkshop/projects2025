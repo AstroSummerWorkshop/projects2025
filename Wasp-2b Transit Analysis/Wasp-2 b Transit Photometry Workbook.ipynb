{
 "cells": [
  {
   "cell_type": "markdown",
   "id": "afd35be8",
   "metadata": {},
   "source": [
    "# Transit Photometry Workbook\n",
    "This workbook will guide you through photometry of the star Wasp-2 in order to produce a transit lightcurve and measure the basic properties of the exoplanet Wasp-2 b."
   ]
  },
  {
   "cell_type": "markdown",
   "id": "680172d0",
   "metadata": {},
   "source": [
    "### Imports\n",
    "These packages include functions that will do most of the more tedious work for us, such as creating photometric apertures. The next cell includes all imports."
   ]
  },
  {
   "cell_type": "code",
   "execution_count": null,
   "id": "94f7bf8f",
   "metadata": {},
   "outputs": [],
   "source": [
    "import numpy as np\n",
    "from astropy.io import fits\n",
    "from astropy.stats import sigma_clipped_stats\n",
    "from astropy.visualization import SqrtStretch\n",
    "from astropy.visualization.mpl_normalize import ImageNormalize\n",
    "from astropy.time import Time\n",
    "from scipy.optimize import least_squares\n",
    "from datetime import datetime\n",
    "\n",
    "from photutils.aperture import CircularAperture, CircularAnnulus, aperture_photometry\n",
    "from photutils.centroids import centroid_2dg\n",
    "from photutils.centroids import centroid_sources\n",
    "\n",
    "import matplotlib.pyplot as plt\n",
    "from matplotlib import colors\n",
    "from matplotlib.ticker import (MultipleLocator, AutoMinorLocator)\n",
    "\n",
    "from sow_tools import mask_bad_pix"
   ]
  },
  {
   "cell_type": "markdown",
   "id": "607532d4",
   "metadata": {},
   "source": [
    "The below cell is the base path where all the files for this project are located. Do not edit."
   ]
  },
  {
   "cell_type": "code",
   "execution_count": null,
   "id": "2dadcb4b",
   "metadata": {},
   "outputs": [],
   "source": [
    "store_path = 'raw/'"
   ]
  },
  {
   "cell_type": "markdown",
   "id": "622925ee",
   "metadata": {},
   "source": [
    "We need to get the names of all the files we will be using. Edit the list definitions below with correct file names and locations.\n",
    "e.g. bias_files = ['file1.fits', 'file2.fits', etc...]. Find the correct files to use in the observing log from June 19th 2022, available as a .pdf in this assignment folder. \n",
    "\n",
    "https://jupyter1.idre.ucla.edu/services/phys180s22/files/phys180s22/source/Wasp-2b%20Transit%20Analysis/Observing%20Log.xlsx%20-%2020220619.pdf"
   ]
  },
  {
   "cell_type": "code",
   "execution_count": null,
   "id": "be01d589",
   "metadata": {},
   "outputs": [],
   "source": [
    "bias_files = #FIXME\n",
    "flat_files = #FIXME\n",
    "sci_files = #FIXME"
   ]
  },
  {
   "cell_type": "markdown",
   "id": "dd47b0b9",
   "metadata": {},
   "source": [
    "### Creating main calibrations\n",
    "We want to average our individual calibration images together to make a main image that is more accurate than any of the individual images. To do this, we will read in the image data from each of our individual calibrations then take the median of every pixel value. It is better to take the median instead of a true average because the median is not changed by one large outlier, while an average is."
   ]
  },
  {
   "cell_type": "markdown",
   "id": "8b9faa67",
   "metadata": {},
   "source": [
    "### Edit the code below to create a main bias image and save it in the main_bias variable\n",
    "Reference the data reduction workbook or ask an instructor for help if you aren't sure what to do."
   ]
  },
  {
   "cell_type": "code",
   "execution_count": null,
   "id": "2241099a",
   "metadata": {},
   "outputs": [],
   "source": [
    "main_bias = #FIXME"
   ]
  },
  {
   "cell_type": "markdown",
   "id": "dba53215",
   "metadata": {},
   "source": [
    "We will now plot the main bias to see what it looks like, no editing required."
   ]
  },
  {
   "cell_type": "code",
   "execution_count": null,
   "id": "22cc4f0b",
   "metadata": {},
   "outputs": [],
   "source": [
    "%matplotlib widget\n",
    "\n",
    "med_bval = np.nanmedian(main_bias)\n",
    "\n",
    "plt.figure(figsize=(10,10))\n",
    "plt.imshow(main_bias, vmin=med_bval*0.98, vmax=med_bval*1.02, origin='lower')\n",
    "plt.colorbar()\n",
    "plt.title('main bias image', fontsize=20)\n",
    "plt.show()"
   ]
  },
  {
   "cell_type": "markdown",
   "id": "d688de2f",
   "metadata": {},
   "source": [
    "Now do the same but for the flat images. Save the image in the main_flat variable.\n",
    "Remember that each individual flat image needs the main_bias subtracted from it before they are combined together."
   ]
  },
  {
   "cell_type": "code",
   "execution_count": null,
   "id": "29334331",
   "metadata": {},
   "outputs": [],
   "source": [
    "main_flat = #FIXME"
   ]
  },
  {
   "cell_type": "markdown",
   "id": "23866519",
   "metadata": {},
   "source": [
    "Once again we will plot the main flat to see what it looks like:"
   ]
  },
  {
   "cell_type": "code",
   "execution_count": null,
   "id": "889e02b3",
   "metadata": {},
   "outputs": [],
   "source": [
    "%matplotlib widget\n",
    "\n",
    "med_fval = np.nanmedian(main_flat)\n",
    "\n",
    "plt.figure(figsize=(10,10))\n",
    "plt.imshow(main_flat, vmin=med_fval*0.9, vmax=med_fval*1.1, origin='lower')\n",
    "plt.colorbar()\n",
    "plt.title('main flat image', fontsize=20)\n",
    "plt.show()"
   ]
  },
  {
   "cell_type": "markdown",
   "id": "6fda718c",
   "metadata": {
    "tags": []
   },
   "source": [
    "### Correcting our science images with the main calibrations\n",
    "Here we will use our main bias and main flat images to correct all of the science images. The science images are loaded for you, but you need to input the math for correcting them into the loop. \n",
    "\n",
    "In addition, we will use a function **mask_bad_pix** to remove bax pixels and cosmic rays from our science images. This function is already written, you simply need to give it the corrected image as the **sci_im** variable.\n",
    "At the end of this cell, we save important information from the .fits header, specifically the time that the observations occurred."
   ]
  },
  {
   "cell_type": "code",
   "execution_count": null,
   "id": "267daa8a",
   "metadata": {},
   "outputs": [],
   "source": [
    "num_sci = len(sci_files)\n",
    "sci_data = np.empty((num_sci,1024,1024))\n",
    "time_data = []\n",
    "for i, file in enumerate(sci_files):\n",
    "    # loop through all science files\n",
    "    hdu = fits.open(store_path+file)\n",
    "    \n",
    "    sci_im = #FIXME\n",
    "    \n",
    "    # mask_bad_pix will search for significant outliers in our data and remove them, we also remove an unneeded overscan region of the images\n",
    "    sci_data[i] = mask_bad_pix(sci_im)[0:1024,0:1024]\n",
    "    \n",
    "    # write the corrected science files into new .fits files that will be saved\n",
    "    tmp = fits.PrimaryHDU(sci_data[i], header=hdu[0].header)\n",
    "    tmpl = fits.HDUList(tmp)\n",
    "    tmpl.writeto(store_path+file.strip('.fits')+'_calib.fits', overwrite=True)\n",
    "    tmpl.close()\n",
    "    \n",
    "    # get the beginning and end time of each exposure\n",
    "    time_data.append([Time(hdu[0].header['DATE-BEG'], format='isot', scale='utc'), Time(hdu[0].header['DATE-END'], format='isot', scale='utc')]) \n",
    "    \n",
    "    # close and go to the next image\n",
    "    hdu.close()"
   ]
  },
  {
   "cell_type": "markdown",
   "id": "7a8a1b71",
   "metadata": {},
   "source": [
    "### Marking the target star and comparison stars\n",
    "To perform photometry of Wasp-2, we need to identify its pixel location within the image. We also need to identify the pixel locations of at least 5 comparison stars within the image that we will also perform photometry on. The photometry from the comparison stars, which presumably do not have any transits occuring, will be used to correct out any non-transit features from our target lightcurve.\n",
    "\n",
    "In the next cell, we plot one of the science images. Below that, you need to edit the **star_dict** dictionary to contain the positions of the target and at least 5 other comparison stars.\n",
    "\n",
    "Use the finding chart included with this assignment to identify which star is Wasp-2.\n",
    "\n",
    "https://jupyter1.idre.ucla.edu/services/phys180s22/view/phys180s22/source/Wasp-2b%20Transit%20Analysis/wasp2_chart.PNG"
   ]
  },
  {
   "cell_type": "code",
   "execution_count": null,
   "id": "61d33139",
   "metadata": {},
   "outputs": [],
   "source": [
    "%matplotlib widget\n",
    "\n",
    "med_sval = np.nanmedian(sci_data[0])\n",
    "\n",
    "plt.figure(figsize=(10,10))\n",
    "norm = ImageNormalize(stretch=SqrtStretch())\n",
    "plt.imshow(sci_data[0], vmin=med_sval*0.8, vmax=med_sval*3, origin='lower', cmap='Greys_r', norm=norm)\n",
    "plt.colorbar()\n",
    "plt.title('science image', fontsize=20)\n",
    "plt.show()"
   ]
  },
  {
   "cell_type": "code",
   "execution_count": null,
   "id": "c5d38cff",
   "metadata": {},
   "outputs": [],
   "source": [
    "star_dict = {'target':#FIXME,\n",
    "            'c1':#FIXME,\n",
    "            'c2':#FIXME,\n",
    "            'c3':#FIXME,\n",
    "            'c4':#FIXME,\n",
    "            'c5':#FIXME}"
   ]
  },
  {
   "cell_type": "markdown",
   "id": "e92e782f",
   "metadata": {},
   "source": [
    "Now we will refine the centroid positions of the stars using the phoutils package and plot an circular aperture over each one. Make sure that the stars you intended to select have apertures over them! If they do, no action is needed."
   ]
  },
  {
   "cell_type": "code",
   "execution_count": null,
   "id": "1a05da62",
   "metadata": {},
   "outputs": [],
   "source": [
    "%matplotlib widget\n",
    "\n",
    "med_sval = np.nanmedian(sci_data[0])\n",
    "\n",
    "plt.figure(figsize=(10,10))\n",
    "norm = ImageNormalize(stretch=SqrtStretch())\n",
    "plt.imshow(sci_data[0], vmin=med_sval*0.8, vmax=med_sval*3, origin='lower', cmap='Greys_r', norm=norm)\n",
    "\n",
    "for key in star_dict.keys():\n",
    "    x, y = centroid_sources(sci_data[0], star_dict[key][0], star_dict[key][1], box_size=21,\n",
    "                        centroid_func=centroid_2dg)\n",
    "    pos = (x[0],y[0])\n",
    "    star_dict[key] = pos\n",
    "    ap = CircularAperture(pos,r=15)\n",
    "    if key == 'target':\n",
    "        ap.plot(color='cyan', lw=2,\n",
    "                label='Photometry aperture')\n",
    "        plt.text(x+20,y+20, key, color='cyan')\n",
    "    else:\n",
    "        ap.plot(color='red', lw=2,\n",
    "                label='Photometry aperture')\n",
    "        plt.text(x+20,y+20, key, color='red')\n",
    "    \n",
    "plt.colorbar()\n",
    "plt.title('science image w/ apertures', fontsize=20)\n",
    "plt.show()    "
   ]
  },
  {
   "cell_type": "markdown",
   "id": "fb837a69",
   "metadata": {},
   "source": [
    "### Lightcurve photometry\n",
    "Now we have our target and comparison stars selected, its time to loop through all of our science images and actually do the photometry. \n",
    "\n",
    "In the next cell, we will define the aperture and sky annulus sizes we want to use. You should decide what sizes to use based on the aperture plot that the cell will produce. Make your best guess for good values to start, but you may want to experiment with different sizes after you produce the lightcurve to see what values produce the clearest transit in the final lightcurve."
   ]
  },
  {
   "cell_type": "code",
   "execution_count": null,
   "id": "6980aeda",
   "metadata": {},
   "outputs": [],
   "source": [
    "ap_radius = #FIXME # units of pixels\n",
    "ann_rad_in = #FIXME # units of pixels\n",
    "ann_rad_out = #FIXME # units of pixels\n",
    "\n",
    "%matplotlib widget\n",
    "\n",
    "med_sval = np.nanmedian(sci_data[0])\n",
    "\n",
    "plt.figure(figsize=(10,10))\n",
    "norm = ImageNormalize(stretch=SqrtStretch())\n",
    "plt.imshow(sci_data[0], vmin=med_sval*0.8, vmax=med_sval*3, origin='lower', cmap='Greys_r', norm=norm)\n",
    "\n",
    "for key in star_dict.keys():\n",
    "    pos = star_dict[key]\n",
    "    x, y = pos[0], pos[1]\n",
    "    ap = CircularAperture(pos,r=ap_radius)\n",
    "    ann = CircularAnnulus(pos,r_in=ann_rad_in, r_out=ann_rad_out)\n",
    "    if key == 'target':\n",
    "        ap.plot(color='cyan', lw=1,\n",
    "                label='Photometry aperture')\n",
    "        ann.plot(color='cyan', lw=1,\n",
    "                label='Photometry aperture')\n",
    "        plt.text(x+20,y+20, key, color='cyan')\n",
    "    else:\n",
    "        ap.plot(color='red', lw=1,\n",
    "                label='Photometry aperture')\n",
    "        ann.plot(color='red', lw=1,\n",
    "                label='Photometry aperture')\n",
    "        plt.text(x+20,y+20, key, color='red')\n",
    "    \n",
    "plt.colorbar()\n",
    "plt.title('science image w/ ap+ann', fontsize=20)\n",
    "plt.show()   "
   ]
  },
  {
   "cell_type": "markdown",
   "id": "54be54f3",
   "metadata": {},
   "source": [
    "Now we will loop through our science images and get photometry."
   ]
  },
  {
   "cell_type": "code",
   "execution_count": null,
   "id": "06dad067",
   "metadata": {},
   "outputs": [],
   "source": [
    "snum = len(sci_data)\n",
    "phot_dict = {'target':np.empty(snum),\n",
    "            'c1':np.empty(snum),\n",
    "            'c2':np.empty(snum),\n",
    "            'c3':np.empty(snum),\n",
    "            'c4':np.empty(snum),\n",
    "            'c5':np.empty(snum)}\n",
    "\n",
    "for i, data in enumerate(sci_data): \n",
    "    for key in phot_dict.keys():\n",
    "        # refine centroid\n",
    "        x, y = centroid_sources(data, star_dict[key][0], star_dict[key][1], box_size=21,\n",
    "                            centroid_func=centroid_2dg)\n",
    "        pos = (x[0],y[0])\n",
    "        star_dict[key] = pos\n",
    "        \n",
    "        # mask bad pixel locations\n",
    "        mask = np.ma.masked_invalid(data).mask\n",
    "        \n",
    "        ap = CircularAperture(pos,r=ap_radius)\n",
    "        ann = CircularAnnulus(pos,r_in=ann_rad_in, r_out=ann_rad_out)\n",
    "        \n",
    "        ap_sum = aperture_photometry(data, ap, mask=mask)['aperture_sum']\n",
    "        ann_sum = aperture_photometry(data,ann,mask=mask)['aperture_sum']\n",
    "        \n",
    "        bkg_mean = ann_sum / ann.area\n",
    "        phot = ap_sum - (bkg_mean*ap.area)  \n",
    "        phot_dict[key][i] = phot\n",
    "    "
   ]
  },
  {
   "cell_type": "markdown",
   "id": "c36fa745",
   "metadata": {},
   "source": [
    "### Looking at the raw lightcurves\n",
    "Why we use comparison stars becomes clear if we now plot the photometry of all our comparison stars together. You should see that all the stars have photometry the follows the same rough trend, but no transit is obviously visible in the target photometry.\n",
    "\n",
    "The cell below plots the raw lightcurves with offsets in flux so that the lightcurves are not displayed on top of each other."
   ]
  },
  {
   "cell_type": "code",
   "execution_count": null,
   "id": "00c885a7",
   "metadata": {},
   "outputs": [],
   "source": [
    "# get time of all observations\n",
    "t = np.empty(len(time_data))\n",
    "for i in range(len(time_data)):\n",
    "    tstart = time_data[i][0]\n",
    "    tend = time_data[i][1]\n",
    "    t[i] = (((tend-tstart)/2) + tstart).jd\n",
    "\n",
    "# plot raw lightcurves\n",
    "%matplotlib widget\n",
    "plt.figure(figsize=(12,4))\n",
    "sep = 0\n",
    "for key in phot_dict.keys():\n",
    "    plt.plot(t, phot_dict[key]/np.nanmedian(phot_dict[key]) - sep, label=key)\n",
    "    sep += 0.03 # creates offset between lightcurves so they don't stack on top of each other\n",
    "    \n",
    "plt.ylabel('normalized flux')\n",
    "plt.xlabel('time (julian date)')\n",
    "plt.legend()\n",
    "plt.title('raw lightcurves')\n",
    "plt.show()"
   ]
  },
  {
   "cell_type": "markdown",
   "id": "1873ac0b",
   "metadata": {},
   "source": [
    "### Detrending our lightcurve!\n",
    "\n",
    "Let's use the comparison lightcurves we plotted above to remove the \"trends\" in our target lightcurve and reveal the transit. Take a median of the comparison star photometry for every point in time, and divide that median from the target photometry at that time. Save the \"detrended\" lightcurve in the **detrended** variable. We will then plot the detrended lightcurve below, and you should see a clear transit.\n",
    "\n",
    "If you do not see a transit, check if any mistakes may have been made on this or previous steps, and ask the instructor for help!"
   ]
  },
  {
   "cell_type": "code",
   "execution_count": null,
   "id": "99ebc1e7",
   "metadata": {
    "scrolled": true
   },
   "outputs": [],
   "source": [
    "detrended = #FIXME\n",
    "        \n",
    "# plot raw lightcurves\n",
    "%matplotlib widget\n",
    "plt.figure(figsize=(12,4))\n",
    "plt.scatter(t, detrended-np.max(detrended)+1, label='target')\n",
    "    \n",
    "plt.ylabel('normalized flux')\n",
    "plt.xlabel('time (julian date)')\n",
    "plt.legend()\n",
    "plt.title('detrended lightcurve')\n",
    "plt.axes().xaxis.set_minor_locator(AutoMinorLocator())\n",
    "plt.grid(b=True, which='both', color='grey', linestyle='--', alpha=0.2)\n",
    "plt.show()"
   ]
  },
  {
   "cell_type": "markdown",
   "id": "6e1b32f0",
   "metadata": {},
   "source": [
    "### Fitting a model to the transit\n",
    "\n",
    "We see the transit, let's measure its duration and depth so we can understand what kind of planet we are dealing with (a giant planet like Jupiter, or a small planet like Earth). Below, we have written a function that will fit a transit model to the data. You just need to make some initial guesses on when the transit begins and ends. The units of time are in Julian Date (JD - https://en.wikipedia.org/wiki/Julian_day), which is an absolute date system where days have been counted sequentially since a zero point several thousand years ago. The JD of the transit is in the millions."
   ]
  },
  {
   "cell_type": "code",
   "execution_count": null,
   "id": "b3b7bc5e",
   "metadata": {},
   "outputs": [],
   "source": [
    "time_ig_begin = #FIXME # time ingress begins # units in JD\n",
    "time_ig_end = #FIXME # time ingress ends\n",
    "time_eg_begin = #FIXME # time egress begins\n",
    "time_eg_end = #FIXME # time egress ends"
   ]
  },
  {
   "cell_type": "code",
   "execution_count": null,
   "id": "055b0372",
   "metadata": {},
   "outputs": [],
   "source": [
    "# piecewise function that creates a trapezoidal transit shape\n",
    "def transit_model(time, base, depth, t0, duration, ineg_duration):\n",
    "    # outside transit\n",
    "    if abs(time-t0)> duration/2+ineg_duration:\n",
    "        flux = base\n",
    "    # egress\n",
    "    elif -(duration/2+ineg_duration)<t0-time<-duration/2:\n",
    "        flux = base - depth + depth / ineg_duration * (time-(t0+duration/2))\n",
    "    # ingress\n",
    "    elif (duration/2+ineg_duration)>t0-time>duration/2:\n",
    "        flux = base - depth / ineg_duration * (time-(t0-duration/2-ineg_duration))\n",
    "    # in transit\n",
    "    elif abs(time-t0)<duration/2:\n",
    "        flux = base-depth\n",
    "    \n",
    "    return flux"
   ]
  },
  {
   "cell_type": "code",
   "execution_count": null,
   "id": "d58dfe73",
   "metadata": {},
   "outputs": [],
   "source": [
    "# function the calculates difference between model and data\n",
    "def residual(g):\n",
    "    f = []\n",
    "    for i in t:\n",
    "        f.append(transit_model(i,base,depth,g[0],g[1],g[2]))\n",
    "\n",
    "    res = np.sum((f-(detrended))**2)\n",
    "    return res"
   ]
  },
  {
   "cell_type": "code",
   "execution_count": null,
   "id": "9cef7e6f",
   "metadata": {
    "scrolled": true
   },
   "outputs": [],
   "source": [
    "# depth is calculated based on the in transit and out of transit points\n",
    "base = np.median(detrended[np.where((t<time_ig_begin)|(t>time_eg_end))]) # out of transit flux\n",
    "it_base = np.median(detrended[np.where((t<time_eg_begin)&(t>time_ig_begin))]) # in transit flux\n",
    "depth = base-it_base\n",
    "# error in depth calculated as std error of the mean\n",
    "depth_err = np.std(detrended[np.where((t<time_eg_begin)&(t>time_ig_begin))])*2**0.5 / len(detrended[np.where((t<time_eg_begin)&(t>time_ig_begin))])**0.5\n",
    "\n",
    "# these arrays are the initial guesses and bounds for the model parameters\n",
    "g0 = np.array([(time_eg_end-time_ig_end)/2 + time_ig_end,\n",
    "               time_eg_end-time_ig_end,\n",
    "               (time_eg_end-time_eg_begin + time_ig_end-time_ig_begin)/2])\n",
    "gb = np.array([(time_ig_end,g0[1]/4,g0[2]/4),\n",
    "               (time_eg_begin,g0[1]*2,g0[2]*2)])\n",
    "\n",
    "# do the model fitting, may need to adjust diff_step if the guess is being given as the solution\n",
    "fit = least_squares(residual, g0, bounds=gb, xtol=1e-14, verbose=2, diff_step=[1e-9,1e-3,1e-3])"
   ]
  },
  {
   "cell_type": "markdown",
   "id": "a136eff9",
   "metadata": {},
   "source": [
    "### Results\n",
    "The next two boxes print the results of our fit, then displays the model compared to the data. Make sure the results make sense, otherwise you may need to change your guesses on the transit timing. "
   ]
  },
  {
   "cell_type": "code",
   "execution_count": null,
   "id": "0d320f68",
   "metadata": {},
   "outputs": [],
   "source": [
    "print('transit midpoint:', fit.x[0], 'JD +/-', fit.jac[0][0])\n",
    "print('duration:', (fit.x[1]+2*fit.x[2]) * 24, 'hours +/-', (fit.jac[0][1]) * 24)\n",
    "print('depth:', depth*100, '% +/-', depth_err*100)"
   ]
  },
  {
   "cell_type": "code",
   "execution_count": null,
   "id": "8e776d0e",
   "metadata": {},
   "outputs": [],
   "source": [
    "plt.figure(figsize=(12,4))\n",
    "plt.scatter(t, detrended, label='data', color='k')\n",
    "model = []\n",
    "for i in t:\n",
    "    model.append(transit_model(i,base,depth,fit.x[0], fit.x[1], fit.x[2]))\n",
    "plt.plot(t, model, label='best fit')\n",
    "plt.legend()\n",
    "plt.show()"
   ]
  },
  {
   "cell_type": "markdown",
   "id": "d0da20fa",
   "metadata": {},
   "source": [
    "### Residuals and noise\n",
    "After fitting a model to the transit, we want to subtract the model from the data to see if any weird patterns remain that may suggest a bad fit, and to caculate the noise in our data.\n",
    "\n",
    "The box below plots data - model, and the standard deviation of the result, which is equal to the noise is printed into the plot title."
   ]
  },
  {
   "cell_type": "code",
   "execution_count": null,
   "id": "a0362f54",
   "metadata": {},
   "outputs": [],
   "source": [
    "plt.figure(figsize=(12,4))\n",
    "model = []\n",
    "for i in t:\n",
    "    model.append(transit_model(i,base,depth,fit.x[0], fit.x[1], fit.x[2]))\n",
    "    plt.axhline(0)\n",
    "plt.scatter(t, detrended-model, label='residual', color='k')\n",
    "plt.legend()\n",
    "plt.ylim(-np.max(detrended-model)*3,np.max(detrended-model)*3)\n",
    "plt.title('residuals (1-sigma noise: ' +str(np.round(np.std(detrended-model)*100,3))+'%)')\n",
    "plt.show()"
   ]
  },
  {
   "cell_type": "markdown",
   "id": "3f57a6c0",
   "metadata": {},
   "source": [
    "### Analysis questions\n",
    "Below are a few questions to answer based on the results. Feel free to create new cells below to do any math for the questions.\n",
    "***\n",
    "1. What is the radius of Wasp-2 b? Remember that the transit depth is given by $$\\text{depth}=\\frac{R_p^2}{R_s^2}$$ where $R_p$ is the planet radius and $R_s$ is the star's radius. The radius of the star Wasp-2 is 0.866$\\times$ the radius of our Sun. Compare the radius of Wasp-2 b to the of Earth or Jupiter.\n",
    "***\n",
    "2. Given the noise in our lightcurve, what is the smallest planet we could detect? Stated differently, what size planet would give a transit depth equal to the noise? Again, compare the radius of the planet to the radius of Earth or Jupiter.\n",
    "***\n",
    "3. Imagine that instead of Wasp-2, we have a much smaller star that only has a radius of 0.12$\\times$ the radius of the Sun. What is the smallest planet we could detect then if we had a lightcurve with the same noise? Again, compare the radius of the planet to the radius of Earth or Jupiter."
   ]
  },
  {
   "cell_type": "code",
   "execution_count": null,
   "id": "2ba0aff1",
   "metadata": {},
   "outputs": [],
   "source": []
  }
 ],
 "metadata": {
  "kernelspec": {
   "display_name": "Python 3 (ipykernel)",
   "language": "python",
   "name": "python3"
  },
  "language_info": {
   "codemirror_mode": {
    "name": "ipython",
    "version": 3
   },
   "file_extension": ".py",
   "mimetype": "text/x-python",
   "name": "python",
   "nbconvert_exporter": "python",
   "pygments_lexer": "ipython3",
   "version": "3.6.9"
  }
 },
 "nbformat": 4,
 "nbformat_minor": 5
}
