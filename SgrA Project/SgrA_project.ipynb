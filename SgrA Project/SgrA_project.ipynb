{
 "cells": [
  {
   "cell_type": "markdown",
   "id": "0971ca80-2ead-455e-b882-5b9487e41d49",
   "metadata": {
    "id": "0971ca80-2ead-455e-b882-5b9487e41d49"
   },
   "source": [
    "# Finding the Mass of the Supermassive Black Hole at the Center of the Milky Way Galaxy\n",
    "\n",
    "![](orbits.gif)\n",
    "\n",
    "## Learning/Reviewing some astronomy terms\n",
    "Watch this video (https://www.youtube.com/watch?v=CWMh61yutjU&t=192s) and answer the following questions:\n",
    "\n",
    "1. What is an astronomical unit (AU)? How many kilometers (km) are in an AU? \\\\\n",
    "A:\n",
    "2. What is parallax? \\\\\n",
    "A:\n",
    "3. What is a parsec? How many AU are in a parsec? How many km? \\\\\n",
    "A:\n",
    "\n",
    "## Learning/Reviewing some Background Physics:\n",
    "Watch this video (https://www.youtube.com/watch?v=AKbfR5KHUm4) and answer the following questions:\n",
    "\n",
    "1. What is Kepler's 1st law? \\\\\n",
    "A:\n",
    "2. What is an ellipse? \\\\\n",
    "A:\n",
    "3. True or False: All orbits are perfectly circular \\\\\n",
    "A:\n",
    "4. What is eccentricity? \\\\\n",
    "A:\n",
    "5. What is Kepler's 3rd law? \\\\\n",
    "A:\n",
    "6. Where in Earth's orbit is it traveling the fastest? \\\\\n",
    "A:\n",
    "\n",
    "## Optional: Units and Dimensional analysis\n",
    "Watch this video to get a review of units and dimensional analysis (https://www.youtube.com/watch?v=AGxOWIuaBP8) \\\\\n",
    "\n",
    "# Goal of this project\n",
    "\n",
    "Kepler's laws don't just apply to our solar system, they can be applied to almost any object that is bounded by gravity to another object... for example, like a star orbiting a supermassive black hole! Kepler's 3rd law has the following form:\n",
    "\n",
    "$$P^2 = \\frac{4\\pi^2 a^3}{GM}$$\n",
    "\n",
    "*Breaking down this equation:*\n",
    "\n",
    "- $P$ is the period of orbit, i.e., how much time it takes a star to make 1 revolution around a supermassive black hole. It has units of time, like years or seconds.\n",
    "- $a$ is the semi-major axis of the orbit. For a nearly circular orbit, this is essentially just how far the star is from the supermassive black hole. It has units of distance, like AU or km.\n",
    "- $M$ is the total mass of the system in question (i.e. the mass of the star + the mass of the supermassive black hole). However, often times we can ignore the mass of the smaller object and only consider the mass of the supermassive black hole and still get a really good answer! It has units of mass, like kilograms (kg) or solar-masses ($M_{\\odot} = 2.0 \\times 10^{30}~kg$)\n",
    "- $G$ is the gravitational constant which is $G = 6.67 \\times 10 ^{-11}~\\frac{N}{kg^2 m^2}$, where *N* are called Newtons (units of force) and *m* are meters (units of distance, like km). \\\\\n",
    "\n",
    "Another way of expressing this equation is in terms of *velocity*, how far the star travels per unit time (so the units are distance/time, like km/s). We can do this by plugging in the following definition for period by assuming a circular orbit:\n",
    "\n",
    "$$P = \\frac{2\\pi a}{v}$$\n",
    "\n",
    "Plugging this in gives:\n",
    "\n",
    "$$v = \\sqrt{\\frac{GM}{a}}$$\n",
    "\n",
    "Finally re-arranging this a bit to solve for Mass of the supermassive black hole gives:\n",
    "\n",
    "$$M = \\frac{av^2}{G}$$\n",
    "\n",
    "*Optional: derive this yourself!*\n",
    "\n",
    "**The goal of this project is to obtain an estimate for the mass of the supermassive blackhole at the center of the Milky-Way Galaxy by measuring the motion/velocity of stars near it!**\n",
    "\n",
    "\n",
    "\n",
    "### Challenge 1: getting through the dust\n",
    "\n",
    "The galactic center is ~20,000 light years from Earth (or 8,200 parsecs) hiding behind thick dust and gas that makes seeing this region in\n",
    "\"ordinary\" light nearly impossible (e.g. the light our eyes can see). Only about 1 in every million visible light photons makes it through the dust. To solve this, astronomers look in the *infrared*, which is less susceptible to dust and thus 1 in every 10 photons makes it through the dust!\n",
    "\n",
    "### Challenge 2: stars are tiny that far away\n",
    "\n",
    "At distances of 8,200 parsecs, common stars look pretty tiny. If we are to find the mass of the black hole at the center of the galaxy, we need to be able to observe how these tiny stars move around it. To solve this, astronomers have utilized the largest telescope operating today: Keck telescopes. These telescopes are 10-m class telescopes, so their primary mirror is about the size of a tennis court! The larger your telescope, the smaller things you are able to see (i.e., better resolution).\n",
    "\n",
    "### Challenge 3: what to do about the atmosphere\n",
    "\n",
    "Looking through the atmosphere with such a large telescope is like looking through the water of a fast moving turbulent river. Light interacts with air in a similar way as it does with water. Our atmosphere is very turbulent, highly variable, and thus affects light differently in every instance. If we are to trust in our measurements of stars, we need to ensure the atmosphere isn't introducing errors. To solve this, astronomers have utilized *adaptive optics*, a technique that corrects the distorted incoming light by using a deformable mirror!"
   ]
  },
  {
   "cell_type": "markdown",
   "id": "36b9f0d0-f29c-4af8-917e-8a586665a86c",
   "metadata": {
    "id": "36b9f0d0-f29c-4af8-917e-8a586665a86c"
   },
   "source": [
    "### Collecting the data\n",
    "Make sure you have the data folder \"./data/\" with three fits images named \"20190814.fits\", \"20210821.fits\", and \"20230809.fits\".\n",
    "\n",
    "If not, you can download them from:\n",
    "https://drive.google.com/drive/u/0/folders/1pARePed36fYuXvAMbQwejPHK8FAud_BH\n",
    "\n",
    "Each image is of the galactic center taken 2 years apart!"
   ]
  },
  {
   "cell_type": "markdown",
   "id": "5754f678-f95e-4ea3-ad0a-19ef225bbf55",
   "metadata": {
    "id": "5754f678-f95e-4ea3-ad0a-19ef225bbf55"
   },
   "source": [
    "### Make sure you have photutils installed"
   ]
  },
  {
   "cell_type": "code",
   "execution_count": null,
   "id": "1e4dd0bd-37a1-4af2-acf6-289a363e8751",
   "metadata": {
    "id": "1e4dd0bd-37a1-4af2-acf6-289a363e8751"
   },
   "outputs": [],
   "source": [
    "import sys\n",
    "!{sys.executable} -m pip install photutils\n",
    "import photutils"
   ]
  },
  {
   "cell_type": "code",
   "execution_count": null,
   "id": "8a849664-25c0-4006-98c2-55b15fa568e0",
   "metadata": {
    "id": "8a849664-25c0-4006-98c2-55b15fa568e0"
   },
   "outputs": [],
   "source": [
    "!pip install photutils"
   ]
  },
  {
   "cell_type": "code",
   "execution_count": null,
   "id": "c4bfc214-2ad7-451d-af9d-040787863107",
   "metadata": {
    "id": "c4bfc214-2ad7-451d-af9d-040787863107"
   },
   "outputs": [],
   "source": [
    "# Import packages\n",
    "import os\n",
    "import numpy as np\n",
    "from astropy.io import fits\n",
    "from scipy.ndimage import median_filter\n",
    "import matplotlib.pyplot as plt\n",
    "from photutils.detection import DAOStarFinder\n",
    "from astropy.stats import sigma_clipped_stats\n",
    "from photutils.aperture import CircularAperture\n",
    "from astropy.visualization import simple_norm\n",
    "from scipy.ndimage import shift\n",
    "from astropy.time import Time\n",
    "import matplotlib.cm as cm\n",
    "import matplotlib.colors as colors\n",
    "import photutils\n",
    "import imageio"
   ]
  },
  {
   "cell_type": "code",
   "execution_count": null,
   "id": "72651c95-2c31-42ca-912b-d52c98d6e2a3",
   "metadata": {
    "id": "72651c95-2c31-42ca-912b-d52c98d6e2a3"
   },
   "outputs": [],
   "source": [
    "# Specify the location of the science images\n",
    "sci_directory = './data/' # edit  if needed\n",
    "\n",
    "sci_files = os.listdir(sci_directory)\n",
    "sci_files = sorted(sci_files)"
   ]
  },
  {
   "cell_type": "code",
   "execution_count": null,
   "id": "J0iOUnG9WaHz",
   "metadata": {
    "id": "J0iOUnG9WaHz"
   },
   "outputs": [],
   "source": [
    "print(sci_files)"
   ]
  },
  {
   "cell_type": "code",
   "execution_count": null,
   "id": "dca20955-e9da-4300-964a-1ca045448403",
   "metadata": {
    "id": "dca20955-e9da-4300-964a-1ca045448403"
   },
   "outputs": [],
   "source": [
    "# --- Plot the data, img0 will be our reference image ---\n",
    "# First, fetch the data for each image\n",
    "img0 = fits.getdata(sci_directory + sci_files[0])\n",
    "img1 = fits.getdata(sci_directory + sci_files[1])\n",
    "img2 = fits.getdata(sci_directory + sci_files[2])\n",
    "\n",
    "# Now setup the figures, we will plot them side by side\n",
    "fig, axes = plt.subplots(1, 3, figsize=(15, 5))  # 1 row, 3 columns\n",
    "\n",
    "# First image\n",
    "axes[0].imshow(img0, origin='lower', vmin=np.percentile(img0, 1), vmax=np.percentile(img0, 99), cmap='gray')\n",
    "axes[0].set_title('') # enter a title, for example: Year 2019\n",
    "\n",
    "# Second image\n",
    "axes[1].imshow(img1, origin='lower', vmin=np.percentile(img1, 1), vmax=np.percentile(img1, 99), cmap='gray')\n",
    "axes[1].set_title('') # enter a title, for example: Year 2021\n",
    "\n",
    "# Third image\n",
    "axes[2].imshow(img2, origin='lower', vmin=np.percentile(img2, 1), vmax=np.percentile(img2, 99), cmap='gray')\n",
    "axes[2].set_title('') # enter a title, for example: Year 2023\n",
    "\n",
    "plt.tight_layout()\n",
    "\n",
    "# This will show the image!\n",
    "plt.show()"
   ]
  },
  {
   "cell_type": "markdown",
   "id": "n6KeFR1revL8",
   "metadata": {
    "id": "n6KeFR1revL8"
   },
   "source": [
    "# Lets take a moment to think about what we are looking at\n",
    "There are some important things to point out at this stage to make sense of what our next goal should be.\n",
    "\n",
    "1. First, note that each image is *2 years apart*, so even though they look the same, stars *are moving*, some move quite a lot, and some barley move at all.\n",
    "\n",
    "2. There are some very big/bright stars, and some very small/faint stars.\n",
    "\n",
    "3. The images are *not perfectly aligned*, in other words, a star may appear to shift more than how much it actually moves.\n",
    "\n",
    "4. What else can you notice? Discuss with a partner.\n",
    "\n",
    "An easy and quick way to see the effects of (3.) is to take the difference between the images. Let's quickly try that:"
   ]
  },
  {
   "cell_type": "code",
   "execution_count": null,
   "id": "wMupZh_zjDUH",
   "metadata": {
    "id": "wMupZh_zjDUH"
   },
   "outputs": [],
   "source": [
    "# Subtract img0 and img1, call this a 'residual'\n",
    "residual = img0 - img1\n",
    "\n",
    "# If they are perfectly aligned, we shouldn't see significant holes or large stars still in the image\n",
    "plt.figure()\n",
    "plt.imshow(img0 - img1, vmin=np.percentile(img0-img1, 1), vmax=np.percentile(img0-img1, 99), cmap = 'gray', origin='lower')\n",
    "plt.show()"
   ]
  },
  {
   "cell_type": "markdown",
   "id": "b575380c-8e09-4a97-bfff-ee2fadb175d7",
   "metadata": {
    "id": "b575380c-8e09-4a97-bfff-ee2fadb175d7"
   },
   "source": [
    "What do you notice about the image? Can you tell that the images are not aligned? How would this image change if the images are aligned? **Discuss with a partner**\n",
    "\n",
    "Given that these images are not aligned, and that our goal is to see how fast stars are *really* moving around the supermassive blackhole, our next goal is to **align these images!**\n",
    "\n",
    "### Step 1: Aligning the images\n",
    "Recall the thing we mentioned earlier, some stars are moving quite fast, and some are moving really, really slowly (so much so that they are nearly at the same position throughout the 4 years of our data). We can take advantage of this fact to align our images. If we take the same star in each image, and shift the entire frame such that the star is on the same pixel, our images should roughly be aligned. Let's do that!\n"
   ]
  },
  {
   "cell_type": "code",
   "execution_count": null,
   "id": "3209788e-41e6-4e14-8fbb-f7928307a429",
   "metadata": {
    "id": "3209788e-41e6-4e14-8fbb-f7928307a429"
   },
   "outputs": [],
   "source": [
    "# Processing the data:\n",
    "# The data has some background noise that we don't want, so lets subtract it out\n",
    "\n",
    "# --- Background subtraction ---\n",
    "mean0, median0, std0 = sigma_clipped_stats(img0, sigma=3.0)\n",
    "mean1, median1, std1 = sigma_clipped_stats(img1, sigma=3.0)\n",
    "mean2, median2, std2 = sigma_clipped_stats(img2, sigma=3.0)\n",
    "\n",
    "img0_sub = img0 - median0\n",
    "img1_sub = img1 - median1\n",
    "img2_sub = img2 - median2\n",
    "\n",
    "\n",
    "# Analyzing the data:\n",
    "# We will use a tool called 'DAOStarFinder' which will identify sources\n",
    "# in our image that have brightness values above the background defined by\n",
    "# some threshold. Let's say that a star should at least be 3x brighter than the\n",
    "# surrounding noise.\n",
    "\n",
    "# --- Run DAOStarFinder ---\n",
    "daofind0 = DAOStarFinder(fwhm=4.0, threshold=3.0 * std0) # 3x surrounding noise (std0)\n",
    "sources0 = daofind0(img0_sub) # find stars in the image\n",
    "\n",
    "daofind1 = DAOStarFinder(fwhm=4.0, threshold= \"fill in\") # 3x surrounding noise (std1)\n",
    "sources1 = daofind1(img1_sub) # find stars in the image\n",
    "\n",
    "daofind2 = DAOStarFinder(fwhm=4.0, threshold=\"fill in\") # 3x surrounding noise (std2)\n",
    "sources2 = daofind2(img2_sub) # find stars in the image\n",
    "\n",
    "# --- Plotting ---\n",
    "fig, axes = plt.subplots(1, 3, figsize=(18, 6))\n",
    "\n",
    "# Helper function to plot\n",
    "def show_sources(ax, img, sources, title):\n",
    "    ax.imshow(img, origin='lower', cmap='gray',\n",
    "              vmin=np.percentile(img, 1), vmax=np.percentile(img, 99))\n",
    "    if sources is not None and len(sources) > 0:\n",
    "        positions = np.transpose((sources['xcentroid'], sources['ycentroid']))\n",
    "        apertures = CircularAperture(positions, r=5.0)\n",
    "        apertures.plot(ax=ax, color='red', lw=1.5) # plotting circles around our detected stars\n",
    "    ax.set_title(title)\n",
    "    ax.set_xticks([])\n",
    "    ax.set_yticks([])\n",
    "\n",
    "show_sources(axes[0], img0_sub, sources0, sci_files[0])\n",
    "show_sources(axes[1], img1_sub, sources1, sci_files[1])\n",
    "show_sources(axes[2], img2_sub, sources2, sci_files[2])\n",
    "\n",
    "plt.tight_layout()\n",
    "\n",
    "# Show the image\n",
    "\n",
    "plt.show()\n",
    "\n"
   ]
  },
  {
   "cell_type": "markdown",
   "id": "57dafb04-1dd9-4875-aa65-0834c70b6a40",
   "metadata": {
    "id": "57dafb04-1dd9-4875-aa65-0834c70b6a40"
   },
   "source": [
    "We need to identify a star that is detected in each year to use as our reference star to align the images together. Open 20190814 in JS9 (https://js9.si.edu/) and choose a pixel location of a big, slow moving star (One recommendation is the star near x=525, y=402, but feel free to choose a different star). Then add that pixel location as x0 and y0 below."
   ]
  },
  {
   "cell_type": "markdown",
   "id": "da654646-6812-456a-946f-b4a1ff9d652b",
   "metadata": {
    "id": "da654646-6812-456a-946f-b4a1ff9d652b"
   },
   "source": [
    "### Img0"
   ]
  },
  {
   "cell_type": "code",
   "execution_count": null,
   "id": "65a8ab9b-5cff-4b6d-b794-029a6690a1e3",
   "metadata": {
    "id": "65a8ab9b-5cff-4b6d-b794-029a6690a1e3"
   },
   "outputs": [],
   "source": [
    "# --- Reference location and radius ---\n",
    "x0, y0 = 525, 402   # your reference pixel, edit or change\n",
    "radius = 5       # choose a radius to search around, edit\n",
    "\n",
    "# Filter sources within the radius, to do this, calculate the distances between each source\n",
    "# using their x position: sources0[\"xcentroid\"]\n",
    "# and their y position: sources0[\"ycentroid\"]\n",
    "# from the reference pixel: x0 and y0\n",
    "\n",
    "distances = # put in the distance calculation from each source to your reference pixel\n",
    "mask = # put in that we want the distance from our reference pixel to be less than our radius\n",
    "nearby_sources = sources0[mask]\n",
    "\n",
    "print(f\"Found {len(nearby_sources)} sources within {radius} pixels of ({x0}, {y0})\")\n",
    "print(nearby_sources[['xcentroid', 'ycentroid', 'flux']])"
   ]
  },
  {
   "cell_type": "markdown",
   "id": "_SHhvzngrWmi",
   "metadata": {
    "id": "_SHhvzngrWmi"
   },
   "source": [
    "A collection of sources within your given radius around your reference pixel should be reported above. Now we need to pick out the actual source closest to our reference pixel! In the cell below, add a line below to label/plot the reference pixel."
   ]
  },
  {
   "cell_type": "code",
   "execution_count": null,
   "id": "45bc9e66-d1fa-4cf5-a449-714c5e3a8f63",
   "metadata": {
    "id": "45bc9e66-d1fa-4cf5-a449-714c5e3a8f63"
   },
   "outputs": [],
   "source": [
    "# Plot up what sources are found and the centroid chosen\n",
    "\n",
    "# Get positions of sources found\n",
    "positions = np.transpose((nearby_sources['xcentroid'], nearby_sources['ycentroid']))\n",
    "\n",
    "# Using circles to pin point sources on image\n",
    "apertures = CircularAperture(positions, r=6)\n",
    "\n",
    "# Normalizing the image to see it better\n",
    "norm = simple_norm(img0_sub, 'sqrt', percent=99)\n",
    "\n",
    "# Plotting up figure\n",
    "plt.figure(figsize=(8, 8))\n",
    "# plot your reference pixel here\n",
    "\n",
    "# Show image\n",
    "plt.imshow(img0_sub, origin='lower', cmap='gray', norm=norm)\n",
    "\n",
    "# Show sources found\n",
    "apertures.plot(color='red', lw=1.5)\n",
    "\n",
    "# Add title\n",
    "plt.title() # add a title\n",
    "\n",
    "# Add legend\n",
    "plt.legend()\n",
    "\n",
    "# Show the image with the sources detected\n",
    "plt.show()"
   ]
  },
  {
   "cell_type": "code",
   "execution_count": null,
   "id": "zO2iTqMCs21-",
   "metadata": {
    "id": "zO2iTqMCs21-"
   },
   "outputs": [],
   "source": [
    "# If reference star is the only star found then pos0 should be:\n",
    "pos0 = positions[0]\n",
    "\n",
    "# If not, manually enter the x and y locations closest to your reference pixel from the list 2 cells above\n",
    "pos0 = np.array([x_here, y_here]) # edit"
   ]
  },
  {
   "cell_type": "markdown",
   "id": "dc77f934-e461-47ab-a0ac-12702c59d6ff",
   "metadata": {
    "id": "dc77f934-e461-47ab-a0ac-12702c59d6ff"
   },
   "source": [
    "### Img1\n",
    "Repeat process for image 1"
   ]
  },
  {
   "cell_type": "code",
   "execution_count": null,
   "id": "23f0f5bb-593b-40e8-8c72-5984954f4f86",
   "metadata": {
    "id": "23f0f5bb-593b-40e8-8c72-5984954f4f86"
   },
   "outputs": [],
   "source": [
    "# --- Reference location and radius ---\n",
    "x0, y0 = 525, 358   # your reference pixel, edit or change\n",
    "radius = 50          # choose a radius to search around, edit\n",
    "\n",
    "# Filter sources within the radius, to do this, calculate the distances between each source\n",
    "# using their x position: sources0[\"xcentroid\"]\n",
    "# and their y position: sources0[\"ycentroid\"]\n",
    "# from the reference pixel: x0 and y0\n",
    "\n",
    "distances = # put in the distance calculation from each source to your reference pixel\n",
    "mask = # put in that we want the distance from our reference pixel to be less than our radius\n",
    "nearby_sources = sources0[mask]\n",
    "\n",
    "print(f\"Found {len(nearby_sources)} sources within {radius} pixels of ({x0}, {y0})\")\n",
    "print(nearby_sources[['xcentroid', 'ycentroid', 'flux']])"
   ]
  },
  {
   "cell_type": "code",
   "execution_count": null,
   "id": "4de95ae9-32e0-42f3-946b-2f44246843b7",
   "metadata": {
    "id": "4de95ae9-32e0-42f3-946b-2f44246843b7"
   },
   "outputs": [],
   "source": [
    "# Plot up what sources are found and the centroid chosen\n",
    "\n",
    "# Get positions of sources found\n",
    "positions = np.transpose((nearby_sources['xcentroid'], nearby_sources['ycentroid']))\n",
    "\n",
    "# Using circles to pin point sources on image\n",
    "apertures = CircularAperture(positions, r=6)\n",
    "\n",
    "# Normalizing the image to see it better\n",
    "norm = simple_norm(img1_sub, 'sqrt', percent=99)\n",
    "\n",
    "# Plotting up figure\n",
    "plt.figure(figsize=(8, 8))\n",
    "# plot your reference pixel here\n",
    "plt...\n",
    "# Show image\n",
    "plt.imshow(img1_sub, origin='lower', cmap='gray', norm=norm)\n",
    "\n",
    "# Show sources found\n",
    "apertures.plot(color='red', lw=1.5)\n",
    "\n",
    "# Add title\n",
    "plt.title() # add a title\n",
    "\n",
    "# Add legend\n",
    "plt.legend()\n",
    "\n",
    "# Show the image with the sources detected\n",
    "plt.show()"
   ]
  },
  {
   "cell_type": "code",
   "execution_count": null,
   "id": "BNIF48Ehtx0v",
   "metadata": {
    "id": "BNIF48Ehtx0v"
   },
   "outputs": [],
   "source": [
    "# If reference star is the only star found then pos0 should be:\n",
    "pos1 = positions[0]\n",
    "\n",
    "# If not, manually enter the x and y locations closest to your reference pixel from the list 2 cells above\n",
    "pos1 = np.array([x_here, y_here]) # edit"
   ]
  },
  {
   "cell_type": "markdown",
   "id": "19e566ce-e0af-4d6e-8087-5988ac40a5b0",
   "metadata": {
    "id": "19e566ce-e0af-4d6e-8087-5988ac40a5b0"
   },
   "source": [
    "### Img2\n",
    "Repeat the same process for image 2"
   ]
  },
  {
   "cell_type": "code",
   "execution_count": null,
   "id": "8a3d0ffd-3ec2-4c76-ace3-bcf251784157",
   "metadata": {
    "id": "8a3d0ffd-3ec2-4c76-ace3-bcf251784157"
   },
   "outputs": [],
   "source": [
    "# --- Reference location and radius ---\n",
    "x0, y0 = 508, 419   # your reference pixel, edit or change\n",
    "radius = 50          # choose a radius to search around, edit\n",
    "\n",
    "# Filter sources within the radius, to do this, calculate the distances between each source\n",
    "# using their x position: sources0[\"xcentroid\"]\n",
    "# and their y position: sources0[\"ycentroid\"]\n",
    "# from the reference pixel: x0 and y0\n",
    "\n",
    "distances = # put in the distance calculation from each source to your reference pixel\n",
    "mask = # put in that we want the distance from our reference pixel to be less than our radius\n",
    "nearby_sources = sources0[mask]\n",
    "\n",
    "print(f\"Found {len(nearby_sources)} sources within {radius} pixels of ({x0}, {y0})\")\n",
    "print(nearby_sources[['xcentroid', 'ycentroid', 'flux']])"
   ]
  },
  {
   "cell_type": "code",
   "execution_count": null,
   "id": "7b91a069-cc25-4873-bfd3-47db57ba3c97",
   "metadata": {
    "id": "7b91a069-cc25-4873-bfd3-47db57ba3c97"
   },
   "outputs": [],
   "source": [
    "# Plot up what sources are found and the centroid chosen\n",
    "\n",
    "# Get positions of sources found\n",
    "positions = np.transpose((nearby_sources['xcentroid'], nearby_sources['ycentroid']))\n",
    "\n",
    "# Using circles to pin point sources on image\n",
    "apertures = CircularAperture(positions, r=6)\n",
    "\n",
    "# Normalizing the image to see it better\n",
    "norm = simple_norm(img2_sub, 'sqrt', percent=99)\n",
    "\n",
    "# Plotting up figure\n",
    "plt.figure(figsize=(8, 8))\n",
    "# plot your reference pixel here\n",
    "plt...\n",
    "# Show image\n",
    "plt.imshow(img2_sub, origin='lower', cmap='gray', norm=norm)\n",
    "\n",
    "# Show sources found\n",
    "apertures.plot(color='red', lw=1.5)\n",
    "\n",
    "# Add title\n",
    "plt.title() # add a title\n",
    "\n",
    "# Add legend\n",
    "plt.legend()\n",
    "\n",
    "# Show the image with the sources detected\n",
    "plt.show()"
   ]
  },
  {
   "cell_type": "code",
   "execution_count": null,
   "id": "k33xWXRvuQeg",
   "metadata": {
    "id": "k33xWXRvuQeg"
   },
   "outputs": [],
   "source": [
    "# If reference star is the only star found then pos0 should be:\n",
    "pos2 = positions[0]\n",
    "\n",
    "# If not, manually enter the x and y locations closest to your reference pixel from the list 2 cells above\n",
    "pos2 = np.array([x_here, y_here]) # edit"
   ]
  },
  {
   "cell_type": "markdown",
   "id": "e8b326dc-531e-4642-a381-9d7468868e11",
   "metadata": {
    "id": "e8b326dc-531e-4642-a381-9d7468868e11"
   },
   "source": [
    "With the location of the same star in each image found, we can now align the images to the reference image (the first one, image in 2019)"
   ]
  },
  {
   "cell_type": "code",
   "execution_count": null,
   "id": "6194070d-e343-409b-bb1d-f9509b78b80e",
   "metadata": {
    "id": "6194070d-e343-409b-bb1d-f9509b78b80e"
   },
   "outputs": [],
   "source": [
    "# Compute shifts needed to align pos1 and pos2 to pos0\n",
    "shift1 = # input here\n",
    "shift2 = # input here\n",
    "\n",
    "# Apply subpixel shifts to align images\n",
    "aligned_img1 = shift(img1_sub, shift=shift1, order=3)  # order=3 = cubic interpolation\n",
    "aligned_img2 = # do the same transformation for image2\n",
    "\n",
    "# We don't need to align image0 to itself!\n",
    "aligned_img0 = img0_sub"
   ]
  },
  {
   "cell_type": "markdown",
   "id": "8e8c5fb7-a0dd-44bc-8a65-030870763b60",
   "metadata": {
    "id": "8e8c5fb7-a0dd-44bc-8a65-030870763b60"
   },
   "source": [
    "Okay, if all went well, these images should be *roughly* aligned. Let's do that same test we did earlier where we take the difference of two images to see if we aligned them right:"
   ]
  },
  {
   "cell_type": "code",
   "execution_count": null,
   "id": "30a09d83-0606-419c-b481-e20cc2f6ffca",
   "metadata": {
    "id": "30a09d83-0606-419c-b481-e20cc2f6ffca"
   },
   "outputs": [],
   "source": [
    "residual_aligned = aligned_img0 - aligned_img1\n",
    "\n",
    "fig, axes = plt.subplots(1, 2, figsize=(12, 6))\n",
    "# Unaligned residual\n",
    "axes[0].imshow(residual, vmin = np.percentile(residual, 1), vmax = np.percentile(residual, 99), origin='lower', cmap='gray')\n",
    "axes[0].set_title(\"Unaligned Residual\")\n",
    "axes[0].axis('off')\n",
    "\n",
    "# Aligned residual with percentile stretch\n",
    "\n",
    "axes[1].imshow(residual_aligned, vmin=np.percentile(residual_aligned, 1), vmax=np.percentile(residual_aligned, 99), origin='lower', cmap='gray')\n",
    "axes[1].set_title(\"Aligned Residual\")\n",
    "axes[1].axis('off')\n",
    "\n",
    "plt.tight_layout()\n",
    "plt.show()"
   ]
  },
  {
   "cell_type": "markdown",
   "id": "269b67bc-662d-40e1-92ad-7aec10afd16d",
   "metadata": {
    "id": "269b67bc-662d-40e1-92ad-7aec10afd16d"
   },
   "source": [
    "This alignment is probably not perfect, but that's okay, we just need it to be decent enough!"
   ]
  },
  {
   "cell_type": "markdown",
   "id": "f4c08de0-ee3d-4ab4-8385-38b96788b402",
   "metadata": {
    "id": "f4c08de0-ee3d-4ab4-8385-38b96788b402"
   },
   "source": [
    "### Step 2: Tracking a moving star\n",
    "\n",
    "Now that our images are aligned, we can track the real physical movement of a star to see how fast it is moving! The trick here, is to ensure that we are tracking the *same star* across the three years of data. Accidentally choosing a different star will throw our result way off! Let's start by analyzing the aligned images again:"
   ]
  },
  {
   "cell_type": "code",
   "execution_count": null,
   "id": "e52abb09-22ff-4167-9429-bef7fc4f47a3",
   "metadata": {
    "id": "e52abb09-22ff-4167-9429-bef7fc4f47a3"
   },
   "outputs": [],
   "source": [
    "# --- Run DAOStarFinder ---\n",
    "daofind0 = DAOStarFinder(fwhm=4.0, threshold=3.0 * std0)\n",
    "sources0 = daofind0(aligned_img0)\n",
    "\n",
    "daofind1 = DAOStarFinder(fwhm=4.0, threshold=\"fill in\")\n",
    "sources1 = daofind1(aligned_img1)\n",
    "\n",
    "daofind2 = DAOStarFinder(fwhm=4.0, threshold=\"fill in\")\n",
    "sources2 = daofind2(aligned_img2)\n",
    "\n",
    "# --- Plotting ---\n",
    "fig, axes = plt.subplots(1, 3, figsize=(18, 6))\n",
    "\n",
    "# Helper function to plot\n",
    "def show_sources(ax, img, sources, title):\n",
    "    ax.imshow(img, origin='lower', cmap='gray',\n",
    "              vmin=np.percentile(img, 1), vmax=np.percentile(img, 99))\n",
    "    if sources is not None and len(sources) > 0:\n",
    "        positions = np.transpose((sources['xcentroid'], sources['ycentroid']))\n",
    "        apertures = CircularAperture(positions, r=5.0)\n",
    "        apertures.plot(ax=ax, color='red', lw=1.5)\n",
    "    ax.set_title(title)\n",
    "    ax.set_xticks([])\n",
    "    ax.set_yticks([])\n",
    "\n",
    "show_sources(axes[0], aligned_img0, sources0, \"ENTER TITLE HERE\")\n",
    "show_sources(axes[1], aligned_img1, sources1, \"ENTER TITLE HERE\")\n",
    "show_sources(axes[2], aligned_img2, sources2, \"ENTER TITLE HERE\")\n",
    "\n",
    "plt.tight_layout()\n",
    "plt.show()\n",
    "\n"
   ]
  },
  {
   "cell_type": "markdown",
   "id": "4a6a9a73-5030-4168-b798-302b08aacdc5",
   "metadata": {
    "id": "4a6a9a73-5030-4168-b798-302b08aacdc5"
   },
   "source": [
    "Now we need to open the reference image (20190814) in JS9 (https://js9.si.edu) and choose a star that is close to the dynamical center, preferably a small, faint, fast moving star. The dynamical center is located roughly at:\n",
    "\n",
    "$$x = 523$$\n",
    "$$y = 630$$\n",
    "\n",
    "search for stars around this location!"
   ]
  },
  {
   "cell_type": "markdown",
   "id": "b45959ec-c50a-45d2-aa68-0071b0dbceae",
   "metadata": {
    "id": "b45959ec-c50a-45d2-aa68-0071b0dbceae"
   },
   "source": [
    "*Optional:* To help identify the same star in each image, one option is we can look at an animation of our three aligned images"
   ]
  },
  {
   "cell_type": "code",
   "execution_count": null,
   "id": "ed661f68-bb86-49d3-83b0-e13779c06559",
   "metadata": {
    "id": "ed661f68-bb86-49d3-83b0-e13779c06559"
   },
   "outputs": [],
   "source": [
    "# Your aligned images\n",
    "images = [aligned_img0, aligned_img1, aligned_img2]\n",
    "# Cutout parameters\n",
    "center_y, center_x = 523, 630  # dynamical center\n",
    "radius = 100 # or change this to whatever you want\n",
    "# Create output directory for frames\n",
    "frame_dir = 'gif_frames'\n",
    "os.makedirs(frame_dir, exist_ok=True)\n",
    "# Generate cutout frames\n",
    "frame_paths = []\n",
    "for i, img in enumerate(images):\n",
    "    xmin = center_x - radius\n",
    "    xmax = center_x + radius\n",
    "    ymin = center_y - radius\n",
    "    ymax = center_y + radius\n",
    "    fig, ax = plt.subplots(figsize=(4, 4))\n",
    "    ax.imshow(img, cmap='gray', origin='lower',\n",
    "              vmin=np.percentile(cutout, 1), vmax=np.percentile(cutout, 99))\n",
    "    ax.set_title(f'Frame {i}')\n",
    "    ax.axis('off')\n",
    "    plt.xlim(xmin, xmax)\n",
    "    plt.ylim(ymin, ymax)\n",
    "    plt.scatter(center_x, center_y, marker = 'x', s=100, color = 'cyan')\n",
    "    frame_path = os.path.join(frame_dir, f'frame_{i}.png')\n",
    "    fig.savefig(frame_path, bbox_inches='tight', pad_inches=0)\n",
    "    plt.close(fig)\n",
    "    frame_paths.append(frame_path)\n",
    "# Create GIF\n",
    "gif_path = 'aligned_cutout.gif'\n",
    "with imageio.get_writer(gif_path, mode='I', duration=10.0) as writer:\n",
    "    for frame in frame_paths:\n",
    "        writer.append_data(imageio.imread(frame))\n",
    "print(f'GIF saved to: {gif_path}')"
   ]
  },
  {
   "cell_type": "markdown",
   "id": "HkCK6Q9T0Ye4",
   "metadata": {
    "id": "HkCK6Q9T0Ye4"
   },
   "source": [
    "For each aligned_img, we will keep the reference pixel location (x0 and y0) be the dynamical center (x0 = 523, y0 = 630) and will just change the search radius to find the same star in each image (ideally, we want the closest, brightest star we can find!)"
   ]
  },
  {
   "cell_type": "markdown",
   "id": "70d05b05-ee5f-4481-91cc-2b505e9fae01",
   "metadata": {
    "id": "70d05b05-ee5f-4481-91cc-2b505e9fae01"
   },
   "source": [
    "# aligned_img0"
   ]
  },
  {
   "cell_type": "code",
   "execution_count": null,
   "id": "1aa1b330-849d-4190-9869-1fc3b485f942",
   "metadata": {
    "id": "1aa1b330-849d-4190-9869-1fc3b485f942"
   },
   "outputs": [],
   "source": [
    "# --- Reference location and radius ---\n",
    "x0, y0 =    # dynamical center\n",
    "radius =       # radius to search around (recommend 20 to start), edit/change\n",
    "\n",
    "# --- Filter sources within the radius ---\n",
    "distances = # put in the distance calculation from each source to your reference pixel\n",
    "mask = # ensure that the distances are less than the radius\n",
    "nearby_sources = sources0[mask]\n",
    "\n",
    "print(f\"Found {len(nearby_sources)} sources within {radius} pixels of ({x0}, {y0})\")\n",
    "print(nearby_sources[['xcentroid', 'ycentroid', 'flux']])"
   ]
  },
  {
   "cell_type": "code",
   "execution_count": null,
   "id": "15e1334e-9a5e-4748-a0ac-9c4f921db937",
   "metadata": {
    "id": "15e1334e-9a5e-4748-a0ac-9c4f921db937"
   },
   "outputs": [],
   "source": [
    "# Plot up what sources are found and the centroid chosen\n",
    "# If the reference star is successfully the only source identified, then we can save its pixel location\n",
    "# Plot up what sources are found and the centroid chosen\n",
    "positions = np.transpose((nearby_sources['xcentroid'], nearby_sources['ycentroid']))\n",
    "apertures = CircularAperture(positions, r=6)\n",
    "\n",
    "# Define display limits using the radius\n",
    "x_min = int(x0 - radius - 20)\n",
    "x_max = int(x0 + radius + 20)\n",
    "y_min = int(y0 - radius - 20)\n",
    "y_max = int(y0 + radius + 20)\n",
    "\n",
    "# Plot zoomed-in image region\n",
    "\n",
    "# Normalize the image to see it better\n",
    "norm = simple_norm(aligned_img0, 'sqrt', percent=99)\n",
    "\n",
    "# Plot the figure\n",
    "plt.figure(figsize=(6, 6))\n",
    "plt.imshow(aligned_img0, origin='lower', cmap='gray', norm=norm)\n",
    "\n",
    "# Limit the display to a square around the reference point\n",
    "plt.xlim(x_min, x_max)\n",
    "plt.ylim(y_min, y_max)\n",
    "\n",
    "# Plot apertures and reference mark\n",
    "apertures.plot(color='red', lw=1.5)\n",
    "# plot and label the 'dynamical center'\n",
    "plt.legend()\n",
    "plt.show()"
   ]
  },
  {
   "cell_type": "code",
   "execution_count": null,
   "id": "8Rzp3nG01JsS",
   "metadata": {
    "id": "8Rzp3nG01JsS"
   },
   "outputs": [],
   "source": [
    "# --- If star is found then ---\n",
    "pos0 = positions[0]\n",
    "\n",
    "# If not, manually enter x and y 2 cells above\n",
    "pos0 = np.array([x_here, y_here]) # edit"
   ]
  },
  {
   "cell_type": "markdown",
   "id": "f413ecdc-2069-45c9-bfdc-67bdd239d0b5",
   "metadata": {
    "id": "f413ecdc-2069-45c9-bfdc-67bdd239d0b5"
   },
   "source": [
    "# aligned_img1"
   ]
  },
  {
   "cell_type": "code",
   "execution_count": null,
   "id": "3ca8e574-ea49-4dac-b149-bd5cc01439ca",
   "metadata": {
    "id": "3ca8e574-ea49-4dac-b149-bd5cc01439ca"
   },
   "outputs": [],
   "source": [
    "# --- Reference location and radius ---\n",
    "x0, y0 =    # dynamical center\n",
    "radius =    # radius to search around edit/change\n",
    "\n",
    "# --- Filter sources within the radius ---\n",
    "distances = # put in the distance calculation from each source to your reference pixel\n",
    "mask = # ensure that distances are less than the radius\n",
    "nearby_sources = sources1[mask]\n",
    "\n",
    "print(f\"Found {len(nearby_sources)} sources within {radius} pixels of ({x0}, {y0})\")\n",
    "print(nearby_sources[['xcentroid', 'ycentroid', 'flux']])"
   ]
  },
  {
   "cell_type": "code",
   "execution_count": null,
   "id": "70d5794c-67bc-4a69-9901-ffd90204049a",
   "metadata": {
    "id": "70d5794c-67bc-4a69-9901-ffd90204049a"
   },
   "outputs": [],
   "source": [
    "# Plot up what sources are found and the centroid chosen\n",
    "# If the reference star is successfully the only source identified, then we can save its pixel location\n",
    "# Plot up what sources are found and the centroid chosen\n",
    "positions = np.transpose((nearby_sources['xcentroid'], nearby_sources['ycentroid']))\n",
    "apertures = CircularAperture(positions, r=6)\n",
    "\n",
    "# Define display limits using the radius\n",
    "x_min = int(x0 - radius - 20)\n",
    "x_max = int(x0 + radius + 20)\n",
    "y_min = int(y0 - radius - 20)\n",
    "y_max = int(y0 + radius + 20)\n",
    "\n",
    "# Plot zoomed-in image region\n",
    "norm = simple_norm(aligned_img1, 'sqrt', percent=99)\n",
    "\n",
    "# Plot figure\n",
    "plt.figure(figsize=(6, 6))\n",
    "plt.imshow(aligned_img1, origin='lower', cmap='gray', norm=norm)\n",
    "\n",
    "# Limit the display to a square around the reference point\n",
    "plt.xlim(x_min, x_max)\n",
    "plt.ylim(y_min, y_max)\n",
    "\n",
    "# Plot apertures and reference mark\n",
    "apertures.plot(color='red', lw=1.5)\n",
    "# plot/label the 'dynamical center'\n",
    "plt.legend()\n",
    "plt.show()"
   ]
  },
  {
   "cell_type": "code",
   "execution_count": null,
   "id": "kze42RA_1uuL",
   "metadata": {
    "id": "kze42RA_1uuL"
   },
   "outputs": [],
   "source": [
    "# --- If star is found then ---\n",
    "pos1 = positions[0]\n",
    "\n",
    "# If not, manually enter x and y 2 cells above\n",
    "pos1 = np.array([x_here, y_here]) # edit"
   ]
  },
  {
   "cell_type": "markdown",
   "id": "4fc2e6e1-5407-48c6-9140-5ae0bf137160",
   "metadata": {
    "id": "4fc2e6e1-5407-48c6-9140-5ae0bf137160"
   },
   "source": [
    "# aligned_img2"
   ]
  },
  {
   "cell_type": "code",
   "execution_count": null,
   "id": "72b4cddf-2044-4bfc-add0-7b6d8fe6c61e",
   "metadata": {
    "id": "72b4cddf-2044-4bfc-add0-7b6d8fe6c61e"
   },
   "outputs": [],
   "source": [
    "# --- Reference location and radius ---\n",
    "x0, y0 =    # dynamical center\n",
    "radius =    # radius to search around, edit/change\n",
    "\n",
    "# --- Filter sources within the radius ---\n",
    "distances = # put in the distance calculation from each source to your reference pixel\n",
    "mask = # ensure that the distances are less than the radius\n",
    "nearby_sources = sources2[mask]\n",
    "\n",
    "print(f\"Found {len(nearby_sources)} sources within {radius} pixels of ({x0}, {y0})\")\n",
    "print(nearby_sources[['xcentroid', 'ycentroid', 'flux']])"
   ]
  },
  {
   "cell_type": "code",
   "execution_count": null,
   "id": "ae7a96cd-6e5a-46df-9c0f-a5695f41697e",
   "metadata": {
    "id": "ae7a96cd-6e5a-46df-9c0f-a5695f41697e"
   },
   "outputs": [],
   "source": [
    "# Plot up what sources are found and the centroid chosen\n",
    "# If the reference star is successfully the only source identified, then we can save its pixel location\n",
    "# Plot up what sources are found and the centroid chosen\n",
    "\n",
    "# Positions of sources\n",
    "positions = np.transpose((nearby_sources['xcentroid'], nearby_sources['ycentroid']))\n",
    "apertures = CircularAperture(positions, r=6)\n",
    "\n",
    "# Define display limits using the radius\n",
    "x_min = int(x0 - radius - 20)\n",
    "x_max = int(x0 + radius + 20)\n",
    "y_min = int(y0 - radius - 20)\n",
    "y_max = int(y0 + radius + 20)\n",
    "\n",
    "# Plot zoomed-in image region\n",
    "\n",
    "# Normalize the image to see it better\n",
    "norm = simple_norm(aligned_img2, 'sqrt', percent=99)\n",
    "\n",
    "# Plot the figure\n",
    "plt.figure(figsize=(6, 6))\n",
    "plt.imshow(aligned_img2, origin='lower', cmap='gray', norm=norm)\n",
    "\n",
    "# Limit the display to a square around the reference point\n",
    "plt.xlim(x_min, x_max)\n",
    "plt.ylim(y_min, y_max)\n",
    "\n",
    "# Plot apertures and reference mark\n",
    "apertures.plot(color='red', lw=1.5)\n",
    "# Plot the dynamical center\n",
    "plt.legend()\n",
    "plt.show()"
   ]
  },
  {
   "cell_type": "code",
   "execution_count": null,
   "id": "PyMMovw71-k0",
   "metadata": {
    "id": "PyMMovw71-k0"
   },
   "outputs": [],
   "source": [
    "# --- If star is found then ---\n",
    "pos2 = positions[0]\n",
    "\n",
    "# If not, manually enter x and y 2 cells above\n",
    "pos2 = np.array([x_here, y_here]) # edit"
   ]
  },
  {
   "cell_type": "markdown",
   "id": "075fc402-1105-460f-b2ce-9533ef9c027e",
   "metadata": {
    "id": "075fc402-1105-460f-b2ce-9533ef9c027e"
   },
   "source": [
    "Lets make a plot of the position of this star as a function of time\n",
    "\n",
    "First, convert years to decimal years. We want to do this just to make it easier to talk about time in python. You can do math with floats, but not strings!"
   ]
  },
  {
   "cell_type": "code",
   "execution_count": null,
   "id": "c7b82f76-9a1f-4234-84d6-04b25cebf057",
   "metadata": {
    "id": "c7b82f76-9a1f-4234-84d6-04b25cebf057"
   },
   "outputs": [],
   "source": [
    "# Input date string\n",
    "date0 = \"2019-08-14\"\n",
    "date1 = \"2021-08-21\"\n",
    "date2 = \"2023-08-09\"\n",
    "\n",
    "# Convert to astropy Time object\n",
    "t0 = Time(date0)\n",
    "t1 = Time(date1)\n",
    "t2 = Time(date2)\n",
    "\n",
    "# Get decimal year\n",
    "date0 = t0.decimalyear\n",
    "date1 = t1.decimalyear\n",
    "date2 = t2.decimalyear\n",
    "\n",
    "date = [date0, date1, date2]\n",
    "\n",
    "# Normalize the time such that the first epoch is year 0\n",
    "t = np.array([d - date0 for d in date])"
   ]
  },
  {
   "cell_type": "markdown",
   "id": "5a0faff6-d377-4b1d-a6ef-3b62cebdbc7f",
   "metadata": {
    "id": "5a0faff6-d377-4b1d-a6ef-3b62cebdbc7f"
   },
   "source": [
    "Next organize the positions of our moving star"
   ]
  },
  {
   "cell_type": "code",
   "execution_count": null,
   "id": "e960478d-9a38-4aa4-9c1b-69f70f65adf6",
   "metadata": {
    "id": "e960478d-9a38-4aa4-9c1b-69f70f65adf6"
   },
   "outputs": [],
   "source": [
    "pos = np.array([pos0, pos1, pos2])"
   ]
  },
  {
   "cell_type": "markdown",
   "id": "61690b4b-daf2-4adc-a067-d177135c5412",
   "metadata": {
    "id": "61690b4b-daf2-4adc-a067-d177135c5412"
   },
   "source": [
    "Now we'll initialize the dynamical center to be x = 523 and y = 630"
   ]
  },
  {
   "cell_type": "code",
   "execution_count": null,
   "id": "febdcb15-9a05-41a5-ac39-1357191532d7",
   "metadata": {
    "id": "febdcb15-9a05-41a5-ac39-1357191532d7"
   },
   "outputs": [],
   "source": [
    "ref = [523, 630]"
   ]
  },
  {
   "cell_type": "markdown",
   "id": "519fd2bd-1f27-4327-b923-067851639ce5",
   "metadata": {
    "id": "519fd2bd-1f27-4327-b923-067851639ce5"
   },
   "source": [
    "Lets plot it!"
   ]
  },
  {
   "cell_type": "code",
   "execution_count": null,
   "id": "21f44d7f-5251-49ce-9e51-c101bfff4f72",
   "metadata": {
    "id": "21f44d7f-5251-49ce-9e51-c101bfff4f72"
   },
   "outputs": [],
   "source": [
    "# Extract x and y from positions\n",
    "x_vals = pos[:, 0]\n",
    "y_vals = pos[:, 1]\n",
    "\n",
    "# Create colormap normalized to the time range\n",
    "norm = colors.Normalize(vmin=t.min(), vmax=t.max())\n",
    "cmap = cm.viridis\n",
    "\n",
    "# Plot\n",
    "plt.figure(figsize=(6, 6))\n",
    "sc = # Enter the points of your star here\n",
    "\n",
    "\n",
    "# Plot the dynamical center\n",
    "plt.scatter(ref[0], ref[1], marker = \"+\", s = 100, color = \"black\", linewidth = 5)\n",
    "\n",
    "# Label each point with the year\n",
    "for x, y, d in zip(x_vals, y_vals, t):\n",
    "    plt.text(x + 0.5, y + 0.5, f\"{d:.1f}\", fontsize=9)\n",
    "\n",
    "# Add colorbar\n",
    "cbar = plt.colorbar(sc)\n",
    "cbar.set_label('Decimal Year')\n",
    "\n",
    "# Formatting\n",
    "plt.xlabel('X Pixel')\n",
    "plt.ylabel('Y Pixel')\n",
    "plt.title() # input a title\n",
    "plt.grid(True)\n",
    "ax = plt.gca()\n",
    "ax.margins(x=0.3, y=0.3)\n",
    "plt.tight_layout()\n",
    "plt.show()"
   ]
  },
  {
   "cell_type": "markdown",
   "id": "3d035108-f6a0-42c9-93ec-2f1e875467ee",
   "metadata": {
    "id": "3d035108-f6a0-42c9-93ec-2f1e875467ee"
   },
   "source": [
    "### Step 3: Getting a physical velocity from our measurements\n",
    "\n",
    "What we should have now is star motion with respect to the dynamical center in units of pixels per year. The amount of pixels depends on what kind of detector we are using and so can change if we used a different detector. In science we always want to communicate in terms that everyone can understand, so we need to convert the pixels into something more fundamental --> *arcseconds*\n",
    "\n",
    "To do this, we need to know the conversion from pixels to arcseconds (this is called the *plate scale* of the detector).\n",
    "\n",
    "We are using the instrument called NIRC2 mounted on the Keck telescopes (instrument page here: https://www2.keck.hawaii.edu/inst/nirc2/). The plate scale is *0.009942 arcseconds/pixel*.\n",
    "\n",
    "Let's go ahead and get everything in terms of arcseconds. First, lets define the dynamical center from (523, 630) pixels to (0,0) arcseconds, since it is our reference point.\n",
    "\n",
    "Next, let's see what the offset in pixels is from this reference point to each point"
   ]
  },
  {
   "cell_type": "code",
   "execution_count": null,
   "id": "63cd9966-bd7b-4de4-8ce9-22377f1727aa",
   "metadata": {
    "id": "63cd9966-bd7b-4de4-8ce9-22377f1727aa"
   },
   "outputs": [],
   "source": [
    "offsets_pix = pos - ref\n",
    "offsets_pix"
   ]
  },
  {
   "cell_type": "markdown",
   "id": "778db52f-5101-48a4-86bb-45f210b6e422",
   "metadata": {
    "id": "778db52f-5101-48a4-86bb-45f210b6e422"
   },
   "source": [
    "Now convert these pixels into arcseconds"
   ]
  },
  {
   "cell_type": "code",
   "execution_count": null,
   "id": "f944caf2-0298-4eac-b660-d8a2b1379a44",
   "metadata": {
    "id": "f944caf2-0298-4eac-b660-d8a2b1379a44"
   },
   "outputs": [],
   "source": [
    "offsets_arcseconds = offsets_pix * 0.009942\n",
    "offsets_arcseconds"
   ]
  },
  {
   "cell_type": "markdown",
   "id": "Rfk4oB0I2-ue",
   "metadata": {
    "id": "Rfk4oB0I2-ue"
   },
   "source": [
    "Now plot the same figure as before but now our axes will be offset arcseconds from the dynamical center color coded with time:"
   ]
  },
  {
   "cell_type": "code",
   "execution_count": null,
   "id": "417bd37b-6ce8-4136-a24f-05364d68758e",
   "metadata": {
    "id": "417bd37b-6ce8-4136-a24f-05364d68758e"
   },
   "outputs": [],
   "source": [
    "# Extract x and y from positions\n",
    "x_vals = offsets_arcseconds[:, 0]\n",
    "y_vals = offsets_arcseconds[:, 1]\n",
    "\n",
    "# Create colormap normalized to the time range\n",
    "norm = colors.Normalize(vmin=t.min(), vmax=t.max())\n",
    "cmap = cm.viridis\n",
    "\n",
    "# Plot\n",
    "plt.figure(figsize=(6, 6))\n",
    "sc = # input your plot of the offset arcseconds here\n",
    "\n",
    "\n",
    "# Plot the dynamical center\n",
    "plt.scatter(0, 0, marker = \"+\", s = 100, color = \"black\", linewidth = 5)\n",
    "\n",
    "# Label each point with the year\n",
    "for x, y, d in zip(x_vals, y_vals, t):\n",
    "    plt.text(x + 0.005, y + 0.005, f\"{d:.1f}\", fontsize=9)\n",
    "\n",
    "# Add colorbar\n",
    "cbar = plt.colorbar(sc)\n",
    "cbar.set_label('Decimal Year')\n",
    "\n",
    "# Formatting\n",
    "plt.xlabel('RA offset [arcseconds]')\n",
    "plt.ylabel('Dec offset [arcseconds]')\n",
    "plt.title() # input title\n",
    "plt.grid(True)\n",
    "ax = plt.gca()\n",
    "ax.margins(x=0.3, y=0.3)\n",
    "plt.tight_layout()\n",
    "plt.show()"
   ]
  },
  {
   "cell_type": "markdown",
   "id": "fa420f22-426b-4d14-8253-7758f3b27677",
   "metadata": {
    "id": "fa420f22-426b-4d14-8253-7758f3b27677"
   },
   "source": [
    "Now we can obtain something called *proper motion* of this star (arcseconds / year) which can be thought of as a type of velocity. We can do this by fitting a line through the RA vs time and Dec vs time data.\n",
    "\n",
    "\n",
    "\n",
    "![](images.png)"
   ]
  },
  {
   "cell_type": "code",
   "execution_count": null,
   "id": "rNKi2VTE3muI",
   "metadata": {
    "id": "rNKi2VTE3muI"
   },
   "outputs": [],
   "source": [
    "# Fit a line to x(t) and y(t) separately: x = mu_x * t + x0\n",
    "# Try to estimate this roughly on your own first!\n",
    "\n",
    "# Optional: plot data and fits\n",
    "plt.figure(figsize=(8,4))\n",
    "\n",
    "plt.subplot(1,2,1)\n",
    "plt.scatter(t, offsets_arcseconds[:,0], color='blue', label='Data')\n",
    "plt.xlabel('Years since 2019')\n",
    "plt.ylabel('RA Offset [arcsec]')\n",
    "plt.title() # input title\n",
    "plt.legend()\n",
    "plt.grid()\n",
    "\n",
    "plt.subplot(1,2,2)\n",
    "plt.scatter(t, offsets_arcseconds[:,1], color='green', label='Data')\n",
    "plt.xlabel('Years since 2019')\n",
    "plt.ylabel('Dec Offset [arcsec]')\n",
    "plt.title() # input title\n",
    "plt.legend()\n",
    "plt.grid()\n",
    "\n",
    "plt.tight_layout()\n",
    "plt.show()"
   ]
  },
  {
   "cell_type": "markdown",
   "id": "1eS_g_7-4B9h",
   "metadata": {
    "id": "1eS_g_7-4B9h"
   },
   "source": [
    "Using the points in the plots above, compute the equations for the line fit to RA offset vs time and Dec offset vs time. Input your answer in the cell below"
   ]
  },
  {
   "cell_type": "code",
   "execution_count": null,
   "id": "9oTxy2O737bR",
   "metadata": {
    "id": "9oTxy2O737bR"
   },
   "outputs": [],
   "source": [
    "mu_x = # your proper motion in RA offset estimate (slope of the line)\n",
    "mu_y = # your proper motion in Dec offset estimate (slope of the line)"
   ]
  },
  {
   "cell_type": "markdown",
   "id": "wnhuW2eS4Ojg",
   "metadata": {
    "id": "wnhuW2eS4Ojg"
   },
   "source": [
    "Now, we'll do the same exercise using a fitting tool called *polyfit*. Compare your result from the cell above to this new result from polyfit"
   ]
  },
  {
   "cell_type": "code",
   "execution_count": null,
   "id": "26dcf893-8d6e-42a1-8665-666d0058c53d",
   "metadata": {
    "id": "26dcf893-8d6e-42a1-8665-666d0058c53d"
   },
   "outputs": [],
   "source": [
    "# Fit a line to x(t) and y(t) separately: x = mu_x * t + x0\n",
    "# Try to estimate this roughly on your own first!\n",
    "\n",
    "\n",
    "coeff_x = np.polyfit(t, offsets_arcseconds[:, 0], 1)\n",
    "coeff_y = np.polyfit(t, offsets_arcseconds[:, 1], 1)\n",
    "\n",
    "mu_x = coeff_x[0]  # proper motion in RA offset (arcsec/year)\n",
    "mu_y = coeff_y[0]  # proper motion in Dec offset (arcsec/year)\n",
    "\n",
    "print(f\"Proper motion in RA (polyfit result):  {mu_x:.4f} arcsec/year\")\n",
    "print(f\"Proper motion in Dec (polyfit result): {mu_y:.4f} arcsec/year\")\n",
    "\n",
    "print(f\"Proper motion in RA (your result):  {ENTER YOUR RESULT FROM ABOVE} arcsec/year\")\n",
    "print(f\"Proper motion in Dec (your result): {ENTER YOUR RESULT FROM ABOVE} arcsec/year\")\n",
    "\n",
    "# Optional: plot data and fits\n",
    "plt.figure(figsize=(8,4))\n",
    "\n",
    "plt.subplot(1,2,1)\n",
    "plt.scatter(t, offsets_arcseconds[:,0], color='blue', label='Data')\n",
    "plt.plot(t, np.polyval(coeff_x, t), 'r-', label='Fit')\n",
    "plt.xlabel('Years since 2019')\n",
    "plt.ylabel('RA Offset [arcsec]')\n",
    "plt.title() # input title\n",
    "plt.legend()\n",
    "plt.grid()\n",
    "\n",
    "plt.subplot(1,2,2)\n",
    "plt.scatter(t, offsets_arcseconds[:,1], color='green', label='Data')\n",
    "plt.plot(t, np.polyval(coeff_y, t), 'r-', label='Fit')\n",
    "plt.xlabel('Years since 2019')\n",
    "plt.ylabel('Dec Offset [arcsec]')\n",
    "plt.title() # input title\n",
    "plt.legend()\n",
    "plt.grid()\n",
    "\n",
    "plt.tight_layout()\n",
    "plt.show()\n"
   ]
  },
  {
   "cell_type": "markdown",
   "id": "5f81af92-84ef-4f9a-8e2b-f4139953a302",
   "metadata": {
    "id": "5f81af92-84ef-4f9a-8e2b-f4139953a302"
   },
   "source": [
    "![](images-2.png)"
   ]
  },
  {
   "cell_type": "code",
   "execution_count": null,
   "id": "bd7582f4-04be-4989-b7fa-2ee5e71a708a",
   "metadata": {
    "id": "bd7582f4-04be-4989-b7fa-2ee5e71a708a"
   },
   "outputs": [],
   "source": [
    "# Now the final proper motion we want is the hypotenuse of our proper motion in x and y. How can we find that?\n",
    "# Input the formula below:\n",
    "\n",
    "proper_motion =  #edit\n",
    "proper_motion"
   ]
  },
  {
   "cell_type": "markdown",
   "id": "332ab80b-0694-4e6e-9d85-a3de77564171",
   "metadata": {
    "id": "332ab80b-0694-4e6e-9d85-a3de77564171"
   },
   "source": [
    "### Step 4: Going from velocity, to mass"
   ]
  },
  {
   "cell_type": "markdown",
   "id": "8c53bd68-a58b-4ae8-958f-6b1ab022dc10",
   "metadata": {
    "id": "8c53bd68-a58b-4ae8-958f-6b1ab022dc10"
   },
   "source": [
    "So the proper motion is about (edit here):\n",
    "\n",
    "$$\\mu = $$\n",
    "\n",
    "We can now convert this to a transverse velocity by using the known distance to the galactic center. The distance to the galactic center is :\n",
    "\n",
    "$$d = 8200 pc$$\n",
    "\n",
    "And the formula to go from proper motion to transverse velocity (in km/s) is :\n",
    "\n",
    "$$v_t = \\mu * 4.74 * d$$"
   ]
  },
  {
   "cell_type": "code",
   "execution_count": null,
   "id": "b5b4d241-ca22-44dd-89a1-146aedc70a4b",
   "metadata": {
    "id": "b5b4d241-ca22-44dd-89a1-146aedc70a4b"
   },
   "outputs": [],
   "source": [
    "d = 8200\n",
    "v = # input formula here\n",
    "v"
   ]
  },
  {
   "cell_type": "markdown",
   "id": "53d4dc6d-eb32-4037-87e4-1908c1346fa4",
   "metadata": {
    "id": "53d4dc6d-eb32-4037-87e4-1908c1346fa4"
   },
   "source": [
    "Assuming Keplerian motion and a bound system, we know from kepler's laws that\n",
    "\n",
    "$$v = \\sqrt{\\frac{GM}{a}}$$\n",
    "\n",
    "Where G is the gravitational constant, M is the mass of the central object (in this case, what this star is orbiting), and a is the distance from the star to the central object."
   ]
  },
  {
   "cell_type": "code",
   "execution_count": null,
   "id": "36834b24-39c0-4751-bafe-96df43fc02e3",
   "metadata": {
    "id": "36834b24-39c0-4751-bafe-96df43fc02e3"
   },
   "outputs": [],
   "source": [
    "x, y = offsets_arcseconds[\"choose 0-2\"] # choose one of the three distances in arcseconds (doesn't really matter all too much)\n",
    "a = # Compute a from x, y and convert this from arcseconds to distance in meters (m)\n",
    "G =  # define the gravitational constant\n",
    "v = # convert our velocity from km/s to m/s"
   ]
  },
  {
   "cell_type": "code",
   "execution_count": null,
   "id": "309505d5-1bf4-450b-b158-1cdaaadb9c08",
   "metadata": {
    "id": "309505d5-1bf4-450b-b158-1cdaaadb9c08"
   },
   "outputs": [],
   "source": [
    "M = # solve for the mass\n",
    "M"
   ]
  },
  {
   "cell_type": "markdown",
   "id": "f553a4b6-dcef-4a2c-b48f-fc0fb59358f2",
   "metadata": {
    "id": "f553a4b6-dcef-4a2c-b48f-fc0fb59358f2"
   },
   "source": [
    "a useful unit for mass in astronomy is solar mass. Convert the above number into units of solar masses\n",
    "\n",
    "$$M_{\\odot} = 2 \\times 10^{30} kg$$"
   ]
  },
  {
   "cell_type": "code",
   "execution_count": null,
   "id": "82fb4e35-481c-4936-95fe-1f9d6fc18b6b",
   "metadata": {
    "id": "82fb4e35-481c-4936-95fe-1f9d6fc18b6b"
   },
   "outputs": [],
   "source": [
    "M = M / \"conversion factor here\"\n",
    "M"
   ]
  },
  {
   "cell_type": "markdown",
   "id": "9ef5526e-528a-4add-88e9-e0840810b7f3",
   "metadata": {
    "id": "9ef5526e-528a-4add-88e9-e0840810b7f3"
   },
   "source": [
    "# The mass of the supermassive black hole at the center of the Milky-Way galaxy must be somewhere around M = (edit)\n",
    "\n",
    "### Some final notes\n",
    "CONGRATS! You did it! The mass you found here should be on the order of a million solar masses. That's really big. The methods that we used here are similar in concept to the methods used in the official paper that discovered this object: https://iopscience.iop.org/article/10.1086/306528/pdf (although our approach was much more crude). We should note some things about our result:\n",
    "\n",
    "1. This is technically the \"mass enclosed\", not the actual mass of the supermassive black hole. What that means is that the mass within the distance we chose (a) includes the supermassive black hole, but also other things that we might not see currently, like smaller fainter stars, or other weird objects that influence gravity. **Nonetheless, something big is in a small region of space!**\n",
    "\n",
    "2. We found the *transverse* velocity of the star, **not the total velocity**. The transverse velocity is its velocity across the plane of the sky. This star could very well be moving *towards or away from us too!* (i.e., line of sight velocity). If we took this into account, our answer would probably change a bit. However, we obtained a pretty close result anyways! (**How could we measure the line of sight velocity of these stars using other methods discussed in this workshop? Discuss with a partner)**\n",
    "\n",
    "3. We assumed that the orbit of this star was nearly circular, which as we learned from the beginning, isn't really true. In fact, some of these stars orbit at very high eccentricites! In order to get a more accurate estimate of the mass, we would have to consider many more things about the star's orbital motion in addition to its period and semi-major axis (**What are some things about the orbit we did not consider? Discuss with a partner)**\n"
   ]
  },
  {
   "cell_type": "code",
   "execution_count": null,
   "id": "b7912cc2-59ab-4bbc-97de-67598b9c3e55",
   "metadata": {
    "id": "b7912cc2-59ab-4bbc-97de-67598b9c3e55"
   },
   "outputs": [],
   "source": []
  },
  {
   "cell_type": "code",
   "execution_count": null,
   "id": "15d1fc91-9206-4d88-b293-4f13c4fa198f",
   "metadata": {
    "id": "15d1fc91-9206-4d88-b293-4f13c4fa198f"
   },
   "outputs": [],
   "source": []
  }
 ],
 "metadata": {
  "colab": {
   "provenance": []
  },
  "kernelspec": {
   "display_name": "Python 3 (ipykernel)",
   "language": "python",
   "name": "python3"
  },
  "language_info": {
   "codemirror_mode": {
    "name": "ipython",
    "version": 3
   },
   "file_extension": ".py",
   "mimetype": "text/x-python",
   "name": "python",
   "nbconvert_exporter": "python",
   "pygments_lexer": "ipython3",
   "version": "3.9.13"
  }
 },
 "nbformat": 4,
 "nbformat_minor": 5
}
